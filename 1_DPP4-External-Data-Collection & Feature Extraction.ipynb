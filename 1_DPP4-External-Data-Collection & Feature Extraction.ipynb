{
 "cells": [
  {
   "cell_type": "code",
   "execution_count": 1,
   "id": "b4accb3a-0ad4-44f6-84f3-94802c421330",
   "metadata": {
    "tags": []
   },
   "outputs": [
    {
     "name": "stdout",
     "output_type": "stream",
     "text": [
      "fatal: destination path '/data/user/home/mhossai5/DPP-New2025/utils' already exists and is not an empty directory.\n"
     ]
    }
   ],
   "source": [
    "ROOT_DIR ='/data/user/home/mhossai5/DPP-New2025'\n",
    "!git clone https://github.com/brendaferrari/AutoPaDELPy.git -l {ROOT_DIR}/utils"
   ]
  },
  {
   "cell_type": "code",
   "execution_count": 2,
   "id": "52964dbf-9010-4dcb-93b7-3674c4c318a0",
   "metadata": {
    "tags": []
   },
   "outputs": [],
   "source": [
    "import os\n",
    "import sys\n",
    "sys.path.insert(0,os.path.join(\n",
    "    ROOT_DIR,'utils'\n",
    "))\n",
    "import pandas as pd\n",
    "import warnings\n",
    "warnings.filterwarnings(\"ignore\")"
   ]
  },
  {
   "cell_type": "markdown",
   "id": "f9cfc8af-2ca6-4406-927b-0f1f30e789fe",
   "metadata": {},
   "source": [
    "# Data Collection"
   ]
  },
  {
   "cell_type": "code",
   "execution_count": 3,
   "id": "064fd386-3418-4a36-a93c-bb74e37ca851",
   "metadata": {
    "tags": []
   },
   "outputs": [
    {
     "data": {
      "text/html": [
       "<div>\n",
       "<style scoped>\n",
       "    .dataframe tbody tr th:only-of-type {\n",
       "        vertical-align: middle;\n",
       "    }\n",
       "\n",
       "    .dataframe tbody tr th {\n",
       "        vertical-align: top;\n",
       "    }\n",
       "\n",
       "    .dataframe thead th {\n",
       "        text-align: right;\n",
       "    }\n",
       "</style>\n",
       "<table border=\"1\" class=\"dataframe\">\n",
       "  <thead>\n",
       "    <tr style=\"text-align: right;\">\n",
       "      <th></th>\n",
       "      <th>Compound ID</th>\n",
       "      <th>Uniprot ID</th>\n",
       "      <th>Compound Name</th>\n",
       "      <th>Standard inchi key</th>\n",
       "      <th>Max Phase</th>\n",
       "      <th>Target Pref Name</th>\n",
       "      <th>Gene Names</th>\n",
       "      <th>Target Class</th>\n",
       "      <th>Wild type or mutant</th>\n",
       "      <th>Mutation information</th>\n",
       "      <th>...</th>\n",
       "      <th>Volume</th>\n",
       "      <th>Issue</th>\n",
       "      <th>Authors</th>\n",
       "      <th>Annotation Comments</th>\n",
       "      <th>Assay ID</th>\n",
       "      <th>DTC Tid</th>\n",
       "      <th>DTC Activity ID</th>\n",
       "      <th>DTC Molregno</th>\n",
       "      <th>Record ID</th>\n",
       "      <th>DTC Document ID</th>\n",
       "    </tr>\n",
       "  </thead>\n",
       "  <tbody>\n",
       "    <tr>\n",
       "      <th>0</th>\n",
       "      <td>NaN</td>\n",
       "      <td>P27487</td>\n",
       "      <td>SURECN7126947</td>\n",
       "      <td>VZTHEVPZHGVFET-UHFFFAOYSA-N</td>\n",
       "      <td>0</td>\n",
       "      <td>DIPEPTIDYL PEPTIDASE IV</td>\n",
       "      <td>DPP4</td>\n",
       "      <td>Enzyme</td>\n",
       "      <td>NaN</td>\n",
       "      <td>NaN</td>\n",
       "      <td>...</td>\n",
       "      <td>NaN</td>\n",
       "      <td>NaN</td>\n",
       "      <td>NaN</td>\n",
       "      <td>NaN</td>\n",
       "      <td>NaN</td>\n",
       "      <td>DTCT0024079</td>\n",
       "      <td>14711717</td>\n",
       "      <td>DTCC01744681</td>\n",
       "      <td>2098492</td>\n",
       "      <td>68003</td>\n",
       "    </tr>\n",
       "    <tr>\n",
       "      <th>1</th>\n",
       "      <td>NaN</td>\n",
       "      <td>P27487</td>\n",
       "      <td>AKOS008858589</td>\n",
       "      <td>IDZNFPHPWBHHSS-UHFFFAOYSA-N</td>\n",
       "      <td>0</td>\n",
       "      <td>DIPEPTIDYL PEPTIDASE IV</td>\n",
       "      <td>DPP4</td>\n",
       "      <td>Enzyme</td>\n",
       "      <td>NaN</td>\n",
       "      <td>NaN</td>\n",
       "      <td>...</td>\n",
       "      <td>NaN</td>\n",
       "      <td>NaN</td>\n",
       "      <td>NaN</td>\n",
       "      <td>NaN</td>\n",
       "      <td>NaN</td>\n",
       "      <td>DTCT0024079</td>\n",
       "      <td>14722185</td>\n",
       "      <td>DTCC01745076</td>\n",
       "      <td>2102506</td>\n",
       "      <td>68374</td>\n",
       "    </tr>\n",
       "    <tr>\n",
       "      <th>2</th>\n",
       "      <td>NaN</td>\n",
       "      <td>P27487</td>\n",
       "      <td>AGN-PC-00ANFJ</td>\n",
       "      <td>GDYIRHKDJLPJTB-UHFFFAOYSA-N</td>\n",
       "      <td>0</td>\n",
       "      <td>DIPEPTIDYL PEPTIDASE IV</td>\n",
       "      <td>DPP4</td>\n",
       "      <td>Enzyme</td>\n",
       "      <td>NaN</td>\n",
       "      <td>NaN</td>\n",
       "      <td>...</td>\n",
       "      <td>NaN</td>\n",
       "      <td>NaN</td>\n",
       "      <td>NaN</td>\n",
       "      <td>NaN</td>\n",
       "      <td>NaN</td>\n",
       "      <td>DTCT0024079</td>\n",
       "      <td>14723839</td>\n",
       "      <td>DTCC01745298</td>\n",
       "      <td>2102761</td>\n",
       "      <td>68050</td>\n",
       "    </tr>\n",
       "    <tr>\n",
       "      <th>3</th>\n",
       "      <td>NaN</td>\n",
       "      <td>P27487</td>\n",
       "      <td>NaN</td>\n",
       "      <td>ABZSPJVXTTUFAA-UHFFFAOYSA-N</td>\n",
       "      <td>0</td>\n",
       "      <td>DIPEPTIDYL PEPTIDASE IV</td>\n",
       "      <td>DPP4</td>\n",
       "      <td>Enzyme</td>\n",
       "      <td>NaN</td>\n",
       "      <td>NaN</td>\n",
       "      <td>...</td>\n",
       "      <td>NaN</td>\n",
       "      <td>NaN</td>\n",
       "      <td>NaN</td>\n",
       "      <td>NaN</td>\n",
       "      <td>NaN</td>\n",
       "      <td>DTCT0024079</td>\n",
       "      <td>14705495</td>\n",
       "      <td>DTCC01744004</td>\n",
       "      <td>2096809</td>\n",
       "      <td>68036</td>\n",
       "    </tr>\n",
       "    <tr>\n",
       "      <th>4</th>\n",
       "      <td>NaN</td>\n",
       "      <td>P27487</td>\n",
       "      <td>NaN</td>\n",
       "      <td>ABZSPJVXTTUFAA-UHFFFAOYSA-N</td>\n",
       "      <td>0</td>\n",
       "      <td>DIPEPTIDYL PEPTIDASE IV</td>\n",
       "      <td>DPP4</td>\n",
       "      <td>Enzyme</td>\n",
       "      <td>NaN</td>\n",
       "      <td>NaN</td>\n",
       "      <td>...</td>\n",
       "      <td>NaN</td>\n",
       "      <td>NaN</td>\n",
       "      <td>NaN</td>\n",
       "      <td>NaN</td>\n",
       "      <td>NaN</td>\n",
       "      <td>DTCT0024079</td>\n",
       "      <td>14719410</td>\n",
       "      <td>DTCC01744004</td>\n",
       "      <td>2096809</td>\n",
       "      <td>68036</td>\n",
       "    </tr>\n",
       "  </tbody>\n",
       "</table>\n",
       "<p>5 rows × 43 columns</p>\n",
       "</div>"
      ],
      "text/plain": [
       "  Compound ID Uniprot ID  Compound Name           Standard inchi key  \\\n",
       "0         NaN     P27487  SURECN7126947  VZTHEVPZHGVFET-UHFFFAOYSA-N   \n",
       "1         NaN     P27487  AKOS008858589  IDZNFPHPWBHHSS-UHFFFAOYSA-N   \n",
       "2         NaN     P27487  AGN-PC-00ANFJ  GDYIRHKDJLPJTB-UHFFFAOYSA-N   \n",
       "3         NaN     P27487            NaN  ABZSPJVXTTUFAA-UHFFFAOYSA-N   \n",
       "4         NaN     P27487            NaN  ABZSPJVXTTUFAA-UHFFFAOYSA-N   \n",
       "\n",
       "   Max Phase         Target Pref Name Gene Names Target Class  \\\n",
       "0          0  DIPEPTIDYL PEPTIDASE IV       DPP4       Enzyme   \n",
       "1          0  DIPEPTIDYL PEPTIDASE IV       DPP4       Enzyme   \n",
       "2          0  DIPEPTIDYL PEPTIDASE IV       DPP4       Enzyme   \n",
       "3          0  DIPEPTIDYL PEPTIDASE IV       DPP4       Enzyme   \n",
       "4          0  DIPEPTIDYL PEPTIDASE IV       DPP4       Enzyme   \n",
       "\n",
       "   Wild type or mutant  Mutation information  ...  Volume Issue Authors  \\\n",
       "0                  NaN                   NaN  ...     NaN   NaN     NaN   \n",
       "1                  NaN                   NaN  ...     NaN   NaN     NaN   \n",
       "2                  NaN                   NaN  ...     NaN   NaN     NaN   \n",
       "3                  NaN                   NaN  ...     NaN   NaN     NaN   \n",
       "4                  NaN                   NaN  ...     NaN   NaN     NaN   \n",
       "\n",
       "   Annotation Comments Assay ID      DTC Tid DTC Activity ID  DTC Molregno  \\\n",
       "0                  NaN      NaN  DTCT0024079        14711717  DTCC01744681   \n",
       "1                  NaN      NaN  DTCT0024079        14722185  DTCC01745076   \n",
       "2                  NaN      NaN  DTCT0024079        14723839  DTCC01745298   \n",
       "3                  NaN      NaN  DTCT0024079        14705495  DTCC01744004   \n",
       "4                  NaN      NaN  DTCT0024079        14719410  DTCC01744004   \n",
       "\n",
       "   Record ID  DTC Document ID  \n",
       "0    2098492            68003  \n",
       "1    2102506            68374  \n",
       "2    2102761            68050  \n",
       "3    2096809            68036  \n",
       "4    2096809            68036  \n",
       "\n",
       "[5 rows x 43 columns]"
      ]
     },
     "execution_count": 3,
     "metadata": {},
     "output_type": "execute_result"
    }
   ],
   "source": [
    "df_external_set = pd.read_excel(os.path.join(\n",
    "    ROOT_DIR,'data/bioactivities_Tue_May_06_2025.xlsx'\n",
    "))\n",
    "df_external_set.head()"
   ]
  },
  {
   "cell_type": "code",
   "execution_count": 4,
   "id": "c81a4ab4-cb2a-4d32-91bd-89e3f4bee846",
   "metadata": {
    "tags": []
   },
   "outputs": [
    {
     "name": "stdout",
     "output_type": "stream",
     "text": [
      "<class 'pandas.core.frame.DataFrame'>\n",
      "RangeIndex: 6059 entries, 0 to 6058\n",
      "Data columns (total 43 columns):\n",
      " #   Column                              Non-Null Count  Dtype  \n",
      "---  ------                              --------------  -----  \n",
      " 0   Compound ID                         5971 non-null   object \n",
      " 1   Uniprot ID                          6059 non-null   object \n",
      " 2   Compound Name                       311 non-null    object \n",
      " 3   Standard inchi key                  5895 non-null   object \n",
      " 4   Max Phase                           6059 non-null   int64  \n",
      " 5   Target Pref Name                    6059 non-null   object \n",
      " 6   Gene Names                          6059 non-null   object \n",
      " 7   Target Class                        6059 non-null   object \n",
      " 8   Wild type or mutant                 0 non-null      float64\n",
      " 9   Mutation information                0 non-null      float64\n",
      " 10  PubMed ID                           5502 non-null   float64\n",
      " 11  End Point Standard Type             6059 non-null   object \n",
      " 12  End Point Standard Relation         5757 non-null   object \n",
      " 13  End Point Standard Value            5754 non-null   float64\n",
      " 14  End Point Standard Units            5673 non-null   object \n",
      " 15  Endpoint Mode of Action             0 non-null      float64\n",
      " 16  Assay Format                        389 non-null    object \n",
      " 17  Assay Type                          0 non-null      float64\n",
      " 18  Assay Sub Type                      0 non-null      float64\n",
      " 19  Inhibitor Type                      0 non-null      float64\n",
      " 20  Detection Technology                0 non-null      float64\n",
      " 21  Compound concentration value        0 non-null      float64\n",
      " 22  Compound concentration value units  0 non-null      float64\n",
      " 23  Substrate type                      0 non-null      float64\n",
      " 24  Substrate Type Standard Relation    0 non-null      float64\n",
      " 25  Substrate Type Standard Value       0 non-null      float64\n",
      " 26  Substrate Type Standard Units       0 non-null      float64\n",
      " 27  Assay cell line                     256 non-null    object \n",
      " 28  Assay Description                   5934 non-null   object \n",
      " 29  Activity Comments                   324 non-null    object \n",
      " 30  Title                               5558 non-null   object \n",
      " 31  Journal                             5707 non-null   object \n",
      " 32  Year                                5934 non-null   float64\n",
      " 33  Volume                              5707 non-null   float64\n",
      " 34  Issue                               5626 non-null   float64\n",
      " 35  Authors                             5295 non-null   object \n",
      " 36  Annotation Comments                 0 non-null      float64\n",
      " 37  Assay ID                            5934 non-null   float64\n",
      " 38  DTC Tid                             6059 non-null   object \n",
      " 39  DTC Activity ID                     6059 non-null   int64  \n",
      " 40  DTC Molregno                        6059 non-null   object \n",
      " 41  Record ID                           6059 non-null   int64  \n",
      " 42  DTC Document ID                     6059 non-null   int64  \n",
      "dtypes: float64(20), int64(4), object(19)\n",
      "memory usage: 2.0+ MB\n"
     ]
    }
   ],
   "source": [
    "df_external_set.info()"
   ]
  },
  {
   "cell_type": "code",
   "execution_count": 5,
   "id": "3e51de2d-affe-4561-b3bd-b3b03010cd1a",
   "metadata": {
    "tags": []
   },
   "outputs": [],
   "source": [
    "df_external_set= df_external_set[(\n",
    "    df_external_set['Target Pref Name'].isin(['DIPEPTIDYL PEPTIDASE IV']) \n",
    "    & \n",
    "    df_external_set['Gene Names'].isin(['DPP4'])\n",
    "    &\n",
    "    df_external_set['End Point Standard Type'].isin(['IC50'])\n",
    "    &\n",
    "    df_external_set['End Point Standard Units'].isin(['NM'])\n",
    ")]\n",
    "df_external_set = df_external_set.drop_duplicates(['Standard inchi key']).reset_index(drop = True)"
   ]
  },
  {
   "cell_type": "code",
   "execution_count": 6,
   "id": "68a626b8-d5e5-439e-ad53-6e1ac22218aa",
   "metadata": {
    "tags": []
   },
   "outputs": [
    {
     "data": {
      "text/plain": [
       "(3737, 43)"
      ]
     },
     "execution_count": 6,
     "metadata": {},
     "output_type": "execute_result"
    }
   ],
   "source": [
    "df_external_set.shape"
   ]
  },
  {
   "cell_type": "code",
   "execution_count": null,
   "id": "b8542a6e-50f8-4d8d-872d-7c8b43ede2e9",
   "metadata": {},
   "outputs": [],
   "source": [
    "# ref: https://drugtargetcommons.fimm.fi/bioactivities?id=DTCT0024079&category=Target&name=DPP4\n",
    "import pubchempy as pcp\n",
    "import pandas as pd\n",
    "from tqdm.auto import tqdm\n",
    "\n",
    "# Function using pubchempy\n",
    "def inchikey_to_smiles_pubchempy(inchikey):\n",
    "    compounds = pcp.get_compounds(inchikey, 'inchikey')\n",
    "    if compounds and compounds[0].canonical_smiles:\n",
    "        return compounds[0].canonical_smiles\n",
    "    return None\n",
    "\n",
    "# Add SMILES column\n",
    "df_external_set['SMILES'] = None\n",
    "for idx,row in tqdm(df_external_set.iterrows(),total = len(df_external_set)):\n",
    "    inchikey = row['Standard inchi key']\n",
    "    if pd.isna(df_external_set.at[idx,'SMILES']):\n",
    "        try:\n",
    "            df_external_set.at[idx,'SMILES'] = inchikey_to_smiles_pubchempy(inchikey)\n",
    "        except:\n",
    "            df_external_set.at[idx,'SMILES'] = None"
   ]
  },
  {
   "cell_type": "code",
   "execution_count": null,
   "id": "1bf4073a-d0d9-46e4-8ac5-52e4cec9f233",
   "metadata": {},
   "outputs": [],
   "source": [
    "df_external_set = df_external_set[['DTC Activity ID','SMILES','End Point Standard Value','End Point Standard Type','End Point Standard Units']]\n",
    "df_external_set.rename(columns = {\n",
    "    'DTC Activity ID':'id',\n",
    "    'SMILES':'smiles',\n",
    "    'End Point Standard Value':'standard_value',\n",
    "    'End Point Standard Type':'standard_type',\n",
    "    'End Point Standard Units':'standard_units'\n",
    "},inplace = True)\n",
    "df_external_set['target_organism'] = 'Homo sapiens'\n",
    "df_external_set['target_pref_name'] = 'Dipeptidyl peptidase IV'\n",
    "df_external_set = df_external_set[['id','smiles','standard_value','standard_type','standard_units','target_organism','target_pref_name']]\n",
    "df_external_set.dropna(inplace = True)\n",
    "df_external_set"
   ]
  },
  {
   "cell_type": "code",
   "execution_count": null,
   "id": "96627f7f-888b-4040-9270-4e08a5fd4849",
   "metadata": {},
   "outputs": [],
   "source": [
    "df_external_set.to_csv(os.path.join(ROOT_DIR,'data/External_DTC_DPP4-05-05-2025_Processed.csv'),index = False)\n"
   ]
  },
  {
   "cell_type": "markdown",
   "id": "118ec965-bee8-41bd-9522-540ad19d1021",
   "metadata": {},
   "source": [
    "# Feature Extraction"
   ]
  },
  {
   "cell_type": "code",
   "execution_count": null,
   "id": "de0e6086-d402-4046-a00c-cea26df509da",
   "metadata": {},
   "outputs": [],
   "source": [
    "import pandas as pd\n",
    "import numpy as np\n",
    "from tqdm.auto import tqdm\n",
    "tqdm.pandas()\n",
    "df_external_set = pd.read_csv(os.path.join(ROOT_DIR,'data/External_DTC_DPP4-05-05-2025_Processed.csv'))\n",
    "df_train = pd.read_parquet(os.path.join(ROOT_DIR,'data/dpp4-26-03-25-feat.parquet'))"
   ]
  },
  {
   "cell_type": "code",
   "execution_count": null,
   "id": "58e60f23-749c-46ed-b4c6-67a8dfc89b7c",
   "metadata": {},
   "outputs": [],
   "source": [
    "# ## IC50 Conversion\n",
    "def calculate_pIC50(ic50_nM):\n",
    "    ic50_nM = pd.to_numeric(ic50_nM, errors='coerce')  # Convert to numeric, handle errors\n",
    "    ic50_M = ic50_nM * 1e-9  # Convert to molar concentration\n",
    "    return -np.log10(ic50_M)  # Compute pIC50\n",
    "def classify_pic50(value):\n",
    "    if value > 7.5:\n",
    "        return 'active'\n",
    "    elif 6 < value <= 7.5:\n",
    "        return 'grey'\n",
    "    elif value <= 6:\n",
    "        return 'inactive'\n",
    "# Save the fitted LabelEncoder to a file\n",
    "import pickle\n",
    "\n",
    "with open(os.path.join(ROOT_DIR,'data/label_encoder.pkl'), 'rb') as file:\n",
    "    le = pickle.load(file)\n",
    "    \n",
    "with open(os.path.join(ROOT_DIR,'data/ltn_std_scaler.pkl'), 'rb') as file:\n",
    "    scaler = pickle.load(file)\n",
    "    \n",
    "df_external_set['pIC50'] = df_external_set['standard_value'].apply(calculate_pIC50)\n",
    "# Apply the classification to the DataFrame\n",
    "df_external_set['label'] = df_external_set['pIC50'].apply(classify_pic50)\n",
    "df_external_set = df_external_set[~df_external_set['label'].isin(['grey'])]\n",
    "df_external_set['target'] = le.transform(df_external_set['label'])"
   ]
  },
  {
   "cell_type": "code",
   "execution_count": null,
   "id": "91600a1e-be0d-4c59-94c6-5f5f884ee22d",
   "metadata": {},
   "outputs": [],
   "source": [
    "df_external_set = df_external_set[~df_external_set['smiles'].progress_apply(lambda x: x in df_train['smiles'].tolist())].reset_index(drop = True)\n",
    "df_external_set"
   ]
  },
  {
   "cell_type": "code",
   "execution_count": null,
   "id": "60e66605-c8a4-41da-8f74-3ba09fb381e8",
   "metadata": {},
   "outputs": [],
   "source": [
    "from functions.fingerprint_functions import FingerprintFunctions"
   ]
  },
  {
   "cell_type": "code",
   "execution_count": null,
   "id": "f02b9de9-af94-4f19-adc2-ee7bb4a8bd60",
   "metadata": {},
   "outputs": [],
   "source": [
    "feat_path = os.path.join(ROOT_DIR,'data/External_DTC_DPP4-CDKextended.csv')\n",
    "if not os.path.exists(feat_path):\n",
    "    os.chdir(os.path.join(ROOT_DIR,'utils'))\n",
    "    smi_path =  'dataset.smi'\n",
    "    df_external_set[['smiles','id']].to_csv(\n",
    "       smi_path, sep='\\t', index=False, header=False,\n",
    "    )\n",
    "    FingerprintFunctions().do_CDKextended(smi_path)\n",
    "    os.rename(\n",
    "        os.path.join(ROOT_DIR,'utils/CDKextended.csv'),\n",
    "        feat_path,\n",
    "    )\n",
    "    os.remove(smi_path)\n",
    "    os.chdir(os.path.join(ROOT_DIR,'notebook'))"
   ]
  },
  {
   "cell_type": "code",
   "execution_count": null,
   "id": "f5679b82-6405-4d19-afac-8387e84d0e36",
   "metadata": {},
   "outputs": [],
   "source": [
    "df_external_set['CDKextended'] = pd.read_csv(feat_path).drop('Name',axis = 1).values.tolist()"
   ]
  },
  {
   "cell_type": "code",
   "execution_count": null,
   "id": "e4d4daae-d6b9-4cde-9859-1f71f6be5e76",
   "metadata": {},
   "outputs": [],
   "source": [
    "import rdkit\n",
    "from rdkit import Chem\n",
    "from rdkit.Chem import AllChem\n",
    "from tqdm.auto import tqdm\n",
    "tqdm.pandas()\n",
    "import numpy as np\n",
    "from rdkit import rdBase\n",
    "rdBase.DisableLog('rdApp.warning')"
   ]
  },
  {
   "cell_type": "code",
   "execution_count": null,
   "id": "e78dc264-9d53-497a-b76d-77f1875b98cd",
   "metadata": {},
   "outputs": [],
   "source": [
    "def smiles_to_fp(smiles, radius=2, num_bits=1024):\n",
    "    mol = Chem.MolFromSmiles(smiles)\n",
    "    if mol is None:\n",
    "        return list(np.zeros(num_bits))\n",
    "    return list(AllChem.GetMorganFingerprintAsBitVect(mol, radius, num_bits))"
   ]
  },
  {
   "cell_type": "code",
   "execution_count": null,
   "id": "98273ac9-bdff-4e76-9db1-4639d058ad30",
   "metadata": {},
   "outputs": [],
   "source": [
    "df_external_set['ECFP'] = df_external_set['smiles'].progress_apply(lambda x: smiles_to_fp(x))\n",
    "df_external_set['ECFP_2048'] = df_external_set['smiles'].progress_apply(lambda x: smiles_to_fp(x,num_bits = 2048))\n",
    "df_external_set['ECFP_512'] = df_external_set['smiles'].progress_apply(lambda x: smiles_to_fp(x,num_bits = 512))"
   ]
  },
  {
   "cell_type": "code",
   "execution_count": null,
   "id": "49ae3206-0a83-4bf7-98c3-a9a2aaf75e02",
   "metadata": {},
   "outputs": [],
   "source": [
    "df_external_set.to_parquet(os.path.join(ROOT_DIR,'data/dpp4-ext-26-03-25-feat.parquet'),index = False)"
   ]
  }
 ],
 "metadata": {
  "kernelspec": {
   "display_name": "Python [conda env:.conda-dpp4_env]",
   "language": "python",
   "name": "conda-env-.conda-dpp4_env-py"
  },
  "language_info": {
   "codemirror_mode": {
    "name": "ipython",
    "version": 3
   },
   "file_extension": ".py",
   "mimetype": "text/x-python",
   "name": "python",
   "nbconvert_exporter": "python",
   "pygments_lexer": "ipython3",
   "version": "3.10.16"
  }
 },
 "nbformat": 4,
 "nbformat_minor": 5
}
