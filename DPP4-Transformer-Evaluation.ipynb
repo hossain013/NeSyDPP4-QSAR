{
 "cells": [
  {
   "cell_type": "code",
   "execution_count": 1,
   "id": "038138f8-d565-44cf-b9a4-2040a8bbb517",
   "metadata": {
    "tags": []
   },
   "outputs": [],
   "source": [
    "ROOT_DIR ='/data/user/home/mhossai5/DPP-New2025'"
   ]
  },
  {
   "cell_type": "code",
   "execution_count": 6,
   "id": "881ed948-508b-4d90-8fe3-64a43d5a70be",
   "metadata": {},
   "outputs": [],
   "source": [
    "import os\n",
    "import re\n",
    "os.environ['TF_CPP_MIN_LOG_LEVEL'] = '2'\n",
    "import logging\n",
    "import tensorflow as tf\n",
    "tf.get_logger().setLevel(logging.ERROR)\n",
    "import warnings\n",
    "warnings.filterwarnings('ignore')\n",
    "import sys\n",
    "import rdkit\n",
    "import pandas as pd\n",
    "import numpy as np\n",
    "import matplotlib.pyplot as plt\n",
    "\n",
    "from sklearn.model_selection import train_test_split\n",
    "import collections\n",
    "import keras_hub as keras_nlp\n",
    "import keras\n",
    "import re\n",
    "import wget\n",
    "df_external_set = pd.read_parquet(os.path.join(ROOT_DIR,'data/dpp4-ext-26-03-25-feat.parquet'))"
   ]
  },
  {
   "cell_type": "code",
   "execution_count": 7,
   "id": "77a0185b-fff8-428d-a2b7-08a4191a1160",
   "metadata": {
    "tags": []
   },
   "outputs": [],
   "source": [
    "X_test = df_external_set['smiles']\n",
    "y_test = df_external_set['target']"
   ]
  },
  {
   "cell_type": "code",
   "execution_count": 8,
   "id": "d3d48b10-1dbe-453f-b683-da34dfe50914",
   "metadata": {
    "tags": []
   },
   "outputs": [],
   "source": [
    "def load_vocab(vocab_file = ROOT_DIR+'/data/vocab.txt'):\n",
    "    \"\"\"Loads a vocabulary file into a dictionary.\"\"\"\n",
    "    if not os.path.exists(vocab_file):\n",
    "        wget.download(\"https://github.com/deepchem/deepchem/raw/2.4.0/deepchem/feat/tests/data/vocab.txt\" ,out = vocab_file)\n",
    "\n",
    "    vocab = collections.OrderedDict()\n",
    "    with open(vocab_file, \"r\", encoding=\"utf-8\") as reader:\n",
    "        tokens = reader.readlines()\n",
    "    for index, token in enumerate(tokens):\n",
    "        token = token.rstrip(\"\\n\")\n",
    "        vocab[token] = index\n",
    "    return vocab\n",
    "\n",
    "vocab = load_vocab()\n",
    "vocab_size = len(vocab)"
   ]
  },
  {
   "cell_type": "code",
   "execution_count": 9,
   "id": "74c760bb-2181-4f97-b032-c302231fb53b",
   "metadata": {
    "tags": []
   },
   "outputs": [
    {
     "name": "stderr",
     "output_type": "stream",
     "text": [
      "I0000 00:00:1746601764.574967  101683 gpu_device.cc:2022] Created device /job:localhost/replica:0/task:0/device:GPU:0 with 868 MB memory:  -> device: 0, name: NVIDIA A100 80GB PCIe, pci bus id: 0000:81:00.0, compute capability: 8.0\n"
     ]
    }
   ],
   "source": [
    "# In Molecule generation there is difference tokenization method\n",
    "# ref: https://github.com/devalab/molgpt/blob/72ff33ae747c0a4908b822732019a66e965a595a/generate/dataset.py#L41\n",
    "# ref: https://github.com/Fraunhofer-SCAI/llamol/blob/main/tokenizer.py\n",
    "from datasets import load_dataset\n",
    "SMI_REGEX_PATTERN = r\"\"\"(\\[[^\\]]+]|Br?|Cl?|N|O|S|P|F|I|b|c|n|o|s|p|\\(|\\)|\\.|=|#|-|\\+|\\\\|\\/|:|~|@|\\?|>>?|\\*|\\$|\\%[0-9]{2}|[0-9])\"\"\"\n",
    "regex = re.compile(SMI_REGEX_PATTERN)\n",
    "# ref: https://www.kaggle.com/code/hoyso48/2nd-place-solution-training?scriptVersionId=141882060&cellId=9\n",
    "TABLE = tf.lookup.StaticHashTable(\n",
    "    initializer=tf.lookup.KeyValueTensorInitializer(\n",
    "        keys=tf.constant(list(vocab.keys()),tf.string),\n",
    "        values=tf.constant(list(vocab.values()),tf.int32),\n",
    "    ),\n",
    "    default_value=tf.constant(-1),\n",
    "    name=\"tokenize\"\n",
    ")\n",
    "def encode_token(mol,target):\n",
    "    def wrapper(smi):\n",
    "        smi = smi.numpy().decode()\n",
    "        return tf.constant(regex.findall(smi))\n",
    "    \n",
    "    mol = tf.py_function(wrapper,[mol],[tf.string])[0]\n",
    "    \n",
    "    mol = TABLE.lookup(mol)\n",
    "    \n",
    "    return tf.cast(mol,'int64'),target\n",
    "\n",
    "def get_data(x,y, batch_size,pad_value = vocab['[PAD]'],shuffle=False):\n",
    "\n",
    "    ds = tf.data.Dataset.from_tensor_slices((x,y))\n",
    "    ds = ds.map(encode_token, tf.data.AUTOTUNE)\n",
    "    \n",
    "    if shuffle:\n",
    "        ds = ds.shuffle(shuffle)\n",
    "\n",
    "    if batch_size:\n",
    "        ds = ds.padded_batch(batch_size, padding_values=tf.cast(pad_value,'int64'), padded_shapes=([max_len],[]))\n",
    "\n",
    "    ds = ds.prefetch(tf.data.AUTOTUNE)\n",
    "\n",
    "    return ds"
   ]
  },
  {
   "cell_type": "code",
   "execution_count": 12,
   "id": "151cf0c7-221d-44a1-a939-4ac71a4acbda",
   "metadata": {
    "tags": []
   },
   "outputs": [],
   "source": [
    "batch_size =8\n",
    "max_len = 212\n",
    "test_ds = get_data(X_test,y_test,batch_size=batch_size,)"
   ]
  },
  {
   "cell_type": "code",
   "execution_count": 13,
   "id": "8ded34ce-a652-46e1-91b7-b79ce47258e7",
   "metadata": {
    "tags": []
   },
   "outputs": [],
   "source": [
    "from tensorflow.keras import ops\n",
    "from tensorflow.keras import layers"
   ]
  },
  {
   "cell_type": "code",
   "execution_count": 14,
   "id": "d3afea3a-ab97-40ea-871f-de76dc530572",
   "metadata": {
    "tags": []
   },
   "outputs": [],
   "source": [
    "class TransformerBlock(layers.Layer):\n",
    "    def __init__(self, embed_dim, num_heads, ff_dim, rate=0.1):\n",
    "        super().__init__()\n",
    "        self.att = layers.MultiHeadAttention(num_heads=num_heads, key_dim=embed_dim)\n",
    "        self.ffn = keras.Sequential(\n",
    "            [layers.Dense(ff_dim, activation=\"relu\"), layers.Dense(embed_dim),]\n",
    "        )\n",
    "        self.layernorm1 = layers.LayerNormalization(epsilon=1e-6)\n",
    "        self.layernorm2 = layers.LayerNormalization(epsilon=1e-6)\n",
    "        self.dropout1 = layers.Dropout(rate)\n",
    "        self.dropout2 = layers.Dropout(rate)\n",
    "\n",
    "    def call(self, inputs):\n",
    "        attn_output = self.att(inputs, inputs)\n",
    "        attn_output = self.dropout1(attn_output)\n",
    "        out1 = self.layernorm1(inputs + attn_output)\n",
    "        ffn_output = self.ffn(out1)\n",
    "        ffn_output = self.dropout2(ffn_output)\n",
    "        return self.layernorm2(out1 + ffn_output)\n",
    "    \n",
    "    \n",
    "class TokenAndPositionEmbedding(layers.Layer):\n",
    "    def __init__(self, maxlen, vocab_size, embed_dim):\n",
    "        super().__init__()\n",
    "        self.token_emb = layers.Embedding(input_dim=vocab_size, output_dim=embed_dim)\n",
    "        self.pos_emb = layers.Embedding(input_dim=maxlen, output_dim=embed_dim)\n",
    "\n",
    "        \n",
    "    def call(self, x):\n",
    "        maxlen = ops.shape(x)[-1]\n",
    "        positions = ops.arange(start=0, stop=maxlen, step=1)\n",
    "        positions = self.pos_emb(positions)\n",
    "        x = self.token_emb(x)\n",
    "        return x + positions\n",
    "    \n",
    "embed_dim = 32  # Embedding size for each token\n",
    "num_heads = 2  # Number of attention heads\n",
    "ff_dim = 32  # Hidden layer size in feed forward network inside transformer\n",
    "\n",
    "inputs = layers.Input(shape=(max_len,))\n",
    "embedding_layer = TokenAndPositionEmbedding(max_len, vocab_size, embed_dim)\n",
    "x = embedding_layer(inputs)\n",
    "x = TransformerBlock(embed_dim, num_heads, ff_dim)(x)\n",
    "x = TransformerBlock(embed_dim, num_heads, ff_dim)(x)\n",
    "x = TransformerBlock(embed_dim, num_heads, ff_dim)(x)\n",
    "x = layers.GlobalAveragePooling1D()(x)\n",
    "x = layers.Dropout(0.1)(x)\n",
    "x = layers.Dense(20, activation=\"relu\")(x)\n",
    "x = layers.Dropout(0.1)(x)\n",
    "outputs = layers.Dense(2, activation=\"softmax\")(x)\n",
    "\n",
    "model = keras.Model(inputs=inputs, outputs=outputs)"
   ]
  },
  {
   "cell_type": "code",
   "execution_count": 15,
   "id": "d0276c09-f9e7-4afe-acc9-42572c0c5508",
   "metadata": {
    "tags": []
   },
   "outputs": [],
   "source": [
    "model.load_weights(f'{ROOT_DIR}/weights/trans-v1-dpp4.keras')"
   ]
  },
  {
   "cell_type": "code",
   "execution_count": 16,
   "id": "d06b3cac-a953-4da1-bf4f-5f591f9dfb16",
   "metadata": {},
   "outputs": [
    {
     "name": "stderr",
     "output_type": "stream",
     "text": [
      "WARNING: All log messages before absl::InitializeLog() is called are written to STDERR\n",
      "I0000 00:00:1746601878.386548  102359 service.cc:148] XLA service 0x2aac6c002a80 initialized for platform CUDA (this does not guarantee that XLA will be used). Devices:\n",
      "I0000 00:00:1746601878.386676  102359 service.cc:156]   StreamExecutor device (0): NVIDIA A100 80GB PCIe, Compute Capability 8.0\n",
      "I0000 00:00:1746601878.530290  102359 cuda_dnn.cc:529] Loaded cuDNN version 90300\n"
     ]
    },
    {
     "name": "stdout",
     "output_type": "stream",
     "text": [
      "\u001b[1m 57/131\u001b[0m \u001b[32m━━━━━━━━\u001b[0m\u001b[37m━━━━━━━━━━━━\u001b[0m \u001b[1m0s\u001b[0m 3ms/step"
     ]
    },
    {
     "name": "stderr",
     "output_type": "stream",
     "text": [
      "I0000 00:00:1746601887.071928  102359 device_compiler.h:188] Compiled cluster using XLA!  This line is logged at most once for the lifetime of the process.\n"
     ]
    },
    {
     "name": "stdout",
     "output_type": "stream",
     "text": [
      "\u001b[1m131/131\u001b[0m \u001b[32m━━━━━━━━━━━━━━━━━━━━\u001b[0m\u001b[37m\u001b[0m \u001b[1m15s\u001b[0m 50ms/step\n"
     ]
    }
   ],
   "source": [
    "y_pred_prob = model.predict(test_ds)\n",
    "y_pred = y_pred_prob.argmax(-1)"
   ]
  },
  {
   "cell_type": "code",
   "execution_count": 17,
   "id": "ff586950-f6d1-4547-bb04-0aba165b8bf6",
   "metadata": {
    "tags": []
   },
   "outputs": [],
   "source": [
    "from sklearn.metrics import (\n",
    "    accuracy_score,\n",
    "    f1_score,\n",
    "    roc_auc_score,\n",
    "    roc_curve,\n",
    "    matthews_corrcoef,\n",
    "    precision_score,\n",
    "    recall_score,\n",
    "    confusion_matrix,\n",
    "    classification_report,\n",
    "    auc,\n",
    "    ConfusionMatrixDisplay,\n",
    ")\n",
    "import matplotlib.pyplot as plt"
   ]
  },
  {
   "cell_type": "code",
   "execution_count": 18,
   "id": "190d858b-b256-422b-8518-d002b7a833e5",
   "metadata": {
    "tags": []
   },
   "outputs": [
    {
     "name": "stdout",
     "output_type": "stream",
     "text": [
      "accuracy_score: 0.6478468899521531\n",
      "roc_auc_score: 0.638440366972477\n",
      "matthews_corrcoef: 0.30955071192974853\n",
      "F1 Score: 0.6251764173820831\n"
     ]
    }
   ],
   "source": [
    "print(f\"accuracy_score: {accuracy_score(y_test,y_pred)}\")\n",
    "print(f\"roc_auc_score: {roc_auc_score(y_test,y_pred)}\")\n",
    "print(f\"matthews_corrcoef: {matthews_corrcoef(y_test,y_pred)}\")\n",
    "print(f\"F1 Score: {f1_score(y_test,y_pred,average='macro')}\")\n"
   ]
  },
  {
   "cell_type": "code",
   "execution_count": 19,
   "id": "f122cdca-542f-4879-b780-d2e402472698",
   "metadata": {
    "tags": []
   },
   "outputs": [
    {
     "data": {
      "image/png": "[encoded data removed]",
      "text/plain": [
       "<Figure size 640x480 with 2 Axes>"
      ]
     },
     "metadata": {},
     "output_type": "display_data"
    }
   ],
   "source": [
    "cm = confusion_matrix(y_test, y_pred)\n",
    "\n",
    "# 6. Plot the confusion matrix\n",
    "disp = ConfusionMatrixDisplay(confusion_matrix=cm,display_labels = ['Active', 'Inactive'])\n",
    "disp.plot(cmap=plt.cm.Blues)\n",
    "plt.title(f\"Transformer Confusion Matrix\")\n",
    "plt.show()"
   ]
  },
  {
   "cell_type": "code",
   "execution_count": null,
   "id": "d4a7f982-f1ac-449f-b5fc-f0f09bbe5843",
   "metadata": {},
   "outputs": [],
   "source": []
  },
  {
   "cell_type": "code",
   "execution_count": null,
   "id": "344f1c9e-ea9c-48d8-b954-1344e217f6e3",
   "metadata": {},
   "outputs": [],
   "source": []
  }
 ],
 "metadata": {
  "kernelspec": {
   "display_name": "Python [conda env:.conda-knlp]",
   "language": "python",
   "name": "conda-env-.conda-knlp-py"
  },
  "language_info": {
   "codemirror_mode": {
    "name": "ipython",
    "version": 3
   },
   "file_extension": ".py",
   "mimetype": "text/x-python",
   "name": "python",
   "nbconvert_exporter": "python",
   "pygments_lexer": "ipython3",
   "version": "3.12.5"
  }
 },
 "nbformat": 4,
 "nbformat_minor": 5
}
