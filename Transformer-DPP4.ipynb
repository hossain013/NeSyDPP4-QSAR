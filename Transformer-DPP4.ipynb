{
 "cells": [
  {
   "cell_type": "code",
   "execution_count": null,
   "id": "801283b6",
   "metadata": {
    "tags": []
   },
   "outputs": [],
   "source": [
    "import os\n",
    "os.environ['TF_CPP_MIN_LOG_LEVEL'] = '2'\n",
    "import logging\n",
    "import tensorflow as tf\n",
    "tf.get_logger().setLevel(logging.ERROR)\n",
    "import warnings\n",
    "warnings.filterwarnings('ignore')\n",
    "import sys\n",
    "import rdkit\n",
    "import pandas as pd\n",
    "import numpy as np\n",
    "import matplotlib.pyplot as plt\n",
    "\n",
    "from sklearn.model_selection import train_test_split\n",
    "import collections\n",
    "import keras_hub as keras_nlp\n",
    "import keras\n",
    "import re\n",
    "import wget"
   ]
  },
  {
   "cell_type": "code",
   "execution_count": null,
   "id": "7152f4a4-9f08-4b0b-aebb-6095779975e3",
   "metadata": {
    "tags": []
   },
   "outputs": [],
   "source": [
    "!pwd"
   ]
  },
  {
   "cell_type": "code",
   "execution_count": null,
   "id": "c609f6be-a55c-411c-8ee9-e51ab18f7692",
   "metadata": {
    "tags": []
   },
   "outputs": [],
   "source": [
    "!ls {DATA_PATH}"
   ]
  },
  {
   "cell_type": "code",
   "execution_count": null,
   "id": "08af5211",
   "metadata": {
    "tags": []
   },
   "outputs": [],
   "source": [
    "ROOT_DIR = '/data/user/home/mhossai5/DPP-New2025/'\n",
    "DATA_PATH = ROOT_DIR+'data'\n",
    "OUTPUT_PATH = ROOT_DIR+'weights'"
   ]
  },
  {
   "cell_type": "code",
   "execution_count": 11,
   "id": "5dc2e383",
   "metadata": {
    "tags": []
   },
   "outputs": [
    {
     "data": {
      "text/html": [
       "<div>\n",
       "<style scoped>\n",
       "    .dataframe tbody tr th:only-of-type {\n",
       "        vertical-align: middle;\n",
       "    }\n",
       "\n",
       "    .dataframe tbody tr th {\n",
       "        vertical-align: top;\n",
       "    }\n",
       "\n",
       "    .dataframe thead th {\n",
       "        text-align: right;\n",
       "    }\n",
       "</style>\n",
       "<table border=\"1\" class=\"dataframe\">\n",
       "  <thead>\n",
       "    <tr style=\"text-align: right;\">\n",
       "      <th></th>\n",
       "      <th>id</th>\n",
       "      <th>smiles</th>\n",
       "      <th>standard_value</th>\n",
       "      <th>standard_type</th>\n",
       "      <th>standard_units</th>\n",
       "      <th>target_organism</th>\n",
       "      <th>target_pref_name</th>\n",
       "      <th>pIC50</th>\n",
       "      <th>source</th>\n",
       "      <th>label</th>\n",
       "      <th>...</th>\n",
       "      <th>ECFP_512</th>\n",
       "      <th>Llama3-2_Embedding</th>\n",
       "      <th>ChemBERT2_Embedding</th>\n",
       "      <th>MolWt</th>\n",
       "      <th>LogP</th>\n",
       "      <th>TPSA</th>\n",
       "      <th>HBD</th>\n",
       "      <th>HBA</th>\n",
       "      <th>RotatableBonds</th>\n",
       "      <th>Physiochemical</th>\n",
       "    </tr>\n",
       "  </thead>\n",
       "  <tbody>\n",
       "    <tr>\n",
       "      <th>0</th>\n",
       "      <td>CHEMBL93558</td>\n",
       "      <td>N[C@@H](CC1CCCCC1)C(=O)N1CCCCC1</td>\n",
       "      <td>217000.00</td>\n",
       "      <td>IC50</td>\n",
       "      <td>nM</td>\n",
       "      <td>Homo sapiens</td>\n",
       "      <td>Dipeptidyl peptidase IV</td>\n",
       "      <td>3.663540</td>\n",
       "      <td>ChEMBL</td>\n",
       "      <td>inactive</td>\n",
       "      <td>...</td>\n",
       "      <td>[0.0, 1.0, 1.0, 0.0, 1.0, 0.0, 0.0, 0.0, 0.0, ...</td>\n",
       "      <td>[-0.49902532, 2.9190297, -0.23703773, -0.25883...</td>\n",
       "      <td>[-0.38957188, -0.6216704, 0.4703551, 0.1626513...</td>\n",
       "      <td>238.375</td>\n",
       "      <td>2.29660</td>\n",
       "      <td>46.33</td>\n",
       "      <td>1.0</td>\n",
       "      <td>2.0</td>\n",
       "      <td>3.0</td>\n",
       "      <td>[238.37499999999994, 2.2966000000000006, 46.33...</td>\n",
       "    </tr>\n",
       "    <tr>\n",
       "      <th>1</th>\n",
       "      <td>CHEMBL443622</td>\n",
       "      <td>C[C@H](N)C(=O)N1CCCC1</td>\n",
       "      <td>41000.00</td>\n",
       "      <td>IC50</td>\n",
       "      <td>nM</td>\n",
       "      <td>Homo sapiens</td>\n",
       "      <td>Dipeptidyl peptidase IV</td>\n",
       "      <td>4.387216</td>\n",
       "      <td>ChEMBL</td>\n",
       "      <td>inactive</td>\n",
       "      <td>...</td>\n",
       "      <td>[0.0, 1.0, 0.0, 0.0, 1.0, 0.0, 0.0, 0.0, 0.0, ...</td>\n",
       "      <td>[-0.9239326, 2.7885501, 0.38945127, 0.3505689,...</td>\n",
       "      <td>[-0.3062373, -0.24003226, 0.14207578, 0.525902...</td>\n",
       "      <td>142.202</td>\n",
       "      <td>-0.04400</td>\n",
       "      <td>46.33</td>\n",
       "      <td>1.0</td>\n",
       "      <td>2.0</td>\n",
       "      <td>1.0</td>\n",
       "      <td>[142.20199999999997, -0.04400000000000004, 46....</td>\n",
       "    </tr>\n",
       "    <tr>\n",
       "      <th>2</th>\n",
       "      <td>CHEMBL403882</td>\n",
       "      <td>O=C([C@@H]1CCCN1)N1CCCC1</td>\n",
       "      <td>15000.00</td>\n",
       "      <td>IC50</td>\n",
       "      <td>nM</td>\n",
       "      <td>Homo sapiens</td>\n",
       "      <td>Dipeptidyl peptidase IV</td>\n",
       "      <td>4.823909</td>\n",
       "      <td>ChEMBL</td>\n",
       "      <td>inactive</td>\n",
       "      <td>...</td>\n",
       "      <td>[0.0, 0.0, 0.0, 0.0, 1.0, 0.0, 0.0, 0.0, 0.0, ...</td>\n",
       "      <td>[-0.41079238, 2.760039, 0.025078857, -0.101544...</td>\n",
       "      <td>[-0.3257358, -0.012994111, 0.17750713, -0.0522...</td>\n",
       "      <td>168.240</td>\n",
       "      <td>0.36080</td>\n",
       "      <td>32.34</td>\n",
       "      <td>1.0</td>\n",
       "      <td>2.0</td>\n",
       "      <td>1.0</td>\n",
       "      <td>[168.23999999999998, 0.3608, 32.34, 1.0, 2.0, ...</td>\n",
       "    </tr>\n",
       "    <tr>\n",
       "      <th>3</th>\n",
       "      <td>CHEMBL328655</td>\n",
       "      <td>S=C(C1CCCN1)N1CCCC1</td>\n",
       "      <td>500000.00</td>\n",
       "      <td>IC50</td>\n",
       "      <td>nM</td>\n",
       "      <td>Homo sapiens</td>\n",
       "      <td>Dipeptidyl peptidase IV</td>\n",
       "      <td>3.301030</td>\n",
       "      <td>ChEMBL</td>\n",
       "      <td>inactive</td>\n",
       "      <td>...</td>\n",
       "      <td>[0.0, 0.0, 0.0, 0.0, 1.0, 0.0, 0.0, 0.0, 0.0, ...</td>\n",
       "      <td>[-0.13337657, 2.8452492, 0.630767, 0.08860778,...</td>\n",
       "      <td>[-0.0054997415, -0.37361592, 0.015422794, 0.30...</td>\n",
       "      <td>184.308</td>\n",
       "      <td>1.16160</td>\n",
       "      <td>15.27</td>\n",
       "      <td>1.0</td>\n",
       "      <td>2.0</td>\n",
       "      <td>1.0</td>\n",
       "      <td>[184.30799999999996, 1.1616, 15.27, 1.0, 2.0, ...</td>\n",
       "    </tr>\n",
       "    <tr>\n",
       "      <th>4</th>\n",
       "      <td>CHEMBL328795</td>\n",
       "      <td>NC(=O)CC(N)C(=O)N1CCCC1</td>\n",
       "      <td>188000.00</td>\n",
       "      <td>IC50</td>\n",
       "      <td>nM</td>\n",
       "      <td>Homo sapiens</td>\n",
       "      <td>Dipeptidyl peptidase IV</td>\n",
       "      <td>3.725842</td>\n",
       "      <td>ChEMBL</td>\n",
       "      <td>inactive</td>\n",
       "      <td>...</td>\n",
       "      <td>[0.0, 1.0, 0.0, 0.0, 1.0, 0.0, 0.0, 0.0, 0.0, ...</td>\n",
       "      <td>[-0.6948919, 2.6412396, 0.3524785, -0.21108356...</td>\n",
       "      <td>[-0.6008385, -0.16555355, 0.1292091, 0.9035775...</td>\n",
       "      <td>185.227</td>\n",
       "      <td>-1.18850</td>\n",
       "      <td>89.42</td>\n",
       "      <td>2.0</td>\n",
       "      <td>3.0</td>\n",
       "      <td>3.0</td>\n",
       "      <td>[185.22699999999995, -1.1885000000000001, 89.4...</td>\n",
       "    </tr>\n",
       "    <tr>\n",
       "      <th>...</th>\n",
       "      <td>...</td>\n",
       "      <td>...</td>\n",
       "      <td>...</td>\n",
       "      <td>...</td>\n",
       "      <td>...</td>\n",
       "      <td>...</td>\n",
       "      <td>...</td>\n",
       "      <td>...</td>\n",
       "      <td>...</td>\n",
       "      <td>...</td>\n",
       "      <td>...</td>\n",
       "      <td>...</td>\n",
       "      <td>...</td>\n",
       "      <td>...</td>\n",
       "      <td>...</td>\n",
       "      <td>...</td>\n",
       "      <td>...</td>\n",
       "      <td>...</td>\n",
       "      <td>...</td>\n",
       "      <td>...</td>\n",
       "      <td>...</td>\n",
       "    </tr>\n",
       "    <tr>\n",
       "      <th>6558</th>\n",
       "      <td>6310</td>\n",
       "      <td>N#C[C@@H]1CCCN1C(=O)CNC12CC3CC(C1)CC(C2)(C3)O</td>\n",
       "      <td>10.00</td>\n",
       "      <td>IC50</td>\n",
       "      <td>nM</td>\n",
       "      <td>Human</td>\n",
       "      <td>dipeptidyl peptidase 4</td>\n",
       "      <td>8.000000</td>\n",
       "      <td>GTP</td>\n",
       "      <td>active</td>\n",
       "      <td>...</td>\n",
       "      <td>[0.0, 0.0, 0.0, 0.0, 1.0, 0.0, 0.0, 0.0, 0.0, ...</td>\n",
       "      <td>[-0.034391124, 3.2505064, -0.06226227, -0.8268...</td>\n",
       "      <td>[-1.1099385, 0.32984978, 0.77433217, 0.4287404...</td>\n",
       "      <td>303.406</td>\n",
       "      <td>1.17428</td>\n",
       "      <td>76.36</td>\n",
       "      <td>2.0</td>\n",
       "      <td>4.0</td>\n",
       "      <td>3.0</td>\n",
       "      <td>[303.40600000000006, 1.1742799999999993, 76.36...</td>\n",
       "    </tr>\n",
       "    <tr>\n",
       "      <th>6559</th>\n",
       "      <td>6319</td>\n",
       "      <td>N#Cc1ccccc1Cn1c(cc(=O)n(c1=O)C)N1CCC[C@H](C1)N</td>\n",
       "      <td>3.40</td>\n",
       "      <td>IC50</td>\n",
       "      <td>nM</td>\n",
       "      <td>Human</td>\n",
       "      <td>dipeptidyl peptidase 4</td>\n",
       "      <td>8.468521</td>\n",
       "      <td>GTP</td>\n",
       "      <td>active</td>\n",
       "      <td>...</td>\n",
       "      <td>[0.0, 0.0, 0.0, 0.0, 1.0, 0.0, 0.0, 0.0, 0.0, ...</td>\n",
       "      <td>[-0.4544638, 3.4690077, 0.44993114, -0.4079677...</td>\n",
       "      <td>[-0.5232935, -0.16444466, 1.0117201, 0.1044423...</td>\n",
       "      <td>339.399</td>\n",
       "      <td>0.39448</td>\n",
       "      <td>97.05</td>\n",
       "      <td>1.0</td>\n",
       "      <td>7.0</td>\n",
       "      <td>3.0</td>\n",
       "      <td>[339.39900000000017, 0.3944800000000007, 97.04...</td>\n",
       "    </tr>\n",
       "    <tr>\n",
       "      <th>6560</th>\n",
       "      <td>9893</td>\n",
       "      <td>OB([C@@H]1CCCN1C(=O)CNC(=O)c1cccc2c1cccc2)O</td>\n",
       "      <td>20000.00</td>\n",
       "      <td>IC50</td>\n",
       "      <td>nM</td>\n",
       "      <td>Human</td>\n",
       "      <td>dipeptidyl peptidase 4</td>\n",
       "      <td>4.698970</td>\n",
       "      <td>GTP</td>\n",
       "      <td>inactive</td>\n",
       "      <td>...</td>\n",
       "      <td>[0.0, 0.0, 0.0, 0.0, 1.0, 0.0, 0.0, 0.0, 0.0, ...</td>\n",
       "      <td>[-0.9101596, 2.5416348, 0.19975038, -0.3455297...</td>\n",
       "      <td>[-0.7491181, 0.03879051, 1.5210431, 0.18013704...</td>\n",
       "      <td>326.161</td>\n",
       "      <td>0.57260</td>\n",
       "      <td>89.87</td>\n",
       "      <td>3.0</td>\n",
       "      <td>4.0</td>\n",
       "      <td>4.0</td>\n",
       "      <td>[326.16100000000006, 0.5726000000000004, 89.87...</td>\n",
       "    </tr>\n",
       "    <tr>\n",
       "      <th>6561</th>\n",
       "      <td>9906</td>\n",
       "      <td>O=C(N1CSCC1)[C@H]1NC[C@H](C1)N1CCN(CC1)c1cc(nn...</td>\n",
       "      <td>0.37</td>\n",
       "      <td>IC50</td>\n",
       "      <td>nM</td>\n",
       "      <td>Human</td>\n",
       "      <td>dipeptidyl peptidase 4</td>\n",
       "      <td>9.431798</td>\n",
       "      <td>GTP</td>\n",
       "      <td>active</td>\n",
       "      <td>...</td>\n",
       "      <td>[0.0, 0.0, 0.0, 0.0, 0.0, 0.0, 0.0, 0.0, 0.0, ...</td>\n",
       "      <td>[-0.29460245, 3.2372339, -0.071798466, -0.2784...</td>\n",
       "      <td>[-0.5887734, -0.385331, 1.0864619, -0.22392586...</td>\n",
       "      <td>426.590</td>\n",
       "      <td>1.56612</td>\n",
       "      <td>56.64</td>\n",
       "      <td>1.0</td>\n",
       "      <td>7.0</td>\n",
       "      <td>4.0</td>\n",
       "      <td>[426.59000000000015, 1.5661199999999997, 56.64...</td>\n",
       "    </tr>\n",
       "    <tr>\n",
       "      <th>6562</th>\n",
       "      <td>11582</td>\n",
       "      <td>N#C[C@@H]1CCCN1C(=O)CNC(CNC(=O)c1cnc2n(c1)nc(c...</td>\n",
       "      <td>3.80</td>\n",
       "      <td>IC50</td>\n",
       "      <td>nM</td>\n",
       "      <td>Human</td>\n",
       "      <td>dipeptidyl peptidase 4</td>\n",
       "      <td>8.420216</td>\n",
       "      <td>GTP</td>\n",
       "      <td>active</td>\n",
       "      <td>...</td>\n",
       "      <td>[0.0, 0.0, 0.0, 1.0, 1.0, 0.0, 0.0, 0.0, 0.0, ...</td>\n",
       "      <td>[-0.18015324, 3.3242683, 0.009748335, -1.13218...</td>\n",
       "      <td>[-0.9657126, -0.21932654, 1.3387622, 0.3709171...</td>\n",
       "      <td>383.456</td>\n",
       "      <td>0.65030</td>\n",
       "      <td>115.42</td>\n",
       "      <td>2.0</td>\n",
       "      <td>7.0</td>\n",
       "      <td>6.0</td>\n",
       "      <td>[383.45600000000013, 0.6503000000000008, 115.4...</td>\n",
       "    </tr>\n",
       "  </tbody>\n",
       "</table>\n",
       "<p>6563 rows × 25 columns</p>\n",
       "</div>"
      ],
      "text/plain": [
       "                id                                             smiles  \\\n",
       "0      CHEMBL93558                    N[C@@H](CC1CCCCC1)C(=O)N1CCCCC1   \n",
       "1     CHEMBL443622                              C[C@H](N)C(=O)N1CCCC1   \n",
       "2     CHEMBL403882                           O=C([C@@H]1CCCN1)N1CCCC1   \n",
       "3     CHEMBL328655                                S=C(C1CCCN1)N1CCCC1   \n",
       "4     CHEMBL328795                            NC(=O)CC(N)C(=O)N1CCCC1   \n",
       "...            ...                                                ...   \n",
       "6558          6310      N#C[C@@H]1CCCN1C(=O)CNC12CC3CC(C1)CC(C2)(C3)O   \n",
       "6559          6319     N#Cc1ccccc1Cn1c(cc(=O)n(c1=O)C)N1CCC[C@H](C1)N   \n",
       "6560          9893        OB([C@@H]1CCCN1C(=O)CNC(=O)c1cccc2c1cccc2)O   \n",
       "6561          9906  O=C(N1CSCC1)[C@H]1NC[C@H](C1)N1CCN(CC1)c1cc(nn...   \n",
       "6562         11582  N#C[C@@H]1CCCN1C(=O)CNC(CNC(=O)c1cnc2n(c1)nc(c...   \n",
       "\n",
       "      standard_value standard_type standard_units target_organism  \\\n",
       "0          217000.00          IC50             nM    Homo sapiens   \n",
       "1           41000.00          IC50             nM    Homo sapiens   \n",
       "2           15000.00          IC50             nM    Homo sapiens   \n",
       "3          500000.00          IC50             nM    Homo sapiens   \n",
       "4          188000.00          IC50             nM    Homo sapiens   \n",
       "...              ...           ...            ...             ...   \n",
       "6558           10.00          IC50             nM           Human   \n",
       "6559            3.40          IC50             nM           Human   \n",
       "6560        20000.00          IC50             nM           Human   \n",
       "6561            0.37          IC50             nM           Human   \n",
       "6562            3.80          IC50             nM           Human   \n",
       "\n",
       "             target_pref_name     pIC50  source     label  ...  \\\n",
       "0     Dipeptidyl peptidase IV  3.663540  ChEMBL  inactive  ...   \n",
       "1     Dipeptidyl peptidase IV  4.387216  ChEMBL  inactive  ...   \n",
       "2     Dipeptidyl peptidase IV  4.823909  ChEMBL  inactive  ...   \n",
       "3     Dipeptidyl peptidase IV  3.301030  ChEMBL  inactive  ...   \n",
       "4     Dipeptidyl peptidase IV  3.725842  ChEMBL  inactive  ...   \n",
       "...                       ...       ...     ...       ...  ...   \n",
       "6558   dipeptidyl peptidase 4  8.000000     GTP    active  ...   \n",
       "6559   dipeptidyl peptidase 4  8.468521     GTP    active  ...   \n",
       "6560   dipeptidyl peptidase 4  4.698970     GTP  inactive  ...   \n",
       "6561   dipeptidyl peptidase 4  9.431798     GTP    active  ...   \n",
       "6562   dipeptidyl peptidase 4  8.420216     GTP    active  ...   \n",
       "\n",
       "                                               ECFP_512  \\\n",
       "0     [0.0, 1.0, 1.0, 0.0, 1.0, 0.0, 0.0, 0.0, 0.0, ...   \n",
       "1     [0.0, 1.0, 0.0, 0.0, 1.0, 0.0, 0.0, 0.0, 0.0, ...   \n",
       "2     [0.0, 0.0, 0.0, 0.0, 1.0, 0.0, 0.0, 0.0, 0.0, ...   \n",
       "3     [0.0, 0.0, 0.0, 0.0, 1.0, 0.0, 0.0, 0.0, 0.0, ...   \n",
       "4     [0.0, 1.0, 0.0, 0.0, 1.0, 0.0, 0.0, 0.0, 0.0, ...   \n",
       "...                                                 ...   \n",
       "6558  [0.0, 0.0, 0.0, 0.0, 1.0, 0.0, 0.0, 0.0, 0.0, ...   \n",
       "6559  [0.0, 0.0, 0.0, 0.0, 1.0, 0.0, 0.0, 0.0, 0.0, ...   \n",
       "6560  [0.0, 0.0, 0.0, 0.0, 1.0, 0.0, 0.0, 0.0, 0.0, ...   \n",
       "6561  [0.0, 0.0, 0.0, 0.0, 0.0, 0.0, 0.0, 0.0, 0.0, ...   \n",
       "6562  [0.0, 0.0, 0.0, 1.0, 1.0, 0.0, 0.0, 0.0, 0.0, ...   \n",
       "\n",
       "                                     Llama3-2_Embedding  \\\n",
       "0     [-0.49902532, 2.9190297, -0.23703773, -0.25883...   \n",
       "1     [-0.9239326, 2.7885501, 0.38945127, 0.3505689,...   \n",
       "2     [-0.41079238, 2.760039, 0.025078857, -0.101544...   \n",
       "3     [-0.13337657, 2.8452492, 0.630767, 0.08860778,...   \n",
       "4     [-0.6948919, 2.6412396, 0.3524785, -0.21108356...   \n",
       "...                                                 ...   \n",
       "6558  [-0.034391124, 3.2505064, -0.06226227, -0.8268...   \n",
       "6559  [-0.4544638, 3.4690077, 0.44993114, -0.4079677...   \n",
       "6560  [-0.9101596, 2.5416348, 0.19975038, -0.3455297...   \n",
       "6561  [-0.29460245, 3.2372339, -0.071798466, -0.2784...   \n",
       "6562  [-0.18015324, 3.3242683, 0.009748335, -1.13218...   \n",
       "\n",
       "                                    ChemBERT2_Embedding    MolWt     LogP  \\\n",
       "0     [-0.38957188, -0.6216704, 0.4703551, 0.1626513...  238.375  2.29660   \n",
       "1     [-0.3062373, -0.24003226, 0.14207578, 0.525902...  142.202 -0.04400   \n",
       "2     [-0.3257358, -0.012994111, 0.17750713, -0.0522...  168.240  0.36080   \n",
       "3     [-0.0054997415, -0.37361592, 0.015422794, 0.30...  184.308  1.16160   \n",
       "4     [-0.6008385, -0.16555355, 0.1292091, 0.9035775...  185.227 -1.18850   \n",
       "...                                                 ...      ...      ...   \n",
       "6558  [-1.1099385, 0.32984978, 0.77433217, 0.4287404...  303.406  1.17428   \n",
       "6559  [-0.5232935, -0.16444466, 1.0117201, 0.1044423...  339.399  0.39448   \n",
       "6560  [-0.7491181, 0.03879051, 1.5210431, 0.18013704...  326.161  0.57260   \n",
       "6561  [-0.5887734, -0.385331, 1.0864619, -0.22392586...  426.590  1.56612   \n",
       "6562  [-0.9657126, -0.21932654, 1.3387622, 0.3709171...  383.456  0.65030   \n",
       "\n",
       "        TPSA  HBD  HBA  RotatableBonds  \\\n",
       "0      46.33  1.0  2.0             3.0   \n",
       "1      46.33  1.0  2.0             1.0   \n",
       "2      32.34  1.0  2.0             1.0   \n",
       "3      15.27  1.0  2.0             1.0   \n",
       "4      89.42  2.0  3.0             3.0   \n",
       "...      ...  ...  ...             ...   \n",
       "6558   76.36  2.0  4.0             3.0   \n",
       "6559   97.05  1.0  7.0             3.0   \n",
       "6560   89.87  3.0  4.0             4.0   \n",
       "6561   56.64  1.0  7.0             4.0   \n",
       "6562  115.42  2.0  7.0             6.0   \n",
       "\n",
       "                                         Physiochemical  \n",
       "0     [238.37499999999994, 2.2966000000000006, 46.33...  \n",
       "1     [142.20199999999997, -0.04400000000000004, 46....  \n",
       "2     [168.23999999999998, 0.3608, 32.34, 1.0, 2.0, ...  \n",
       "3     [184.30799999999996, 1.1616, 15.27, 1.0, 2.0, ...  \n",
       "4     [185.22699999999995, -1.1885000000000001, 89.4...  \n",
       "...                                                 ...  \n",
       "6558  [303.40600000000006, 1.1742799999999993, 76.36...  \n",
       "6559  [339.39900000000017, 0.3944800000000007, 97.04...  \n",
       "6560  [326.16100000000006, 0.5726000000000004, 89.87...  \n",
       "6561  [426.59000000000015, 1.5661199999999997, 56.64...  \n",
       "6562  [383.45600000000013, 0.6503000000000008, 115.4...  \n",
       "\n",
       "[6563 rows x 25 columns]"
      ]
     },
     "execution_count": 11,
     "metadata": {},
     "output_type": "execute_result"
    }
   ],
   "source": [
    "df = pd.read_parquet(os.path.join(DATA_PATH,'dpp4-26-03-25-feat.parquet'))\n",
    "df"
   ]
  },
  {
   "cell_type": "code",
   "execution_count": 12,
   "id": "366bb0f6",
   "metadata": {
    "tags": []
   },
   "outputs": [],
   "source": [
    "max_len = 212"
   ]
  },
  {
   "cell_type": "code",
   "execution_count": 13,
   "id": "71d38b84",
   "metadata": {
    "tags": []
   },
   "outputs": [
    {
     "data": {
      "text/plain": [
       "['N[C@@H](CC1CCCCC1)C(=O)N1CCCCC1',\n",
       " 'C[C@H](N)C(=O)N1CCCC1',\n",
       " 'O=C([C@@H]1CCCN1)N1CCCC1',\n",
       " 'S=C(C1CCCN1)N1CCCC1',\n",
       " 'NC(=O)CC(N)C(=O)N1CCCC1']"
      ]
     },
     "execution_count": 13,
     "metadata": {},
     "output_type": "execute_result"
    }
   ],
   "source": [
    "X = df[df['splits']=='train']['smiles'].tolist()\n",
    "y = df[df['splits']=='train']['target']\n",
    "X[:5]"
   ]
  },
  {
   "cell_type": "code",
   "execution_count": 14,
   "id": "466f71fa",
   "metadata": {
    "tags": []
   },
   "outputs": [
    {
     "data": {
      "text/plain": [
       "target\n",
       "0    2866\n",
       "1    2384\n",
       "Name: count, dtype: int64"
      ]
     },
     "execution_count": 14,
     "metadata": {},
     "output_type": "execute_result"
    }
   ],
   "source": [
    "y.value_counts()"
   ]
  },
  {
   "cell_type": "code",
   "execution_count": 42,
   "id": "0bb780ab",
   "metadata": {
    "tags": []
   },
   "outputs": [],
   "source": [
    "X_test =df[df['splits']=='test']['smiles'].tolist()\n",
    "y_test =df[df['splits']=='test']['target']"
   ]
  },
  {
   "cell_type": "code",
   "execution_count": 16,
   "id": "731b0ea4",
   "metadata": {
    "tags": []
   },
   "outputs": [
    {
     "name": "stdout",
     "output_type": "stream",
     "text": [
      "Train size:  4987\n",
      "Validation size:  263\n"
     ]
    }
   ],
   "source": [
    "X_train,X_valid,y_train,y_valid = train_test_split(X,y,test_size = 0.05, stratify = y,random_state = 42,shuffle = True)\n",
    "print('Train size: ',len(X_train))\n",
    "print('Validation size: ',len(X_valid))"
   ]
  },
  {
   "cell_type": "code",
   "execution_count": 18,
   "id": "3f99a760",
   "metadata": {
    "tags": []
   },
   "outputs": [],
   "source": [
    "def load_vocab(vocab_file = ROOT_DIR+'data/vocab.txt'):\n",
    "    \"\"\"Loads a vocabulary file into a dictionary.\"\"\"\n",
    "    if not os.path.exists(vocab_file):\n",
    "        wget.download(\"https://github.com/deepchem/deepchem/raw/2.4.0/deepchem/feat/tests/data/vocab.txt\" ,out = vocab_file)\n",
    "\n",
    "    vocab = collections.OrderedDict()\n",
    "    with open(vocab_file, \"r\", encoding=\"utf-8\") as reader:\n",
    "        tokens = reader.readlines()\n",
    "    for index, token in enumerate(tokens):\n",
    "        token = token.rstrip(\"\\n\")\n",
    "        vocab[token] = index\n",
    "    return vocab\n",
    "\n",
    "vocab = load_vocab()\n",
    "vocab_size = len(vocab)"
   ]
  },
  {
   "cell_type": "code",
   "execution_count": 19,
   "id": "853c1328",
   "metadata": {
    "tags": []
   },
   "outputs": [],
   "source": [
    "import re"
   ]
  },
  {
   "cell_type": "code",
   "execution_count": 20,
   "id": "c9d565f2",
   "metadata": {
    "tags": []
   },
   "outputs": [
    {
     "name": "stderr",
     "output_type": "stream",
     "text": [
      "I0000 00:00:1743234179.615820   57867 gpu_device.cc:2022] Created device /job:localhost/replica:0/task:0/device:GPU:0 with 79078 MB memory:  -> device: 0, name: NVIDIA A100 80GB PCIe, pci bus id: 0000:81:00.0, compute capability: 8.0\n"
     ]
    }
   ],
   "source": [
    "# In Molecule generation there is difference tokenization method\n",
    "# ref: https://github.com/devalab/molgpt/blob/72ff33ae747c0a4908b822732019a66e965a595a/generate/dataset.py#L41\n",
    "# ref: https://github.com/Fraunhofer-SCAI/llamol/blob/main/tokenizer.py\n",
    "from datasets import load_dataset\n",
    "SMI_REGEX_PATTERN = r\"\"\"(\\[[^\\]]+]|Br?|Cl?|N|O|S|P|F|I|b|c|n|o|s|p|\\(|\\)|\\.|=|#|-|\\+|\\\\|\\/|:|~|@|\\?|>>?|\\*|\\$|\\%[0-9]{2}|[0-9])\"\"\"\n",
    "regex = re.compile(SMI_REGEX_PATTERN)\n",
    "# ref: https://www.kaggle.com/code/hoyso48/2nd-place-solution-training?scriptVersionId=141882060&cellId=9\n",
    "TABLE = tf.lookup.StaticHashTable(\n",
    "    initializer=tf.lookup.KeyValueTensorInitializer(\n",
    "        keys=tf.constant(list(vocab.keys()),tf.string),\n",
    "        values=tf.constant(list(vocab.values()),tf.int32),\n",
    "    ),\n",
    "    default_value=tf.constant(-1),\n",
    "    name=\"tokenize\"\n",
    ")\n",
    "def encode_token(mol,target):\n",
    "    def wrapper(smi):\n",
    "        smi = smi.numpy().decode()\n",
    "        return tf.constant(regex.findall(smi))\n",
    "    \n",
    "    mol = tf.py_function(wrapper,[mol],[tf.string])[0]\n",
    "    \n",
    "    mol = TABLE.lookup(mol)\n",
    "    \n",
    "    return tf.cast(mol,'int64'),target\n",
    "\n",
    "def get_data(x,y, batch_size,pad_value = vocab['[PAD]'],shuffle=False):\n",
    "\n",
    "    ds = tf.data.Dataset.from_tensor_slices((x,y))\n",
    "    ds = ds.map(encode_token, tf.data.AUTOTUNE)\n",
    "    \n",
    "    if shuffle:\n",
    "        ds = ds.shuffle(shuffle)\n",
    "\n",
    "    if batch_size:\n",
    "        ds = ds.padded_batch(batch_size, padding_values=tf.cast(pad_value,'int64'), padded_shapes=([max_len],[]))\n",
    "\n",
    "    ds = ds.prefetch(tf.data.AUTOTUNE)\n",
    "\n",
    "    return ds"
   ]
  },
  {
   "cell_type": "code",
   "execution_count": 21,
   "id": "df137fa8",
   "metadata": {
    "tags": []
   },
   "outputs": [],
   "source": [
    "batch_size =8\n",
    "train_ds = get_data(X_train,y_train,batch_size=batch_size,shuffle=True)\n",
    "valid_ds = get_data(X_valid,y_valid,batch_size=batch_size,)"
   ]
  },
  {
   "cell_type": "code",
   "execution_count": 22,
   "id": "1625fddf",
   "metadata": {
    "tags": []
   },
   "outputs": [],
   "source": [
    "for i in valid_ds:\n",
    "    break"
   ]
  },
  {
   "cell_type": "code",
   "execution_count": 27,
   "id": "69012e3f",
   "metadata": {
    "tags": []
   },
   "outputs": [],
   "source": [
    "from tensorflow.keras import ops\n",
    "from tensorflow.keras import layers"
   ]
  },
  {
   "cell_type": "code",
   "execution_count": 28,
   "id": "aeb928a4",
   "metadata": {
    "tags": []
   },
   "outputs": [],
   "source": [
    "class TransformerBlock(layers.Layer):\n",
    "    def __init__(self, embed_dim, num_heads, ff_dim, rate=0.1):\n",
    "        super().__init__()\n",
    "        self.att = layers.MultiHeadAttention(num_heads=num_heads, key_dim=embed_dim)\n",
    "        self.ffn = keras.Sequential(\n",
    "            [layers.Dense(ff_dim, activation=\"relu\"), layers.Dense(embed_dim),]\n",
    "        )\n",
    "        self.layernorm1 = layers.LayerNormalization(epsilon=1e-6)\n",
    "        self.layernorm2 = layers.LayerNormalization(epsilon=1e-6)\n",
    "        self.dropout1 = layers.Dropout(rate)\n",
    "        self.dropout2 = layers.Dropout(rate)\n",
    "\n",
    "    def call(self, inputs):\n",
    "        attn_output = self.att(inputs, inputs)\n",
    "        attn_output = self.dropout1(attn_output)\n",
    "        out1 = self.layernorm1(inputs + attn_output)\n",
    "        ffn_output = self.ffn(out1)\n",
    "        ffn_output = self.dropout2(ffn_output)\n",
    "        return self.layernorm2(out1 + ffn_output)"
   ]
  },
  {
   "cell_type": "code",
   "execution_count": 29,
   "id": "f59ae23e",
   "metadata": {
    "tags": []
   },
   "outputs": [],
   "source": [
    "class TokenAndPositionEmbedding(layers.Layer):\n",
    "    def __init__(self, maxlen, vocab_size, embed_dim):\n",
    "        super().__init__()\n",
    "        self.token_emb = layers.Embedding(input_dim=vocab_size, output_dim=embed_dim)\n",
    "        self.pos_emb = layers.Embedding(input_dim=maxlen, output_dim=embed_dim)\n",
    "\n",
    "        \n",
    "    def call(self, x):\n",
    "        maxlen = ops.shape(x)[-1]\n",
    "        positions = ops.arange(start=0, stop=maxlen, step=1)\n",
    "        positions = self.pos_emb(positions)\n",
    "        x = self.token_emb(x)\n",
    "        return x + positions"
   ]
  },
  {
   "cell_type": "code",
   "execution_count": 30,
   "id": "352a212e",
   "metadata": {
    "tags": []
   },
   "outputs": [],
   "source": [
    "embed_dim = 32  # Embedding size for each token\n",
    "num_heads = 2  # Number of attention heads\n",
    "ff_dim = 32  # Hidden layer size in feed forward network inside transformer\n",
    "\n",
    "inputs = layers.Input(shape=(max_len,))\n",
    "embedding_layer = TokenAndPositionEmbedding(max_len, vocab_size, embed_dim)\n",
    "x = embedding_layer(inputs)\n",
    "x = TransformerBlock(embed_dim, num_heads, ff_dim)(x)\n",
    "x = TransformerBlock(embed_dim, num_heads, ff_dim)(x)\n",
    "x = TransformerBlock(embed_dim, num_heads, ff_dim)(x)\n",
    "x = layers.GlobalAveragePooling1D()(x)\n",
    "x = layers.Dropout(0.1)(x)\n",
    "x = layers.Dense(20, activation=\"relu\")(x)\n",
    "x = layers.Dropout(0.1)(x)\n",
    "outputs = layers.Dense(2, activation=\"softmax\")(x)\n",
    "\n",
    "model = keras.Model(inputs=inputs, outputs=outputs)"
   ]
  },
  {
   "cell_type": "code",
   "execution_count": 31,
   "id": "b385dbf1",
   "metadata": {
    "tags": []
   },
   "outputs": [],
   "source": [
    "model.compile(\n",
    "#     optimizer = 'auto',\n",
    "    optimizer = keras.optimizers.Adam(\n",
    "        learning_rate=0.0001,\n",
    "        ),\n",
    "    loss = keras.losses.SparseCategoricalCrossentropy(from_logits=False),\n",
    "    metrics= [keras.metrics.SparseCategoricalAccuracy()],\n",
    ")"
   ]
  },
  {
   "cell_type": "code",
   "execution_count": 32,
   "id": "d112b8c0",
   "metadata": {
    "scrolled": true,
    "tags": []
   },
   "outputs": [
    {
     "data": {
      "text/html": [
       "<pre style=\"white-space:pre;overflow-x:auto;line-height:normal;font-family:Menlo,'DejaVu Sans Mono',consolas,'Courier New',monospace\"><span style=\"font-weight: bold\">Model: \"functional_3\"</span>\n",
       "</pre>\n"
      ],
      "text/plain": [
       "\u001b[1mModel: \"functional_3\"\u001b[0m\n"
      ]
     },
     "metadata": {},
     "output_type": "display_data"
    },
    {
     "data": {
      "text/html": [
       "<pre style=\"white-space:pre;overflow-x:auto;line-height:normal;font-family:Menlo,'DejaVu Sans Mono',consolas,'Courier New',monospace\">┏━━━━━━━━━━━━━━━━━━━━━━━━━━━━━━━━━┳━━━━━━━━━━━━━━━━━━━━━━━━┳━━━━━━━━━━━━━━━┓\n",
       "┃<span style=\"font-weight: bold\"> Layer (type)                    </span>┃<span style=\"font-weight: bold\"> Output Shape           </span>┃<span style=\"font-weight: bold\">       Param # </span>┃\n",
       "┡━━━━━━━━━━━━━━━━━━━━━━━━━━━━━━━━━╇━━━━━━━━━━━━━━━━━━━━━━━━╇━━━━━━━━━━━━━━━┩\n",
       "│ input_layer (<span style=\"color: #0087ff; text-decoration-color: #0087ff\">InputLayer</span>)        │ (<span style=\"color: #00d7ff; text-decoration-color: #00d7ff\">None</span>, <span style=\"color: #00af00; text-decoration-color: #00af00\">212</span>)            │             <span style=\"color: #00af00; text-decoration-color: #00af00\">0</span> │\n",
       "├─────────────────────────────────┼────────────────────────┼───────────────┤\n",
       "│ token_and_position_embedding    │ (<span style=\"color: #00d7ff; text-decoration-color: #00d7ff\">None</span>, <span style=\"color: #00af00; text-decoration-color: #00af00\">212</span>, <span style=\"color: #00af00; text-decoration-color: #00af00\">32</span>)        │        <span style=\"color: #00af00; text-decoration-color: #00af00\">25,696</span> │\n",
       "│ (<span style=\"color: #0087ff; text-decoration-color: #0087ff\">TokenAndPositionEmbedding</span>)     │                        │               │\n",
       "├─────────────────────────────────┼────────────────────────┼───────────────┤\n",
       "│ transformer_block               │ (<span style=\"color: #00d7ff; text-decoration-color: #00d7ff\">None</span>, <span style=\"color: #00af00; text-decoration-color: #00af00\">212</span>, <span style=\"color: #00af00; text-decoration-color: #00af00\">32</span>)        │        <span style=\"color: #00af00; text-decoration-color: #00af00\">10,656</span> │\n",
       "│ (<span style=\"color: #0087ff; text-decoration-color: #0087ff\">TransformerBlock</span>)              │                        │               │\n",
       "├─────────────────────────────────┼────────────────────────┼───────────────┤\n",
       "│ transformer_block_1             │ (<span style=\"color: #00d7ff; text-decoration-color: #00d7ff\">None</span>, <span style=\"color: #00af00; text-decoration-color: #00af00\">212</span>, <span style=\"color: #00af00; text-decoration-color: #00af00\">32</span>)        │        <span style=\"color: #00af00; text-decoration-color: #00af00\">10,656</span> │\n",
       "│ (<span style=\"color: #0087ff; text-decoration-color: #0087ff\">TransformerBlock</span>)              │                        │               │\n",
       "├─────────────────────────────────┼────────────────────────┼───────────────┤\n",
       "│ transformer_block_2             │ (<span style=\"color: #00d7ff; text-decoration-color: #00d7ff\">None</span>, <span style=\"color: #00af00; text-decoration-color: #00af00\">212</span>, <span style=\"color: #00af00; text-decoration-color: #00af00\">32</span>)        │        <span style=\"color: #00af00; text-decoration-color: #00af00\">10,656</span> │\n",
       "│ (<span style=\"color: #0087ff; text-decoration-color: #0087ff\">TransformerBlock</span>)              │                        │               │\n",
       "├─────────────────────────────────┼────────────────────────┼───────────────┤\n",
       "│ global_average_pooling1d        │ (<span style=\"color: #00d7ff; text-decoration-color: #00d7ff\">None</span>, <span style=\"color: #00af00; text-decoration-color: #00af00\">32</span>)             │             <span style=\"color: #00af00; text-decoration-color: #00af00\">0</span> │\n",
       "│ (<span style=\"color: #0087ff; text-decoration-color: #0087ff\">GlobalAveragePooling1D</span>)        │                        │               │\n",
       "├─────────────────────────────────┼────────────────────────┼───────────────┤\n",
       "│ dropout_9 (<span style=\"color: #0087ff; text-decoration-color: #0087ff\">Dropout</span>)             │ (<span style=\"color: #00d7ff; text-decoration-color: #00d7ff\">None</span>, <span style=\"color: #00af00; text-decoration-color: #00af00\">32</span>)             │             <span style=\"color: #00af00; text-decoration-color: #00af00\">0</span> │\n",
       "├─────────────────────────────────┼────────────────────────┼───────────────┤\n",
       "│ dense_6 (<span style=\"color: #0087ff; text-decoration-color: #0087ff\">Dense</span>)                 │ (<span style=\"color: #00d7ff; text-decoration-color: #00d7ff\">None</span>, <span style=\"color: #00af00; text-decoration-color: #00af00\">20</span>)             │           <span style=\"color: #00af00; text-decoration-color: #00af00\">660</span> │\n",
       "├─────────────────────────────────┼────────────────────────┼───────────────┤\n",
       "│ dropout_10 (<span style=\"color: #0087ff; text-decoration-color: #0087ff\">Dropout</span>)            │ (<span style=\"color: #00d7ff; text-decoration-color: #00d7ff\">None</span>, <span style=\"color: #00af00; text-decoration-color: #00af00\">20</span>)             │             <span style=\"color: #00af00; text-decoration-color: #00af00\">0</span> │\n",
       "├─────────────────────────────────┼────────────────────────┼───────────────┤\n",
       "│ dense_7 (<span style=\"color: #0087ff; text-decoration-color: #0087ff\">Dense</span>)                 │ (<span style=\"color: #00d7ff; text-decoration-color: #00d7ff\">None</span>, <span style=\"color: #00af00; text-decoration-color: #00af00\">2</span>)              │            <span style=\"color: #00af00; text-decoration-color: #00af00\">42</span> │\n",
       "└─────────────────────────────────┴────────────────────────┴───────────────┘\n",
       "</pre>\n"
      ],
      "text/plain": [
       "┏━━━━━━━━━━━━━━━━━━━━━━━━━━━━━━━━━┳━━━━━━━━━━━━━━━━━━━━━━━━┳━━━━━━━━━━━━━━━┓\n",
       "┃\u001b[1m \u001b[0m\u001b[1mLayer (type)                   \u001b[0m\u001b[1m \u001b[0m┃\u001b[1m \u001b[0m\u001b[1mOutput Shape          \u001b[0m\u001b[1m \u001b[0m┃\u001b[1m \u001b[0m\u001b[1m      Param #\u001b[0m\u001b[1m \u001b[0m┃\n",
       "┡━━━━━━━━━━━━━━━━━━━━━━━━━━━━━━━━━╇━━━━━━━━━━━━━━━━━━━━━━━━╇━━━━━━━━━━━━━━━┩\n",
       "│ input_layer (\u001b[38;5;33mInputLayer\u001b[0m)        │ (\u001b[38;5;45mNone\u001b[0m, \u001b[38;5;34m212\u001b[0m)            │             \u001b[38;5;34m0\u001b[0m │\n",
       "├─────────────────────────────────┼────────────────────────┼───────────────┤\n",
       "│ token_and_position_embedding    │ (\u001b[38;5;45mNone\u001b[0m, \u001b[38;5;34m212\u001b[0m, \u001b[38;5;34m32\u001b[0m)        │        \u001b[38;5;34m25,696\u001b[0m │\n",
       "│ (\u001b[38;5;33mTokenAndPositionEmbedding\u001b[0m)     │                        │               │\n",
       "├─────────────────────────────────┼────────────────────────┼───────────────┤\n",
       "│ transformer_block               │ (\u001b[38;5;45mNone\u001b[0m, \u001b[38;5;34m212\u001b[0m, \u001b[38;5;34m32\u001b[0m)        │        \u001b[38;5;34m10,656\u001b[0m │\n",
       "│ (\u001b[38;5;33mTransformerBlock\u001b[0m)              │                        │               │\n",
       "├─────────────────────────────────┼────────────────────────┼───────────────┤\n",
       "│ transformer_block_1             │ (\u001b[38;5;45mNone\u001b[0m, \u001b[38;5;34m212\u001b[0m, \u001b[38;5;34m32\u001b[0m)        │        \u001b[38;5;34m10,656\u001b[0m │\n",
       "│ (\u001b[38;5;33mTransformerBlock\u001b[0m)              │                        │               │\n",
       "├─────────────────────────────────┼────────────────────────┼───────────────┤\n",
       "│ transformer_block_2             │ (\u001b[38;5;45mNone\u001b[0m, \u001b[38;5;34m212\u001b[0m, \u001b[38;5;34m32\u001b[0m)        │        \u001b[38;5;34m10,656\u001b[0m │\n",
       "│ (\u001b[38;5;33mTransformerBlock\u001b[0m)              │                        │               │\n",
       "├─────────────────────────────────┼────────────────────────┼───────────────┤\n",
       "│ global_average_pooling1d        │ (\u001b[38;5;45mNone\u001b[0m, \u001b[38;5;34m32\u001b[0m)             │             \u001b[38;5;34m0\u001b[0m │\n",
       "│ (\u001b[38;5;33mGlobalAveragePooling1D\u001b[0m)        │                        │               │\n",
       "├─────────────────────────────────┼────────────────────────┼───────────────┤\n",
       "│ dropout_9 (\u001b[38;5;33mDropout\u001b[0m)             │ (\u001b[38;5;45mNone\u001b[0m, \u001b[38;5;34m32\u001b[0m)             │             \u001b[38;5;34m0\u001b[0m │\n",
       "├─────────────────────────────────┼────────────────────────┼───────────────┤\n",
       "│ dense_6 (\u001b[38;5;33mDense\u001b[0m)                 │ (\u001b[38;5;45mNone\u001b[0m, \u001b[38;5;34m20\u001b[0m)             │           \u001b[38;5;34m660\u001b[0m │\n",
       "├─────────────────────────────────┼────────────────────────┼───────────────┤\n",
       "│ dropout_10 (\u001b[38;5;33mDropout\u001b[0m)            │ (\u001b[38;5;45mNone\u001b[0m, \u001b[38;5;34m20\u001b[0m)             │             \u001b[38;5;34m0\u001b[0m │\n",
       "├─────────────────────────────────┼────────────────────────┼───────────────┤\n",
       "│ dense_7 (\u001b[38;5;33mDense\u001b[0m)                 │ (\u001b[38;5;45mNone\u001b[0m, \u001b[38;5;34m2\u001b[0m)              │            \u001b[38;5;34m42\u001b[0m │\n",
       "└─────────────────────────────────┴────────────────────────┴───────────────┘\n"
      ]
     },
     "metadata": {},
     "output_type": "display_data"
    },
    {
     "data": {
      "text/html": [
       "<pre style=\"white-space:pre;overflow-x:auto;line-height:normal;font-family:Menlo,'DejaVu Sans Mono',consolas,'Courier New',monospace\"><span style=\"font-weight: bold\"> Total params: </span><span style=\"color: #00af00; text-decoration-color: #00af00\">58,366</span> (227.99 KB)\n",
       "</pre>\n"
      ],
      "text/plain": [
       "\u001b[1m Total params: \u001b[0m\u001b[38;5;34m58,366\u001b[0m (227.99 KB)\n"
      ]
     },
     "metadata": {},
     "output_type": "display_data"
    },
    {
     "data": {
      "text/html": [
       "<pre style=\"white-space:pre;overflow-x:auto;line-height:normal;font-family:Menlo,'DejaVu Sans Mono',consolas,'Courier New',monospace\"><span style=\"font-weight: bold\"> Trainable params: </span><span style=\"color: #00af00; text-decoration-color: #00af00\">58,366</span> (227.99 KB)\n",
       "</pre>\n"
      ],
      "text/plain": [
       "\u001b[1m Trainable params: \u001b[0m\u001b[38;5;34m58,366\u001b[0m (227.99 KB)\n"
      ]
     },
     "metadata": {},
     "output_type": "display_data"
    },
    {
     "data": {
      "text/html": [
       "<pre style=\"white-space:pre;overflow-x:auto;line-height:normal;font-family:Menlo,'DejaVu Sans Mono',consolas,'Courier New',monospace\"><span style=\"font-weight: bold\"> Non-trainable params: </span><span style=\"color: #00af00; text-decoration-color: #00af00\">0</span> (0.00 B)\n",
       "</pre>\n"
      ],
      "text/plain": [
       "\u001b[1m Non-trainable params: \u001b[0m\u001b[38;5;34m0\u001b[0m (0.00 B)\n"
      ]
     },
     "metadata": {},
     "output_type": "display_data"
    }
   ],
   "source": [
    "model.summary()"
   ]
  },
  {
   "cell_type": "code",
   "execution_count": 33,
   "id": "b6b947d8",
   "metadata": {
    "tags": []
   },
   "outputs": [
    {
     "data": {
      "text/plain": [
       "<_PrefetchDataset element_spec=(TensorSpec(shape=(None, 212), dtype=tf.int64, name=None), TensorSpec(shape=(None,), dtype=tf.int64, name=None))>"
      ]
     },
     "execution_count": 33,
     "metadata": {},
     "output_type": "execute_result"
    }
   ],
   "source": [
    "valid_ds"
   ]
  },
  {
   "cell_type": "code",
   "execution_count": 34,
   "id": "4dc90515",
   "metadata": {
    "scrolled": true,
    "tags": []
   },
   "outputs": [
    {
     "name": "stdout",
     "output_type": "stream",
     "text": [
      "Epoch 1/30\n"
     ]
    },
    {
     "name": "stderr",
     "output_type": "stream",
     "text": [
      "WARNING: All log messages before absl::InitializeLog() is called are written to STDERR\n",
      "I0000 00:00:1743234214.356748   58764 service.cc:148] XLA service 0x2aad080010f0 initialized for platform CUDA (this does not guarantee that XLA will be used). Devices:\n",
      "I0000 00:00:1743234214.356830   58764 service.cc:156]   StreamExecutor device (0): NVIDIA A100 80GB PCIe, Compute Capability 8.0\n",
      "I0000 00:00:1743234215.201102   58764 cuda_dnn.cc:529] Loaded cuDNN version 90300\n"
     ]
    },
    {
     "name": "stdout",
     "output_type": "stream",
     "text": [
      "\u001b[1m 38/624\u001b[0m \u001b[32m━\u001b[0m\u001b[37m━━━━━━━━━━━━━━━━━━━\u001b[0m \u001b[1m2s\u001b[0m 4ms/step - loss: 0.7499 - sparse_categorical_accuracy: 0.4872"
     ]
    },
    {
     "name": "stderr",
     "output_type": "stream",
     "text": [
      "I0000 00:00:1743234286.513943   58764 device_compiler.h:188] Compiled cluster using XLA!  This line is logged at most once for the lifetime of the process.\n"
     ]
    },
    {
     "name": "stdout",
     "output_type": "stream",
     "text": [
      "\u001b[1m624/624\u001b[0m \u001b[32m━━━━━━━━━━━━━━━━━━━━\u001b[0m\u001b[37m\u001b[0m \u001b[1m145s\u001b[0m 109ms/step - loss: 0.7107 - sparse_categorical_accuracy: 0.5190 - val_loss: 0.6576 - val_sparse_categorical_accuracy: 0.6654\n",
      "Epoch 2/30\n",
      "\u001b[1m624/624\u001b[0m \u001b[32m━━━━━━━━━━━━━━━━━━━━\u001b[0m\u001b[37m\u001b[0m \u001b[1m3s\u001b[0m 4ms/step - loss: 0.6662 - sparse_categorical_accuracy: 0.6006 - val_loss: 0.6120 - val_sparse_categorical_accuracy: 0.6920\n",
      "Epoch 3/30\n",
      "\u001b[1m624/624\u001b[0m \u001b[32m━━━━━━━━━━━━━━━━━━━━\u001b[0m\u001b[37m\u001b[0m \u001b[1m3s\u001b[0m 4ms/step - loss: 0.6219 - sparse_categorical_accuracy: 0.6627 - val_loss: 0.5459 - val_sparse_categorical_accuracy: 0.7148\n",
      "Epoch 4/30\n",
      "\u001b[1m624/624\u001b[0m \u001b[32m━━━━━━━━━━━━━━━━━━━━\u001b[0m\u001b[37m\u001b[0m \u001b[1m3s\u001b[0m 4ms/step - loss: 0.5450 - sparse_categorical_accuracy: 0.7417 - val_loss: 0.5109 - val_sparse_categorical_accuracy: 0.7376\n",
      "Epoch 5/30\n",
      "\u001b[1m624/624\u001b[0m \u001b[32m━━━━━━━━━━━━━━━━━━━━\u001b[0m\u001b[37m\u001b[0m \u001b[1m3s\u001b[0m 4ms/step - loss: 0.5141 - sparse_categorical_accuracy: 0.7599 - val_loss: 0.4969 - val_sparse_categorical_accuracy: 0.7567\n",
      "Epoch 6/30\n",
      "\u001b[1m624/624\u001b[0m \u001b[32m━━━━━━━━━━━━━━━━━━━━\u001b[0m\u001b[37m\u001b[0m \u001b[1m3s\u001b[0m 4ms/step - loss: 0.4983 - sparse_categorical_accuracy: 0.7727 - val_loss: 0.4923 - val_sparse_categorical_accuracy: 0.7605\n",
      "Epoch 7/30\n",
      "\u001b[1m624/624\u001b[0m \u001b[32m━━━━━━━━━━━━━━━━━━━━\u001b[0m\u001b[37m\u001b[0m \u001b[1m3s\u001b[0m 4ms/step - loss: 0.4887 - sparse_categorical_accuracy: 0.7843 - val_loss: 0.5003 - val_sparse_categorical_accuracy: 0.7605\n",
      "Epoch 8/30\n",
      "\u001b[1m624/624\u001b[0m \u001b[32m━━━━━━━━━━━━━━━━━━━━\u001b[0m\u001b[37m\u001b[0m \u001b[1m3s\u001b[0m 4ms/step - loss: 0.4784 - sparse_categorical_accuracy: 0.7838 - val_loss: 0.5043 - val_sparse_categorical_accuracy: 0.7643\n",
      "Epoch 9/30\n",
      "\u001b[1m624/624\u001b[0m \u001b[32m━━━━━━━━━━━━━━━━━━━━\u001b[0m\u001b[37m\u001b[0m \u001b[1m3s\u001b[0m 4ms/step - loss: 0.4624 - sparse_categorical_accuracy: 0.7989 - val_loss: 0.4987 - val_sparse_categorical_accuracy: 0.7529\n",
      "Epoch 10/30\n",
      "\u001b[1m624/624\u001b[0m \u001b[32m━━━━━━━━━━━━━━━━━━━━\u001b[0m\u001b[37m\u001b[0m \u001b[1m3s\u001b[0m 4ms/step - loss: 0.4602 - sparse_categorical_accuracy: 0.8003 - val_loss: 0.5118 - val_sparse_categorical_accuracy: 0.7567\n",
      "Epoch 11/30\n",
      "\u001b[1m624/624\u001b[0m \u001b[32m━━━━━━━━━━━━━━━━━━━━\u001b[0m\u001b[37m\u001b[0m \u001b[1m3s\u001b[0m 4ms/step - loss: 0.4578 - sparse_categorical_accuracy: 0.7980 - val_loss: 0.5046 - val_sparse_categorical_accuracy: 0.7757\n",
      "Epoch 12/30\n",
      "\u001b[1m624/624\u001b[0m \u001b[32m━━━━━━━━━━━━━━━━━━━━\u001b[0m\u001b[37m\u001b[0m \u001b[1m3s\u001b[0m 4ms/step - loss: 0.4477 - sparse_categorical_accuracy: 0.8071 - val_loss: 0.5098 - val_sparse_categorical_accuracy: 0.7605\n",
      "Epoch 13/30\n",
      "\u001b[1m624/624\u001b[0m \u001b[32m━━━━━━━━━━━━━━━━━━━━\u001b[0m\u001b[37m\u001b[0m \u001b[1m3s\u001b[0m 4ms/step - loss: 0.4355 - sparse_categorical_accuracy: 0.8152 - val_loss: 0.5148 - val_sparse_categorical_accuracy: 0.7795\n",
      "Epoch 14/30\n",
      "\u001b[1m624/624\u001b[0m \u001b[32m━━━━━━━━━━━━━━━━━━━━\u001b[0m\u001b[37m\u001b[0m \u001b[1m3s\u001b[0m 4ms/step - loss: 0.4329 - sparse_categorical_accuracy: 0.8189 - val_loss: 0.5198 - val_sparse_categorical_accuracy: 0.7757\n",
      "Epoch 15/30\n",
      "\u001b[1m624/624\u001b[0m \u001b[32m━━━━━━━━━━━━━━━━━━━━\u001b[0m\u001b[37m\u001b[0m \u001b[1m3s\u001b[0m 4ms/step - loss: 0.4326 - sparse_categorical_accuracy: 0.8219 - val_loss: 0.5048 - val_sparse_categorical_accuracy: 0.7757\n",
      "Epoch 16/30\n",
      "\u001b[1m624/624\u001b[0m \u001b[32m━━━━━━━━━━━━━━━━━━━━\u001b[0m\u001b[37m\u001b[0m \u001b[1m3s\u001b[0m 4ms/step - loss: 0.4192 - sparse_categorical_accuracy: 0.8234 - val_loss: 0.5093 - val_sparse_categorical_accuracy: 0.7757\n",
      "Epoch 17/30\n",
      "\u001b[1m624/624\u001b[0m \u001b[32m━━━━━━━━━━━━━━━━━━━━\u001b[0m\u001b[37m\u001b[0m \u001b[1m3s\u001b[0m 4ms/step - loss: 0.4199 - sparse_categorical_accuracy: 0.8256 - val_loss: 0.4987 - val_sparse_categorical_accuracy: 0.7833\n",
      "Epoch 18/30\n",
      "\u001b[1m624/624\u001b[0m \u001b[32m━━━━━━━━━━━━━━━━━━━━\u001b[0m\u001b[37m\u001b[0m \u001b[1m3s\u001b[0m 4ms/step - loss: 0.4111 - sparse_categorical_accuracy: 0.8240 - val_loss: 0.5179 - val_sparse_categorical_accuracy: 0.7757\n",
      "Epoch 19/30\n",
      "\u001b[1m624/624\u001b[0m \u001b[32m━━━━━━━━━━━━━━━━━━━━\u001b[0m\u001b[37m\u001b[0m \u001b[1m3s\u001b[0m 4ms/step - loss: 0.4049 - sparse_categorical_accuracy: 0.8353 - val_loss: 0.5286 - val_sparse_categorical_accuracy: 0.7833\n",
      "Epoch 20/30\n",
      "\u001b[1m624/624\u001b[0m \u001b[32m━━━━━━━━━━━━━━━━━━━━\u001b[0m\u001b[37m\u001b[0m \u001b[1m3s\u001b[0m 4ms/step - loss: 0.3997 - sparse_categorical_accuracy: 0.8262 - val_loss: 0.5405 - val_sparse_categorical_accuracy: 0.7605\n",
      "Epoch 21/30\n",
      "\u001b[1m624/624\u001b[0m \u001b[32m━━━━━━━━━━━━━━━━━━━━\u001b[0m\u001b[37m\u001b[0m \u001b[1m3s\u001b[0m 4ms/step - loss: 0.4060 - sparse_categorical_accuracy: 0.8302 - val_loss: 0.5222 - val_sparse_categorical_accuracy: 0.7795\n",
      "Epoch 22/30\n",
      "\u001b[1m624/624\u001b[0m \u001b[32m━━━━━━━━━━━━━━━━━━━━\u001b[0m\u001b[37m\u001b[0m \u001b[1m3s\u001b[0m 4ms/step - loss: 0.3924 - sparse_categorical_accuracy: 0.8357 - val_loss: 0.5512 - val_sparse_categorical_accuracy: 0.7719\n",
      "Epoch 23/30\n",
      "\u001b[1m624/624\u001b[0m \u001b[32m━━━━━━━━━━━━━━━━━━━━\u001b[0m\u001b[37m\u001b[0m \u001b[1m3s\u001b[0m 4ms/step - loss: 0.3884 - sparse_categorical_accuracy: 0.8293 - val_loss: 0.5561 - val_sparse_categorical_accuracy: 0.7681\n",
      "Epoch 24/30\n",
      "\u001b[1m624/624\u001b[0m \u001b[32m━━━━━━━━━━━━━━━━━━━━\u001b[0m\u001b[37m\u001b[0m \u001b[1m3s\u001b[0m 4ms/step - loss: 0.3843 - sparse_categorical_accuracy: 0.8406 - val_loss: 0.5331 - val_sparse_categorical_accuracy: 0.7795\n",
      "Epoch 25/30\n",
      "\u001b[1m624/624\u001b[0m \u001b[32m━━━━━━━━━━━━━━━━━━━━\u001b[0m\u001b[37m\u001b[0m \u001b[1m3s\u001b[0m 4ms/step - loss: 0.3795 - sparse_categorical_accuracy: 0.8461 - val_loss: 0.5561 - val_sparse_categorical_accuracy: 0.7757\n",
      "Epoch 26/30\n",
      "\u001b[1m624/624\u001b[0m \u001b[32m━━━━━━━━━━━━━━━━━━━━\u001b[0m\u001b[37m\u001b[0m \u001b[1m3s\u001b[0m 4ms/step - loss: 0.3793 - sparse_categorical_accuracy: 0.8438 - val_loss: 0.5798 - val_sparse_categorical_accuracy: 0.7719\n",
      "Epoch 27/30\n",
      "\u001b[1m624/624\u001b[0m \u001b[32m━━━━━━━━━━━━━━━━━━━━\u001b[0m\u001b[37m\u001b[0m \u001b[1m3s\u001b[0m 4ms/step - loss: 0.3735 - sparse_categorical_accuracy: 0.8436 - val_loss: 0.5451 - val_sparse_categorical_accuracy: 0.7795\n",
      "Epoch 28/30\n",
      "\u001b[1m624/624\u001b[0m \u001b[32m━━━━━━━━━━━━━━━━━━━━\u001b[0m\u001b[37m\u001b[0m \u001b[1m3s\u001b[0m 4ms/step - loss: 0.3759 - sparse_categorical_accuracy: 0.8378 - val_loss: 0.5767 - val_sparse_categorical_accuracy: 0.7871\n",
      "Epoch 29/30\n",
      "\u001b[1m624/624\u001b[0m \u001b[32m━━━━━━━━━━━━━━━━━━━━\u001b[0m\u001b[37m\u001b[0m \u001b[1m3s\u001b[0m 4ms/step - loss: 0.3648 - sparse_categorical_accuracy: 0.8469 - val_loss: 0.5517 - val_sparse_categorical_accuracy: 0.7681\n",
      "Epoch 30/30\n",
      "\u001b[1m624/624\u001b[0m \u001b[32m━━━━━━━━━━━━━━━━━━━━\u001b[0m\u001b[37m\u001b[0m \u001b[1m3s\u001b[0m 4ms/step - loss: 0.3696 - sparse_categorical_accuracy: 0.8457 - val_loss: 0.5563 - val_sparse_categorical_accuracy: 0.7909\n"
     ]
    },
    {
     "data": {
      "text/plain": [
       "<keras.src.callbacks.history.History at 0x2aab5beeecc0>"
      ]
     },
     "execution_count": 34,
     "metadata": {},
     "output_type": "execute_result"
    }
   ],
   "source": [
    "model.fit(\n",
    "    train_ds,\n",
    "    epochs = 30, \n",
    "    validation_data = valid_ds,\n",
    "         )"
   ]
  },
  {
   "cell_type": "code",
   "execution_count": 36,
   "id": "a47baec2",
   "metadata": {
    "tags": []
   },
   "outputs": [],
   "source": [
    "model.save(os.path.join(OUTPUT_PATH,'trans-v1-dpp4.keras'))"
   ]
  },
  {
   "cell_type": "code",
   "execution_count": 37,
   "id": "d1959df8",
   "metadata": {
    "tags": []
   },
   "outputs": [],
   "source": [
    "from sklearn.metrics import accuracy_score,f1_score,roc_auc_score, matthews_corrcoef"
   ]
  },
  {
   "cell_type": "code",
   "execution_count": 38,
   "id": "e4149a34",
   "metadata": {
    "tags": []
   },
   "outputs": [],
   "source": [
    "test_ds =get_data(X_test,y_test,batch_size= 8)"
   ]
  },
  {
   "cell_type": "code",
   "execution_count": 39,
   "id": "31238848",
   "metadata": {
    "scrolled": true,
    "tags": []
   },
   "outputs": [
    {
     "name": "stdout",
     "output_type": "stream",
     "text": [
      "\u001b[1m165/165\u001b[0m \u001b[32m━━━━━━━━━━━━━━━━━━━━\u001b[0m\u001b[37m\u001b[0m \u001b[1m23s\u001b[0m 132ms/step\n"
     ]
    }
   ],
   "source": [
    "y_pred = model.predict(test_ds)"
   ]
  },
  {
   "cell_type": "code",
   "execution_count": 40,
   "id": "d4d77998",
   "metadata": {
    "tags": []
   },
   "outputs": [
    {
     "name": "stdout",
     "output_type": "stream",
     "text": [
      "accuracy:  0.7821782178217822\n",
      "f1_score:  0.7306967984934086\n",
      "roc_auc_score:  0.8549383149401402\n",
      "matthews_corrcoef:  0.5641877566675518\n"
     ]
    }
   ],
   "source": [
    "print(\"accuracy: \",accuracy_score(y_test,y_pred.argmax(-1)))\n",
    "print(\"f1_score: \",f1_score(y_test,y_pred.argmax(-1)))      \n",
    "print(\"roc_auc_score: \",roc_auc_score(y_test.values,tf.nn.sigmoid(y_pred)[:,1].numpy()))      \n",
    "print(\"matthews_corrcoef: \",matthews_corrcoef(y_test,y_pred.argmax(-1)))"
   ]
  },
  {
   "cell_type": "code",
   "execution_count": 43,
   "id": "314fc8eb-9fdc-4e6c-9031-0fcbe7dddbb8",
   "metadata": {
    "tags": []
   },
   "outputs": [],
   "source": [
    "from sklearn.metrics import (\n",
    "    accuracy_score,\n",
    "    f1_score,\n",
    "    roc_auc_score,\n",
    "    roc_curve,\n",
    "    matthews_corrcoef,\n",
    "    precision_score,\n",
    "    recall_score,\n",
    "    confusion_matrix,\n",
    "    classification_report,\n",
    "    auc,\n",
    "    ConfusionMatrixDisplay,\n",
    ")"
   ]
  },
  {
   "cell_type": "code",
   "execution_count": 48,
   "id": "fa565ba1",
   "metadata": {},
   "outputs": [
    {
     "data": {
      "image/png": "[encoded data removed]",
      "text/plain": [
       "<Figure size 640x480 with 2 Axes>"
      ]
     },
     "metadata": {},
     "output_type": "display_data"
    }
   ],
   "source": [
    "cm = confusion_matrix(y_test, y_pred.argmax(-1))\n",
    "\n",
    "# 6. Plot the confusion matrix\n",
    "disp = ConfusionMatrixDisplay(confusion_matrix=cm,display_labels = ['Active', 'Inactive'])\n",
    "disp.plot(cmap=plt.cm.Blues)\n",
    "plt.title(f\"Transformer CDKExetended-ECFP Confusion Matrix\")\n",
    "plt.show()"
   ]
  },
  {
   "cell_type": "markdown",
   "id": "f6612e71-bc4f-4c17-beef-d5c93e67c072",
   "metadata": {
    "id": "07895a44"
   },
   "source": [
    "## Metrics results & Plot"
   ]
  },
  {
   "cell_type": "code",
   "execution_count": 47,
   "id": "c01eb255-a6da-4660-b90b-5f5ed50ec2e7",
   "metadata": {
    "executionInfo": {
     "elapsed": 11,
     "status": "ok",
     "timestamp": 1726592990648,
     "user": {
      "displayName": "Delower Hossain",
      "userId": "01553421328143772667"
     },
     "user_tz": 300
    },
    "id": "K-yULtdt7UaY",
    "tags": []
   },
   "outputs": [
    {
     "ename": "NameError",
     "evalue": "name 'history' is not defined",
     "output_type": "error",
     "traceback": [
      "\u001b[0;31m---------------------------------------------------------------------------\u001b[0m",
      "\u001b[0;31mNameError\u001b[0m                                 Traceback (most recent call last)",
      "Cell \u001b[0;32mIn[47], line 1\u001b[0m\n\u001b[0;32m----> 1\u001b[0m hist \u001b[38;5;241m=\u001b[39m history\u001b[38;5;241m.\u001b[39mhistory\n",
      "\u001b[0;31mNameError\u001b[0m: name 'history' is not defined"
     ]
    }
   ],
   "source": [
    "hist = history.history"
   ]
  },
  {
   "cell_type": "code",
   "execution_count": 41,
   "id": "f7f63f80-7fd0-4742-94f3-60c186024688",
   "metadata": {
    "colab": {
     "base_uri": "https://localhost:8080/",
     "height": 927
    },
    "executionInfo": {
     "elapsed": 834,
     "status": "ok",
     "timestamp": 1726592991472,
     "user": {
      "displayName": "Delower Hossain",
      "userId": "01553421328143772667"
     },
     "user_tz": 300
    },
    "id": "9b1e9ade",
    "outputId": "e31437f3-ec22-44c9-959a-db42ed85d105",
    "tags": []
   },
   "outputs": [
    {
     "ename": "NameError",
     "evalue": "name 'MODEL_NAME' is not defined",
     "output_type": "error",
     "traceback": [
      "\u001b[0;31m---------------------------------------------------------------------------\u001b[0m",
      "\u001b[0;31mNameError\u001b[0m                                 Traceback (most recent call last)",
      "Cell \u001b[0;32mIn[41], line 1\u001b[0m\n\u001b[0;32m----> 1\u001b[0m plt\u001b[38;5;241m.\u001b[39mtitle(\u001b[38;5;124mf\u001b[39m\u001b[38;5;124m'\u001b[39m\u001b[38;5;132;01m{\u001b[39;00mMODEL_NAME\u001b[38;5;241m.\u001b[39mupper()\u001b[38;5;132;01m}\u001b[39;00m\u001b[38;5;124m CDKExetended-ECFP Training and Validation Accuracy\u001b[39m\u001b[38;5;124m'\u001b[39m)\n\u001b[1;32m      2\u001b[0m plt\u001b[38;5;241m.\u001b[39mplot(hist[\u001b[38;5;124m'\u001b[39m\u001b[38;5;124maccuracy\u001b[39m\u001b[38;5;124m'\u001b[39m],label\u001b[38;5;241m=\u001b[39m \u001b[38;5;124m'\u001b[39m\u001b[38;5;124mTraining Accuracy\u001b[39m\u001b[38;5;124m'\u001b[39m)\n\u001b[1;32m      3\u001b[0m plt\u001b[38;5;241m.\u001b[39mplot(hist[\u001b[38;5;124m'\u001b[39m\u001b[38;5;124mval_accuracy\u001b[39m\u001b[38;5;124m'\u001b[39m],label\u001b[38;5;241m=\u001b[39m \u001b[38;5;124m'\u001b[39m\u001b[38;5;124mValdidation Accuracy\u001b[39m\u001b[38;5;124m'\u001b[39m)\n",
      "\u001b[0;31mNameError\u001b[0m: name 'MODEL_NAME' is not defined"
     ]
    }
   ],
   "source": [
    "plt.title(f'{MODEL_NAME.upper()} CDKExetended-ECFP Training and Validation Accuracy')\n",
    "plt.plot(hist['accuracy'],label= 'Training Accuracy')\n",
    "plt.plot(hist['val_accuracy'],label= 'Valdidation Accuracy')\n",
    "plt.ylabel('Accuracy')\n",
    "plt.xlabel(\"Epoch\")\n",
    "plt.legend()\n",
    "plt.show()\n",
    "plt.title(f'{MODEL_NAME.upper()}  CDKExetended-ECFP Training and Validation Loss')\n",
    "plt.plot(hist['loss'],label= 'Training Loss')\n",
    "plt.plot(hist['val_loss'],label= 'Valdidation Loss')\n",
    "plt.ylabel('Loss')\n",
    "plt.xlabel(\"Epoch\")\n",
    "plt.legend()\n",
    "plt.show()"
   ]
  },
  {
   "cell_type": "code",
   "execution_count": null,
   "id": "e5a71cad",
   "metadata": {},
   "outputs": [],
   "source": []
  }
 ],
 "metadata": {
  "anaconda-cloud": {},
  "kernelspec": {
   "display_name": "Python [conda env:.conda-knlp]",
   "language": "python",
   "name": "conda-env-.conda-knlp-py"
  },
  "language_info": {
   "codemirror_mode": {
    "name": "ipython",
    "version": 3
   },
   "file_extension": ".py",
   "mimetype": "text/x-python",
   "name": "python",
   "nbconvert_exporter": "python",
   "pygments_lexer": "ipython3",
   "version": "3.12.5"
  }
 },
 "nbformat": 4,
 "nbformat_minor": 5
}
