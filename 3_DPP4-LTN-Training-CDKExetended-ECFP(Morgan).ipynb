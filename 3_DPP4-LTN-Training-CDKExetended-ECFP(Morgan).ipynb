{
 "cells": [
  {
   "cell_type": "code",
   "execution_count": 5,
   "id": "92d602a8-c327-4a07-b31b-361851a7aeef",
   "metadata": {
    "tags": []
   },
   "outputs": [],
   "source": [
    "# !wget https://github.com/logictensornetworks/logictensornetworks/raw/master/examples/multiclass_classification/commons.py\n",
    "# !pip install ltn keras==2.15.0 -qq"
   ]
  },
  {
   "cell_type": "code",
   "execution_count": 6,
   "id": "8e3b1c19-a25b-4049-9299-1486b4c363c1",
   "metadata": {
    "tags": []
   },
   "outputs": [
    {
     "name": "stderr",
     "output_type": "stream",
     "text": [
      "2025-03-29 19:55:07.252850: E external/local_xla/xla/stream_executor/cuda/cuda_dnn.cc:9261] Unable to register cuDNN factory: Attempting to register factory for plugin cuDNN when one has already been registered\n",
      "2025-03-29 19:55:07.252905: E external/local_xla/xla/stream_executor/cuda/cuda_fft.cc:607] Unable to register cuFFT factory: Attempting to register factory for plugin cuFFT when one has already been registered\n",
      "2025-03-29 19:55:07.253909: E external/local_xla/xla/stream_executor/cuda/cuda_blas.cc:1515] Unable to register cuBLAS factory: Attempting to register factory for plugin cuBLAS when one has already been registered\n",
      "2025-03-29 19:55:07.260246: I tensorflow/core/platform/cpu_feature_guard.cc:182] This TensorFlow binary is optimized to use available CPU instructions in performance-critical operations.\n",
      "To enable the following instructions: AVX2 FMA, in other operations, rebuild TensorFlow with the appropriate compiler flags.\n",
      "2025-03-29 19:55:19.440383: W tensorflow/compiler/tf2tensorrt/utils/py_utils.cc:38] TF-TRT Warning: Could not find TensorRT\n",
      "/home/mhossai5/.conda/envs/dpp4_env/lib/python3.10/site-packages/tqdm/auto.py:21: TqdmWarning: IProgress not found. Please update jupyter and ipywidgets. See https://ipywidgets.readthedocs.io/en/stable/user_install.html\n",
      "  from .autonotebook import tqdm as notebook_tqdm\n"
     ]
    }
   ],
   "source": [
    "import os\n",
    "import ltn\n",
    "import numpy as np\n",
    "import pandas as pd\n",
    "import tensorflow as tf\n",
    "from sklearn.preprocessing import StandardScaler\n",
    "from sklearn.model_selection import train_test_split\n",
    "\n",
    "from sklearn.metrics import (\n",
    "    accuracy_score,\n",
    "    f1_score,\n",
    "    roc_auc_score,\n",
    "    roc_curve,\n",
    "    matthews_corrcoef,\n",
    "    precision_score,\n",
    "    recall_score,\n",
    "    confusion_matrix,\n",
    "    classification_report,\n",
    "    auc,\n",
    "    ConfusionMatrixDisplay,\n",
    ")\n",
    "\n",
    "import matplotlib.pyplot as plt\n",
    "import seaborn as sns\n",
    "from tqdm.auto import tqdm\n",
    "from dataclasses import dataclass\n",
    "tqdm.pandas()\n",
    "import matplotlib.pyplot as plt"
   ]
  },
  {
   "cell_type": "code",
   "execution_count": 7,
   "id": "00220f4e-aee3-4643-a559-d3c22a8dfcaa",
   "metadata": {
    "tags": []
   },
   "outputs": [],
   "source": [
    "ROOT_DIR ='/data/user/home/mhossai5/DPP-New2025'"
   ]
  },
  {
   "cell_type": "code",
   "execution_count": 8,
   "id": "fcc8df5d-b7b4-41e7-adcd-b73edc3dece5",
   "metadata": {
    "tags": []
   },
   "outputs": [],
   "source": [
    "# Data & Model training arguments\n",
    "SEED = 42\n",
    "LR = 0.00001\n",
    "BATCH_SIZE = 128\n",
    "FEAT_NAME = [\n",
    "    'CDKextended',\n",
    "    'ECFP',\n",
    "    'ECFP_512',\n",
    "    'ECFP_2048',\n",
    "    # 'ChemBERT2_Embedding',\n",
    "    # 'Llama3-2_Embedding',\n",
    "    # 'MolWt',\n",
    "    # 'LogP',\n",
    "    # 'TPSA',\n",
    "    # 'HBD',\n",
    "    # 'HBA',\n",
    "    # 'RotatableBonds',\n",
    "]\n",
    "MODEL_NAME = 'LTN'\n",
    "\n",
    "TRAIN_HISTORY_PATH = os.path.join(ROOT_DIR, f'results/{\"-\".join(FEAT_NAME)}-{MODEL_NAME}.csv')"
   ]
  },
  {
   "cell_type": "code",
   "execution_count": 9,
   "id": "fee4beac-c8fe-4c7f-9800-e0ae7b0dc127",
   "metadata": {
    "tags": []
   },
   "outputs": [],
   "source": [
    "import pandas as pd\n",
    "import os\n",
    "\n",
    "# Define the correct path\n",
    "file_path = os.path.join(ROOT_DIR, \"data/dpp4-26-03-25-feat.parquet\")\n",
    "\n",
    "# Read the Parquet file\n",
    "df_final = pd.read_parquet(file_path)"
   ]
  },
  {
   "cell_type": "code",
   "execution_count": 10,
   "id": "c48c4565-6376-4361-bf92-54ba115c31c0",
   "metadata": {
    "tags": []
   },
   "outputs": [
    {
     "data": {
      "text/html": [
       "<div>\n",
       "<style scoped>\n",
       "    .dataframe tbody tr th:only-of-type {\n",
       "        vertical-align: middle;\n",
       "    }\n",
       "\n",
       "    .dataframe tbody tr th {\n",
       "        vertical-align: top;\n",
       "    }\n",
       "\n",
       "    .dataframe thead th {\n",
       "        text-align: right;\n",
       "    }\n",
       "</style>\n",
       "<table border=\"1\" class=\"dataframe\">\n",
       "  <thead>\n",
       "    <tr style=\"text-align: right;\">\n",
       "      <th></th>\n",
       "      <th>id</th>\n",
       "      <th>smiles</th>\n",
       "      <th>standard_value</th>\n",
       "      <th>standard_type</th>\n",
       "      <th>standard_units</th>\n",
       "      <th>target_organism</th>\n",
       "      <th>target_pref_name</th>\n",
       "      <th>pIC50</th>\n",
       "      <th>source</th>\n",
       "      <th>label</th>\n",
       "      <th>...</th>\n",
       "      <th>ECFP_512</th>\n",
       "      <th>Llama3-2_Embedding</th>\n",
       "      <th>ChemBERT2_Embedding</th>\n",
       "      <th>MolWt</th>\n",
       "      <th>LogP</th>\n",
       "      <th>TPSA</th>\n",
       "      <th>HBD</th>\n",
       "      <th>HBA</th>\n",
       "      <th>RotatableBonds</th>\n",
       "      <th>Physiochemical</th>\n",
       "    </tr>\n",
       "  </thead>\n",
       "  <tbody>\n",
       "    <tr>\n",
       "      <th>0</th>\n",
       "      <td>CHEMBL93558</td>\n",
       "      <td>N[C@@H](CC1CCCCC1)C(=O)N1CCCCC1</td>\n",
       "      <td>217000.0</td>\n",
       "      <td>IC50</td>\n",
       "      <td>nM</td>\n",
       "      <td>Homo sapiens</td>\n",
       "      <td>Dipeptidyl peptidase IV</td>\n",
       "      <td>3.663540</td>\n",
       "      <td>ChEMBL</td>\n",
       "      <td>inactive</td>\n",
       "      <td>...</td>\n",
       "      <td>[0.0, 1.0, 1.0, 0.0, 1.0, 0.0, 0.0, 0.0, 0.0, ...</td>\n",
       "      <td>[-0.49902532, 2.9190297, -0.23703773, -0.25883...</td>\n",
       "      <td>[-0.38957188, -0.6216704, 0.4703551, 0.1626513...</td>\n",
       "      <td>238.375</td>\n",
       "      <td>2.2966</td>\n",
       "      <td>46.33</td>\n",
       "      <td>1.0</td>\n",
       "      <td>2.0</td>\n",
       "      <td>3.0</td>\n",
       "      <td>[238.37499999999994, 2.2966000000000006, 46.33...</td>\n",
       "    </tr>\n",
       "    <tr>\n",
       "      <th>1</th>\n",
       "      <td>CHEMBL443622</td>\n",
       "      <td>C[C@H](N)C(=O)N1CCCC1</td>\n",
       "      <td>41000.0</td>\n",
       "      <td>IC50</td>\n",
       "      <td>nM</td>\n",
       "      <td>Homo sapiens</td>\n",
       "      <td>Dipeptidyl peptidase IV</td>\n",
       "      <td>4.387216</td>\n",
       "      <td>ChEMBL</td>\n",
       "      <td>inactive</td>\n",
       "      <td>...</td>\n",
       "      <td>[0.0, 1.0, 0.0, 0.0, 1.0, 0.0, 0.0, 0.0, 0.0, ...</td>\n",
       "      <td>[-0.9239326, 2.7885501, 0.38945127, 0.3505689,...</td>\n",
       "      <td>[-0.3062373, -0.24003226, 0.14207578, 0.525902...</td>\n",
       "      <td>142.202</td>\n",
       "      <td>-0.0440</td>\n",
       "      <td>46.33</td>\n",
       "      <td>1.0</td>\n",
       "      <td>2.0</td>\n",
       "      <td>1.0</td>\n",
       "      <td>[142.20199999999997, -0.04400000000000004, 46....</td>\n",
       "    </tr>\n",
       "    <tr>\n",
       "      <th>2</th>\n",
       "      <td>CHEMBL403882</td>\n",
       "      <td>O=C([C@@H]1CCCN1)N1CCCC1</td>\n",
       "      <td>15000.0</td>\n",
       "      <td>IC50</td>\n",
       "      <td>nM</td>\n",
       "      <td>Homo sapiens</td>\n",
       "      <td>Dipeptidyl peptidase IV</td>\n",
       "      <td>4.823909</td>\n",
       "      <td>ChEMBL</td>\n",
       "      <td>inactive</td>\n",
       "      <td>...</td>\n",
       "      <td>[0.0, 0.0, 0.0, 0.0, 1.0, 0.0, 0.0, 0.0, 0.0, ...</td>\n",
       "      <td>[-0.41079238, 2.760039, 0.025078857, -0.101544...</td>\n",
       "      <td>[-0.3257358, -0.012994111, 0.17750713, -0.0522...</td>\n",
       "      <td>168.240</td>\n",
       "      <td>0.3608</td>\n",
       "      <td>32.34</td>\n",
       "      <td>1.0</td>\n",
       "      <td>2.0</td>\n",
       "      <td>1.0</td>\n",
       "      <td>[168.23999999999998, 0.3608, 32.34, 1.0, 2.0, ...</td>\n",
       "    </tr>\n",
       "    <tr>\n",
       "      <th>3</th>\n",
       "      <td>CHEMBL328655</td>\n",
       "      <td>S=C(C1CCCN1)N1CCCC1</td>\n",
       "      <td>500000.0</td>\n",
       "      <td>IC50</td>\n",
       "      <td>nM</td>\n",
       "      <td>Homo sapiens</td>\n",
       "      <td>Dipeptidyl peptidase IV</td>\n",
       "      <td>3.301030</td>\n",
       "      <td>ChEMBL</td>\n",
       "      <td>inactive</td>\n",
       "      <td>...</td>\n",
       "      <td>[0.0, 0.0, 0.0, 0.0, 1.0, 0.0, 0.0, 0.0, 0.0, ...</td>\n",
       "      <td>[-0.13337657, 2.8452492, 0.630767, 0.08860778,...</td>\n",
       "      <td>[-0.0054997415, -0.37361592, 0.015422794, 0.30...</td>\n",
       "      <td>184.308</td>\n",
       "      <td>1.1616</td>\n",
       "      <td>15.27</td>\n",
       "      <td>1.0</td>\n",
       "      <td>2.0</td>\n",
       "      <td>1.0</td>\n",
       "      <td>[184.30799999999996, 1.1616, 15.27, 1.0, 2.0, ...</td>\n",
       "    </tr>\n",
       "    <tr>\n",
       "      <th>4</th>\n",
       "      <td>CHEMBL328795</td>\n",
       "      <td>NC(=O)CC(N)C(=O)N1CCCC1</td>\n",
       "      <td>188000.0</td>\n",
       "      <td>IC50</td>\n",
       "      <td>nM</td>\n",
       "      <td>Homo sapiens</td>\n",
       "      <td>Dipeptidyl peptidase IV</td>\n",
       "      <td>3.725842</td>\n",
       "      <td>ChEMBL</td>\n",
       "      <td>inactive</td>\n",
       "      <td>...</td>\n",
       "      <td>[0.0, 1.0, 0.0, 0.0, 1.0, 0.0, 0.0, 0.0, 0.0, ...</td>\n",
       "      <td>[-0.6948919, 2.6412396, 0.3524785, -0.21108356...</td>\n",
       "      <td>[-0.6008385, -0.16555355, 0.1292091, 0.9035775...</td>\n",
       "      <td>185.227</td>\n",
       "      <td>-1.1885</td>\n",
       "      <td>89.42</td>\n",
       "      <td>2.0</td>\n",
       "      <td>3.0</td>\n",
       "      <td>3.0</td>\n",
       "      <td>[185.22699999999995, -1.1885000000000001, 89.4...</td>\n",
       "    </tr>\n",
       "  </tbody>\n",
       "</table>\n",
       "<p>5 rows × 25 columns</p>\n",
       "</div>"
      ],
      "text/plain": [
       "             id                           smiles  standard_value  \\\n",
       "0   CHEMBL93558  N[C@@H](CC1CCCCC1)C(=O)N1CCCCC1        217000.0   \n",
       "1  CHEMBL443622            C[C@H](N)C(=O)N1CCCC1         41000.0   \n",
       "2  CHEMBL403882         O=C([C@@H]1CCCN1)N1CCCC1         15000.0   \n",
       "3  CHEMBL328655              S=C(C1CCCN1)N1CCCC1        500000.0   \n",
       "4  CHEMBL328795          NC(=O)CC(N)C(=O)N1CCCC1        188000.0   \n",
       "\n",
       "  standard_type standard_units target_organism         target_pref_name  \\\n",
       "0          IC50             nM    Homo sapiens  Dipeptidyl peptidase IV   \n",
       "1          IC50             nM    Homo sapiens  Dipeptidyl peptidase IV   \n",
       "2          IC50             nM    Homo sapiens  Dipeptidyl peptidase IV   \n",
       "3          IC50             nM    Homo sapiens  Dipeptidyl peptidase IV   \n",
       "4          IC50             nM    Homo sapiens  Dipeptidyl peptidase IV   \n",
       "\n",
       "      pIC50  source     label  ...  \\\n",
       "0  3.663540  ChEMBL  inactive  ...   \n",
       "1  4.387216  ChEMBL  inactive  ...   \n",
       "2  4.823909  ChEMBL  inactive  ...   \n",
       "3  3.301030  ChEMBL  inactive  ...   \n",
       "4  3.725842  ChEMBL  inactive  ...   \n",
       "\n",
       "                                            ECFP_512  \\\n",
       "0  [0.0, 1.0, 1.0, 0.0, 1.0, 0.0, 0.0, 0.0, 0.0, ...   \n",
       "1  [0.0, 1.0, 0.0, 0.0, 1.0, 0.0, 0.0, 0.0, 0.0, ...   \n",
       "2  [0.0, 0.0, 0.0, 0.0, 1.0, 0.0, 0.0, 0.0, 0.0, ...   \n",
       "3  [0.0, 0.0, 0.0, 0.0, 1.0, 0.0, 0.0, 0.0, 0.0, ...   \n",
       "4  [0.0, 1.0, 0.0, 0.0, 1.0, 0.0, 0.0, 0.0, 0.0, ...   \n",
       "\n",
       "                                  Llama3-2_Embedding  \\\n",
       "0  [-0.49902532, 2.9190297, -0.23703773, -0.25883...   \n",
       "1  [-0.9239326, 2.7885501, 0.38945127, 0.3505689,...   \n",
       "2  [-0.41079238, 2.760039, 0.025078857, -0.101544...   \n",
       "3  [-0.13337657, 2.8452492, 0.630767, 0.08860778,...   \n",
       "4  [-0.6948919, 2.6412396, 0.3524785, -0.21108356...   \n",
       "\n",
       "                                 ChemBERT2_Embedding    MolWt    LogP   TPSA  \\\n",
       "0  [-0.38957188, -0.6216704, 0.4703551, 0.1626513...  238.375  2.2966  46.33   \n",
       "1  [-0.3062373, -0.24003226, 0.14207578, 0.525902...  142.202 -0.0440  46.33   \n",
       "2  [-0.3257358, -0.012994111, 0.17750713, -0.0522...  168.240  0.3608  32.34   \n",
       "3  [-0.0054997415, -0.37361592, 0.015422794, 0.30...  184.308  1.1616  15.27   \n",
       "4  [-0.6008385, -0.16555355, 0.1292091, 0.9035775...  185.227 -1.1885  89.42   \n",
       "\n",
       "   HBD  HBA  RotatableBonds                                     Physiochemical  \n",
       "0  1.0  2.0             3.0  [238.37499999999994, 2.2966000000000006, 46.33...  \n",
       "1  1.0  2.0             1.0  [142.20199999999997, -0.04400000000000004, 46....  \n",
       "2  1.0  2.0             1.0  [168.23999999999998, 0.3608, 32.34, 1.0, 2.0, ...  \n",
       "3  1.0  2.0             1.0  [184.30799999999996, 1.1616, 15.27, 1.0, 2.0, ...  \n",
       "4  2.0  3.0             3.0  [185.22699999999995, -1.1885000000000001, 89.4...  \n",
       "\n",
       "[5 rows x 25 columns]"
      ]
     },
     "execution_count": 10,
     "metadata": {},
     "output_type": "execute_result"
    }
   ],
   "source": [
    "df_final.head()"
   ]
  },
  {
   "cell_type": "code",
   "execution_count": 13,
   "id": "668fb52e-b94a-4594-b489-569eec900469",
   "metadata": {
    "tags": []
   },
   "outputs": [
    {
     "data": {
      "text/plain": [
       "(6563, 25)"
      ]
     },
     "execution_count": 13,
     "metadata": {},
     "output_type": "execute_result"
    }
   ],
   "source": [
    "df_final.shape"
   ]
  },
  {
   "cell_type": "code",
   "execution_count": 16,
   "id": "158ec6a3-cb47-47d0-8fd0-cefd3a77d5d2",
   "metadata": {
    "tags": []
   },
   "outputs": [
    {
     "ename": "AttributeError",
     "evalue": "'DataFrame' object has no attribute 'list'",
     "output_type": "error",
     "traceback": [
      "\u001b[0;31m---------------------------------------------------------------------------\u001b[0m",
      "\u001b[0;31mAttributeError\u001b[0m                            Traceback (most recent call last)",
      "\u001b[0;32m/scratch/local/ipykernel_118902/3724421080.py\u001b[0m in \u001b[0;36m?\u001b[0;34m()\u001b[0m\n\u001b[0;32m----> 1\u001b[0;31m \u001b[0mdf_final\u001b[0m\u001b[0;34m.\u001b[0m\u001b[0mlist\u001b[0m\u001b[0;34m[\u001b[0m\u001b[0;34m'source'\u001b[0m\u001b[0;34m]\u001b[0m\u001b[0;34m\u001b[0m\u001b[0;34m\u001b[0m\u001b[0m\n\u001b[0m",
      "\u001b[0;32m~/.conda/envs/dpp4_env/lib/python3.10/site-packages/pandas/core/generic.py\u001b[0m in \u001b[0;36m?\u001b[0;34m(self, name)\u001b[0m\n\u001b[1;32m   6295\u001b[0m             \u001b[0;32mand\u001b[0m \u001b[0mname\u001b[0m \u001b[0;32mnot\u001b[0m \u001b[0;32min\u001b[0m \u001b[0mself\u001b[0m\u001b[0;34m.\u001b[0m\u001b[0m_accessors\u001b[0m\u001b[0;34m\u001b[0m\u001b[0;34m\u001b[0m\u001b[0m\n\u001b[1;32m   6296\u001b[0m             \u001b[0;32mand\u001b[0m \u001b[0mself\u001b[0m\u001b[0;34m.\u001b[0m\u001b[0m_info_axis\u001b[0m\u001b[0;34m.\u001b[0m\u001b[0m_can_hold_identifiers_and_holds_name\u001b[0m\u001b[0;34m(\u001b[0m\u001b[0mname\u001b[0m\u001b[0;34m)\u001b[0m\u001b[0;34m\u001b[0m\u001b[0;34m\u001b[0m\u001b[0m\n\u001b[1;32m   6297\u001b[0m         ):\n\u001b[1;32m   6298\u001b[0m             \u001b[0;32mreturn\u001b[0m \u001b[0mself\u001b[0m\u001b[0;34m[\u001b[0m\u001b[0mname\u001b[0m\u001b[0;34m]\u001b[0m\u001b[0;34m\u001b[0m\u001b[0;34m\u001b[0m\u001b[0m\n\u001b[0;32m-> 6299\u001b[0;31m         \u001b[0;32mreturn\u001b[0m \u001b[0mobject\u001b[0m\u001b[0;34m.\u001b[0m\u001b[0m__getattribute__\u001b[0m\u001b[0;34m(\u001b[0m\u001b[0mself\u001b[0m\u001b[0;34m,\u001b[0m \u001b[0mname\u001b[0m\u001b[0;34m)\u001b[0m\u001b[0;34m\u001b[0m\u001b[0;34m\u001b[0m\u001b[0m\n\u001b[0m",
      "\u001b[0;31mAttributeError\u001b[0m: 'DataFrame' object has no attribute 'list'"
     ]
    }
   ],
   "source": [
    "df_final.list['source']"
   ]
  },
  {
   "cell_type": "code",
   "execution_count": 7,
   "id": "034eae4c-21a9-40ec-84ed-932bd38fc339",
   "metadata": {
    "tags": []
   },
   "outputs": [],
   "source": [
    "X = np.concatenate([np.vstack(df_final[df_final['splits']=='train'][col]) for col in FEAT_NAME],axis = 1)\n",
    "y = df_final[df_final['splits']=='train']['target']\n",
    "\n",
    "X_test = np.concatenate([np.vstack(df_final[df_final['splits']=='test'][col]) for col in FEAT_NAME],axis = 1)\n",
    "y_test = df_final[df_final['splits']=='test']['target']\n",
    "X = np.nan_to_num(X)\n",
    "X_test = np.nan_to_num(X_test)\n",
    "X_train,X_val,y_train,y_val = train_test_split(X,y,test_size = 0.05,random_state = SEED,stratify=y)"
   ]
  },
  {
   "cell_type": "code",
   "execution_count": 8,
   "id": "7ae3a0cd-c281-40e7-967f-d5dcdbff3f87",
   "metadata": {
    "tags": []
   },
   "outputs": [
    {
     "name": "stdout",
     "output_type": "stream",
     "text": [
      "X_train:  (4987, 4608)\n",
      "X_test:  (1313, 4608)\n",
      "X_val:  (263, 4608)\n"
     ]
    }
   ],
   "source": [
    "print('X_train: ', X_train.shape)\n",
    "print('X_test: ', X_test.shape)\n",
    "print('X_val: ', X_val.shape)"
   ]
  },
  {
   "cell_type": "code",
   "execution_count": 9,
   "id": "d9a5e901-5cb0-4016-b622-164790f3178c",
   "metadata": {
    "tags": []
   },
   "outputs": [],
   "source": [
    "scaler = StandardScaler()\n",
    "\n",
    "# Fit the scaler on the training data only\n",
    "scaler.fit(X_train)\n",
    "\n",
    "# Transform the train, validation, and test sets\n",
    "X_train = scaler.transform(X_train)\n",
    "X_val = scaler.transform(X_val)\n",
    "X_test = scaler.transform(X_test)"
   ]
  },
  {
   "cell_type": "code",
   "execution_count": 10,
   "id": "d94d139a-9817-414a-9e02-48cc1c009606",
   "metadata": {
    "tags": []
   },
   "outputs": [
    {
     "name": "stderr",
     "output_type": "stream",
     "text": [
      "2025-03-28 22:40:10.852176: W tensorflow/core/common_runtime/gpu/gpu_device.cc:2256] Cannot dlopen some GPU libraries. Please make sure the missing libraries mentioned above are installed properly if you would like to use GPU. Follow the guide at https://www.tensorflow.org/install/gpu for how to download and setup the required libraries for your platform.\n",
      "Skipping registering GPU devices...\n"
     ]
    }
   ],
   "source": [
    "ds_train = tf.data.Dataset.from_tensor_slices((X_train,y_train)).batch(BATCH_SIZE).shuffle(512,seed= SEED)\n",
    "ds_val = tf.data.Dataset.from_tensor_slices((X_val,y_val)).batch(BATCH_SIZE)"
   ]
  },
  {
   "cell_type": "code",
   "execution_count": 11,
   "id": "056697ea-c78b-4899-b649-7a61dc27e70f",
   "metadata": {
    "tags": []
   },
   "outputs": [],
   "source": [
    "# LTN\n",
    "\n",
    "#Predicate with softmax `P(x,class)`"
   ]
  },
  {
   "cell_type": "code",
   "execution_count": 12,
   "id": "9d7eadc1-d5f3-4c40-9d99-31b873653f2b",
   "metadata": {
    "tags": []
   },
   "outputs": [],
   "source": [
    "class MLP(tf.keras.Model):\n",
    "    \"\"\"Model that returns logits.\"\"\"\n",
    "    def __init__(self, n_classes, hidden_layer_sizes=(768,384,192)):\n",
    "        super(MLP, self).__init__()\n",
    "        self.denses = [tf.keras.layers.Dense(s, activation=\"relu\") for s in hidden_layer_sizes]\n",
    "        self.dense_class = tf.keras.layers.Dense(n_classes)\n",
    "        self.dropout = tf.keras.layers.Dropout(0.25)\n",
    "\n",
    "    def call(self, inputs, training=False):\n",
    "        x = inputs[0]\n",
    "        for dense in self.denses:\n",
    "            x = dense(x)\n",
    "            x = self.dropout(x, training=training)\n",
    "        return self.dense_class(x)\n",
    "tf.keras.backend.clear_session()\n",
    "logits_model = MLP(2)\n",
    "p = ltn.Predicate.FromLogits(logits_model, activation_function=\"softmax\", with_class_indexing=True)"
   ]
  },
  {
   "cell_type": "code",
   "execution_count": 13,
   "id": "1c8ef92b-bf97-4ad6-94eb-bd3f81339d73",
   "metadata": {
    "tags": []
   },
   "outputs": [],
   "source": [
    "# Constants to index/iterate on the classes"
   ]
  },
  {
   "cell_type": "code",
   "execution_count": 14,
   "id": "45b8a1e6-621e-42f8-b63a-e0ee4902384c",
   "metadata": {
    "tags": []
   },
   "outputs": [],
   "source": [
    "class_A = ltn.Constant(0, trainable=False)\n",
    "class_B = ltn.Constant(1, trainable=False)"
   ]
  },
  {
   "cell_type": "code",
   "execution_count": 15,
   "id": "bd390bc6-0471-4c01-81cc-794dec10454a",
   "metadata": {
    "tags": []
   },
   "outputs": [],
   "source": [
    "# Operators and axioms"
   ]
  },
  {
   "cell_type": "code",
   "execution_count": 16,
   "id": "7e7fa3b6-4709-450a-892b-67b3e0d4cfde",
   "metadata": {
    "tags": []
   },
   "outputs": [],
   "source": [
    "Not = ltn.Wrapper_Connective(ltn.fuzzy_ops.Not_Std())\n",
    "And = ltn.Wrapper_Connective(ltn.fuzzy_ops.And_Prod())\n",
    "Or = ltn.Wrapper_Connective(ltn.fuzzy_ops.Or_ProbSum())\n",
    "Implies = ltn.Wrapper_Connective(ltn.fuzzy_ops.Implies_Reichenbach())\n",
    "Forall = ltn.Wrapper_Quantifier(ltn.fuzzy_ops.Aggreg_pMeanError(p=2),semantics=\"forall\")"
   ]
  },
  {
   "cell_type": "code",
   "execution_count": 17,
   "id": "e45cb42b-6199-4008-865b-fd727b18b2c2",
   "metadata": {
    "tags": []
   },
   "outputs": [],
   "source": [
    "formula_aggregator = ltn.Wrapper_Formula_Aggregator(ltn.fuzzy_ops.Aggreg_pMeanError(p=4))\n",
    "\n",
    "@tf.function\n",
    "def axioms(features, labels, training=False):\n",
    "    x_A = ltn.Variable(\"x_A\",features[labels==0])\n",
    "    x_B = ltn.Variable(\"x_B\",features[labels==1])\n",
    "    axioms = [\n",
    "        Forall(x_A,p([x_A,class_A],training=training)),\n",
    "        Forall(x_B,p([x_B,class_B],training=training)),\n",
    "    ]\n",
    "\n",
    "    for i in range(len(axioms)):\n",
    "        if tf.math.is_nan(axioms[i].tensor):\n",
    "            axioms[i].tensor = tf.constant(0,axioms[i].tensor.dtype)\n",
    "    sat_level = formula_aggregator(axioms).tensor\n",
    "\n",
    "    return sat_level"
   ]
  },
  {
   "cell_type": "code",
   "execution_count": 18,
   "id": "bb77badb-ffaf-4127-9e6e-e99f7f0c83bc",
   "metadata": {
    "tags": []
   },
   "outputs": [],
   "source": [
    "# Initialize all layers and the static graph"
   ]
  },
  {
   "cell_type": "code",
   "execution_count": 19,
   "id": "91e22226-872b-4f6f-bad3-cab828604edc",
   "metadata": {
    "scrolled": true,
    "tags": []
   },
   "outputs": [
    {
     "name": "stdout",
     "output_type": "stream",
     "text": [
      "Initial sat level 0.38536\n"
     ]
    }
   ],
   "source": [
    "for features, labels in ds_val:\n",
    "    print(\"Initial sat level %.5f\"%axioms(features,labels))\n",
    "    break"
   ]
  },
  {
   "cell_type": "code",
   "execution_count": 20,
   "id": "63711fe9-ddfc-49d7-959a-054861f724cd",
   "metadata": {
    "tags": []
   },
   "outputs": [],
   "source": [
    "# Training\n",
    "\n",
    "# Define the metrics. While training, we measure:\n",
    "# 1. The level of satisfiability of the Knowledge Base of the training data.\n",
    "# 1. The level of satisfiability of the Knowledge Base of the test data.\n",
    "# 3. The training accuracy.\n",
    "# 4. The test accuracy."
   ]
  },
  {
   "cell_type": "code",
   "execution_count": 21,
   "id": "0ed1d0b5-ed45-480f-b38d-a12b59331cfd",
   "metadata": {
    "tags": []
   },
   "outputs": [],
   "source": [
    "metrics_dict = {\n",
    "    'train_sat_kb': tf.keras.metrics.Mean(name='train_sat_kb'),\n",
    "    'val_sat_kb': tf.keras.metrics.Mean(name='val_sat_kb'),\n",
    "    'train_accuracy': tf.keras.metrics.CategoricalAccuracy(name=\"train_accuracy\"),\n",
    "    'val_accuracy': tf.keras.metrics.CategoricalAccuracy(name=\"val_accuracy\"),\n",
    "    # 'train_auc': tf.keras.metrics.AUC(name=\"train_auc\"),\n",
    "    # 'val_auc': tf.keras.metrics.AUC(name=\"val_auc\"),\n",
    "}"
   ]
  },
  {
   "cell_type": "code",
   "execution_count": 22,
   "id": "fd5181d7-8f6b-416f-b1c9-b783d55d2d04",
   "metadata": {
    "tags": []
   },
   "outputs": [],
   "source": [
    "# Define the training and test step"
   ]
  },
  {
   "cell_type": "code",
   "execution_count": 23,
   "id": "14a3d1b2-db54-4dac-9bee-b80f321e0291",
   "metadata": {
    "tags": []
   },
   "outputs": [],
   "source": [
    "optimizer = tf.keras.optimizers.Adam(learning_rate=LR)\n",
    "@tf.function\n",
    "def train_step(features, labels):\n",
    "    # sat and update\n",
    "    with tf.GradientTape() as tape:\n",
    "        sat = axioms(features, labels, training=True)\n",
    "        loss = 1.-sat\n",
    "    gradients = tape.gradient(loss, p.trainable_variables)\n",
    "    optimizer.apply_gradients(zip(gradients, p.trainable_variables))\n",
    "    sat = axioms(features, labels) # compute sat without dropout\n",
    "    metrics_dict['train_sat_kb'](sat)\n",
    "    # accuracy\n",
    "    predictions = logits_model([features])\n",
    "    metrics_dict['train_accuracy'](tf.one_hot(labels,2),predictions)\n",
    "\n",
    "@tf.function\n",
    "def test_step(features, labels):\n",
    "    # sat\n",
    "    sat = axioms(features, labels)\n",
    "    metrics_dict['val_sat_kb'](sat)\n",
    "    # accuracy\n",
    "    predictions = logits_model([features])\n",
    "    metrics_dict['val_accuracy'](tf.one_hot(labels,2),predictions)"
   ]
  },
  {
   "cell_type": "code",
   "execution_count": 24,
   "id": "1ae6c0c9-a50c-44df-ab4e-310e7bbac295",
   "metadata": {
    "tags": []
   },
   "outputs": [
    {
     "name": "stdout",
     "output_type": "stream",
     "text": [
      "Epoch 0, train_sat_kb: 0.4915, val_sat_kb: 0.5453, train_accuracy: 0.5881, val_accuracy: 0.6958\n",
      "Epoch 1, train_sat_kb: 0.5700, val_sat_kb: 0.5960, train_accuracy: 0.7524, val_accuracy: 0.8023\n",
      "Epoch 2, train_sat_kb: 0.6180, val_sat_kb: 0.6254, train_accuracy: 0.8328, val_accuracy: 0.8365\n",
      "Epoch 3, train_sat_kb: 0.6552, val_sat_kb: 0.6478, train_accuracy: 0.8695, val_accuracy: 0.8593\n",
      "Epoch 4, train_sat_kb: 0.6856, val_sat_kb: 0.6633, train_accuracy: 0.8975, val_accuracy: 0.8821\n",
      "Epoch 5, train_sat_kb: 0.7117, val_sat_kb: 0.6890, train_accuracy: 0.9128, val_accuracy: 0.8973\n",
      "Epoch 6, train_sat_kb: 0.7338, val_sat_kb: 0.6968, train_accuracy: 0.9256, val_accuracy: 0.9011\n",
      "Epoch 7, train_sat_kb: 0.7473, val_sat_kb: 0.7054, train_accuracy: 0.9330, val_accuracy: 0.9049\n",
      "Epoch 8, train_sat_kb: 0.7646, val_sat_kb: 0.7303, train_accuracy: 0.9441, val_accuracy: 0.9163\n",
      "Epoch 9, train_sat_kb: 0.7814, val_sat_kb: 0.7356, train_accuracy: 0.9495, val_accuracy: 0.9202\n",
      "Epoch 10, train_sat_kb: 0.7915, val_sat_kb: 0.7457, train_accuracy: 0.9549, val_accuracy: 0.9316\n",
      "Epoch 11, train_sat_kb: 0.8039, val_sat_kb: 0.7641, train_accuracy: 0.9601, val_accuracy: 0.9392\n",
      "Epoch 12, train_sat_kb: 0.8121, val_sat_kb: 0.7556, train_accuracy: 0.9637, val_accuracy: 0.9316\n",
      "Epoch 13, train_sat_kb: 0.8227, val_sat_kb: 0.7691, train_accuracy: 0.9649, val_accuracy: 0.9354\n",
      "Epoch 14, train_sat_kb: 0.8322, val_sat_kb: 0.7732, train_accuracy: 0.9673, val_accuracy: 0.9392\n",
      "Epoch 15, train_sat_kb: 0.8407, val_sat_kb: 0.7782, train_accuracy: 0.9707, val_accuracy: 0.9430\n",
      "Epoch 16, train_sat_kb: 0.8493, val_sat_kb: 0.7971, train_accuracy: 0.9755, val_accuracy: 0.9468\n",
      "Epoch 17, train_sat_kb: 0.8560, val_sat_kb: 0.7970, train_accuracy: 0.9773, val_accuracy: 0.9582\n",
      "Epoch 18, train_sat_kb: 0.8632, val_sat_kb: 0.8102, train_accuracy: 0.9799, val_accuracy: 0.9620\n",
      "Epoch 19, train_sat_kb: 0.8693, val_sat_kb: 0.8125, train_accuracy: 0.9822, val_accuracy: 0.9582\n",
      "Epoch 20, train_sat_kb: 0.8753, val_sat_kb: 0.8139, train_accuracy: 0.9834, val_accuracy: 0.9582\n",
      "Epoch 21, train_sat_kb: 0.8807, val_sat_kb: 0.8180, train_accuracy: 0.9846, val_accuracy: 0.9620\n",
      "Epoch 22, train_sat_kb: 0.8847, val_sat_kb: 0.8199, train_accuracy: 0.9858, val_accuracy: 0.9696\n",
      "Epoch 23, train_sat_kb: 0.8900, val_sat_kb: 0.8273, train_accuracy: 0.9870, val_accuracy: 0.9696\n",
      "Epoch 24, train_sat_kb: 0.8951, val_sat_kb: 0.8375, train_accuracy: 0.9882, val_accuracy: 0.9658\n",
      "Epoch 25, train_sat_kb: 0.9001, val_sat_kb: 0.8382, train_accuracy: 0.9890, val_accuracy: 0.9658\n",
      "Epoch 26, train_sat_kb: 0.9034, val_sat_kb: 0.8404, train_accuracy: 0.9894, val_accuracy: 0.9696\n",
      "Epoch 27, train_sat_kb: 0.9060, val_sat_kb: 0.8436, train_accuracy: 0.9898, val_accuracy: 0.9696\n",
      "Epoch 28, train_sat_kb: 0.9081, val_sat_kb: 0.8422, train_accuracy: 0.9898, val_accuracy: 0.9658\n",
      "Epoch 29, train_sat_kb: 0.9117, val_sat_kb: 0.8392, train_accuracy: 0.9904, val_accuracy: 0.9734\n",
      "Epoch 30, train_sat_kb: 0.9141, val_sat_kb: 0.8365, train_accuracy: 0.9908, val_accuracy: 0.9734\n",
      "Epoch 31, train_sat_kb: 0.9171, val_sat_kb: 0.8404, train_accuracy: 0.9914, val_accuracy: 0.9734\n",
      "Epoch 32, train_sat_kb: 0.9186, val_sat_kb: 0.8428, train_accuracy: 0.9918, val_accuracy: 0.9734\n",
      "Epoch 33, train_sat_kb: 0.9199, val_sat_kb: 0.8440, train_accuracy: 0.9922, val_accuracy: 0.9734\n",
      "Epoch 34, train_sat_kb: 0.9217, val_sat_kb: 0.8411, train_accuracy: 0.9920, val_accuracy: 0.9734\n",
      "Epoch 35, train_sat_kb: 0.9221, val_sat_kb: 0.8394, train_accuracy: 0.9922, val_accuracy: 0.9734\n",
      "Epoch 36, train_sat_kb: 0.9236, val_sat_kb: 0.8414, train_accuracy: 0.9924, val_accuracy: 0.9734\n",
      "Epoch 37, train_sat_kb: 0.9264, val_sat_kb: 0.8404, train_accuracy: 0.9924, val_accuracy: 0.9734\n",
      "Epoch 38, train_sat_kb: 0.9283, val_sat_kb: 0.8342, train_accuracy: 0.9926, val_accuracy: 0.9734\n",
      "Epoch 39, train_sat_kb: 0.9279, val_sat_kb: 0.8410, train_accuracy: 0.9930, val_accuracy: 0.9734\n",
      "Epoch 40, train_sat_kb: 0.9297, val_sat_kb: 0.8353, train_accuracy: 0.9930, val_accuracy: 0.9734\n",
      "Epoch 41, train_sat_kb: 0.9306, val_sat_kb: 0.8271, train_accuracy: 0.9930, val_accuracy: 0.9734\n",
      "Epoch 42, train_sat_kb: 0.9306, val_sat_kb: 0.8305, train_accuracy: 0.9930, val_accuracy: 0.9734\n",
      "Epoch 43, train_sat_kb: 0.9317, val_sat_kb: 0.8344, train_accuracy: 0.9932, val_accuracy: 0.9734\n",
      "Epoch 44, train_sat_kb: 0.9324, val_sat_kb: 0.8396, train_accuracy: 0.9930, val_accuracy: 0.9734\n",
      "Epoch 45, train_sat_kb: 0.9327, val_sat_kb: 0.8416, train_accuracy: 0.9932, val_accuracy: 0.9734\n",
      "Epoch 46, train_sat_kb: 0.9336, val_sat_kb: 0.8484, train_accuracy: 0.9934, val_accuracy: 0.9734\n",
      "Epoch 47, train_sat_kb: 0.9338, val_sat_kb: 0.8455, train_accuracy: 0.9928, val_accuracy: 0.9734\n",
      "Epoch 48, train_sat_kb: 0.9345, val_sat_kb: 0.8417, train_accuracy: 0.9930, val_accuracy: 0.9734\n",
      "Epoch 49, train_sat_kb: 0.9345, val_sat_kb: 0.8379, train_accuracy: 0.9934, val_accuracy: 0.9734\n",
      "Epoch 50, train_sat_kb: 0.9354, val_sat_kb: 0.8308, train_accuracy: 0.9938, val_accuracy: 0.9734\n",
      "Epoch 51, train_sat_kb: 0.9354, val_sat_kb: 0.8320, train_accuracy: 0.9936, val_accuracy: 0.9734\n",
      "Epoch 52, train_sat_kb: 0.9358, val_sat_kb: 0.8277, train_accuracy: 0.9934, val_accuracy: 0.9734\n",
      "Epoch 53, train_sat_kb: 0.9368, val_sat_kb: 0.8292, train_accuracy: 0.9938, val_accuracy: 0.9734\n",
      "Epoch 54, train_sat_kb: 0.9367, val_sat_kb: 0.8337, train_accuracy: 0.9938, val_accuracy: 0.9734\n",
      "Epoch 55, train_sat_kb: 0.9370, val_sat_kb: 0.8290, train_accuracy: 0.9936, val_accuracy: 0.9734\n",
      "Epoch 56, train_sat_kb: 0.9374, val_sat_kb: 0.8323, train_accuracy: 0.9936, val_accuracy: 0.9734\n",
      "Epoch 57, train_sat_kb: 0.9372, val_sat_kb: 0.8343, train_accuracy: 0.9936, val_accuracy: 0.9734\n",
      "Epoch 58, train_sat_kb: 0.9379, val_sat_kb: 0.8342, train_accuracy: 0.9938, val_accuracy: 0.9734\n",
      "Epoch 59, train_sat_kb: 0.9379, val_sat_kb: 0.8371, train_accuracy: 0.9936, val_accuracy: 0.9734\n",
      "Epoch 60, train_sat_kb: 0.9382, val_sat_kb: 0.8424, train_accuracy: 0.9936, val_accuracy: 0.9734\n",
      "Epoch 61, train_sat_kb: 0.9382, val_sat_kb: 0.8257, train_accuracy: 0.9936, val_accuracy: 0.9734\n",
      "Epoch 62, train_sat_kb: 0.9379, val_sat_kb: 0.8252, train_accuracy: 0.9938, val_accuracy: 0.9734\n",
      "Epoch 63, train_sat_kb: 0.9380, val_sat_kb: 0.8234, train_accuracy: 0.9938, val_accuracy: 0.9734\n",
      "Epoch 64, train_sat_kb: 0.9384, val_sat_kb: 0.8338, train_accuracy: 0.9938, val_accuracy: 0.9734\n",
      "Epoch 65, train_sat_kb: 0.9395, val_sat_kb: 0.8320, train_accuracy: 0.9938, val_accuracy: 0.9734\n",
      "Epoch 66, train_sat_kb: 0.9389, val_sat_kb: 0.8364, train_accuracy: 0.9940, val_accuracy: 0.9734\n",
      "Epoch 67, train_sat_kb: 0.9386, val_sat_kb: 0.8325, train_accuracy: 0.9942, val_accuracy: 0.9734\n",
      "Epoch 68, train_sat_kb: 0.9393, val_sat_kb: 0.8244, train_accuracy: 0.9940, val_accuracy: 0.9734\n",
      "Epoch 69, train_sat_kb: 0.9397, val_sat_kb: 0.8182, train_accuracy: 0.9940, val_accuracy: 0.9734\n",
      "Epoch 70, train_sat_kb: 0.9393, val_sat_kb: 0.8212, train_accuracy: 0.9940, val_accuracy: 0.9734\n",
      "Epoch 71, train_sat_kb: 0.9390, val_sat_kb: 0.8192, train_accuracy: 0.9936, val_accuracy: 0.9734\n",
      "Epoch 72, train_sat_kb: 0.9391, val_sat_kb: 0.8187, train_accuracy: 0.9940, val_accuracy: 0.9734\n",
      "Epoch 73, train_sat_kb: 0.9391, val_sat_kb: 0.8084, train_accuracy: 0.9940, val_accuracy: 0.9696\n",
      "Epoch 74, train_sat_kb: 0.9392, val_sat_kb: 0.8035, train_accuracy: 0.9940, val_accuracy: 0.9696\n",
      "Epoch 75, train_sat_kb: 0.9398, val_sat_kb: 0.8171, train_accuracy: 0.9940, val_accuracy: 0.9696\n",
      "Epoch 76, train_sat_kb: 0.9405, val_sat_kb: 0.8199, train_accuracy: 0.9940, val_accuracy: 0.9734\n",
      "Epoch 77, train_sat_kb: 0.9396, val_sat_kb: 0.8199, train_accuracy: 0.9936, val_accuracy: 0.9734\n",
      "Epoch 78, train_sat_kb: 0.9397, val_sat_kb: 0.8189, train_accuracy: 0.9940, val_accuracy: 0.9734\n",
      "Epoch 79, train_sat_kb: 0.9394, val_sat_kb: 0.8178, train_accuracy: 0.9940, val_accuracy: 0.9696\n",
      "Epoch 80, train_sat_kb: 0.9394, val_sat_kb: 0.8395, train_accuracy: 0.9942, val_accuracy: 0.9734\n",
      "Epoch 81, train_sat_kb: 0.9393, val_sat_kb: 0.8427, train_accuracy: 0.9942, val_accuracy: 0.9734\n",
      "Epoch 82, train_sat_kb: 0.9395, val_sat_kb: 0.8444, train_accuracy: 0.9940, val_accuracy: 0.9734\n",
      "Epoch 83, train_sat_kb: 0.9402, val_sat_kb: 0.8466, train_accuracy: 0.9940, val_accuracy: 0.9734\n",
      "Epoch 84, train_sat_kb: 0.9398, val_sat_kb: 0.8412, train_accuracy: 0.9940, val_accuracy: 0.9734\n",
      "Epoch 85, train_sat_kb: 0.9402, val_sat_kb: 0.8538, train_accuracy: 0.9940, val_accuracy: 0.9734\n",
      "Epoch 86, train_sat_kb: 0.9398, val_sat_kb: 0.8551, train_accuracy: 0.9940, val_accuracy: 0.9696\n",
      "Epoch 87, train_sat_kb: 0.9398, val_sat_kb: 0.8623, train_accuracy: 0.9938, val_accuracy: 0.9734\n",
      "Epoch 88, train_sat_kb: 0.9400, val_sat_kb: 0.8591, train_accuracy: 0.9940, val_accuracy: 0.9734\n",
      "Epoch 89, train_sat_kb: 0.9401, val_sat_kb: 0.8404, train_accuracy: 0.9940, val_accuracy: 0.9696\n",
      "Epoch 90, train_sat_kb: 0.9409, val_sat_kb: 0.8455, train_accuracy: 0.9940, val_accuracy: 0.9734\n",
      "Epoch 91, train_sat_kb: 0.9406, val_sat_kb: 0.8416, train_accuracy: 0.9940, val_accuracy: 0.9734\n",
      "Epoch 92, train_sat_kb: 0.9407, val_sat_kb: 0.8474, train_accuracy: 0.9940, val_accuracy: 0.9734\n",
      "Epoch 93, train_sat_kb: 0.9403, val_sat_kb: 0.8546, train_accuracy: 0.9940, val_accuracy: 0.9772\n",
      "Epoch 94, train_sat_kb: 0.9407, val_sat_kb: 0.8500, train_accuracy: 0.9938, val_accuracy: 0.9734\n",
      "Epoch 95, train_sat_kb: 0.9406, val_sat_kb: 0.8354, train_accuracy: 0.9940, val_accuracy: 0.9734\n",
      "Epoch 96, train_sat_kb: 0.9393, val_sat_kb: 0.8150, train_accuracy: 0.9938, val_accuracy: 0.9696\n",
      "Epoch 97, train_sat_kb: 0.9410, val_sat_kb: 0.8249, train_accuracy: 0.9938, val_accuracy: 0.9734\n",
      "Epoch 98, train_sat_kb: 0.9407, val_sat_kb: 0.8315, train_accuracy: 0.9938, val_accuracy: 0.9734\n",
      "Epoch 99, train_sat_kb: 0.9401, val_sat_kb: 0.8335, train_accuracy: 0.9944, val_accuracy: 0.9734\n"
     ]
    }
   ],
   "source": [
    "import commons\n",
    "\n",
    "EPOCHS = 100\n",
    "\n",
    "commons.train(\n",
    "    EPOCHS,\n",
    "    metrics_dict,\n",
    "    ds_train,\n",
    "    ds_val,\n",
    "    train_step,\n",
    "    test_step,\n",
    "    csv_path=TRAIN_HISTORY_PATH,\n",
    "    track_metrics=1\n",
    ")"
   ]
  },
  {
   "cell_type": "code",
   "execution_count": 25,
   "id": "e7f4aa50-1952-496e-a12f-d27514b3a1dd",
   "metadata": {
    "tags": []
   },
   "outputs": [],
   "source": [
    "# Model save weights\n",
    "logits_model.save(os.path.join(ROOT_DIR,f'weights/DPP4_{MODEL_NAME}_{\"-\".join(FEAT_NAME)}_Weights.keras'))"
   ]
  },
  {
   "cell_type": "code",
   "execution_count": 26,
   "id": "26d094bb-4098-4d0f-a0d3-c0116af4398f",
   "metadata": {
    "tags": []
   },
   "outputs": [
    {
     "name": "stdout",
     "output_type": "stream",
     "text": [
      "42/42 [==============================] - 0s 4ms/step\n"
     ]
    }
   ],
   "source": [
    "y_pred_prob = tf.nn.softmax(logits_model.predict([X_test])).numpy()\n",
    "y_pred = y_pred_prob.argmax(-1)"
   ]
  },
  {
   "cell_type": "code",
   "execution_count": 27,
   "id": "c9ce563e-45d1-4752-b6cb-b50c5c663ac1",
   "metadata": {
    "tags": []
   },
   "outputs": [],
   "source": [
    "np.savez(\n",
    "    os.path.join(ROOT_DIR,'results',f'DPP4-{MODEL_NAME}-{\"-\".join(FEAT_NAME)}-Preditions'),\n",
    "    y_true = y_test,\n",
    "    y_pred_prob = y_pred_prob,\n",
    "    )"
   ]
  },
  {
   "cell_type": "code",
   "execution_count": 28,
   "id": "5cb1d664-0b96-4878-bcea-ffe803d40280",
   "metadata": {
    "tags": []
   },
   "outputs": [
    {
     "name": "stdout",
     "output_type": "stream",
     "text": [
      "accuracy_score: 0.9725818735719726\n",
      "roc_auc_score: 0.9719222992895454\n",
      "matthews_corrcoef: 0.9446872371636874\n",
      "F1 Score: 0.972322934232715\n"
     ]
    }
   ],
   "source": [
    "print(f\"accuracy_score: {accuracy_score(y_test,y_pred)}\")\n",
    "print(f\"roc_auc_score: {roc_auc_score(y_test,y_pred)}\")\n",
    "print(f\"matthews_corrcoef: {matthews_corrcoef(y_test,y_pred)}\")\n",
    "print(f\"F1 Score: {f1_score(y_test,y_pred,average='macro')}\")\n"
   ]
  },
  {
   "cell_type": "code",
   "execution_count": 29,
   "id": "a8af8583-5bd6-407f-8d76-d9792b1e9d4e",
   "metadata": {
    "tags": []
   },
   "outputs": [
    {
     "data": {
      "image/png": "[encoded data removed]",
      "text/plain": [
       "<Figure size 640x480 with 2 Axes>"
      ]
     },
     "metadata": {},
     "output_type": "display_data"
    }
   ],
   "source": [
    "cm = confusion_matrix(y_test, y_pred)\n",
    "\n",
    "# 6. Plot the confusion matrix\n",
    "disp = ConfusionMatrixDisplay(confusion_matrix=cm,display_labels = ['Active', 'Inactive'])\n",
    "disp.plot(cmap=plt.cm.Blues)\n",
    "plt.title(f\"LTN CDKExetended + ECFP (Morgan) Confusion Matrix\")\n",
    "plt.show()"
   ]
  },
  {
   "cell_type": "code",
   "execution_count": 30,
   "id": "1dfca27e-78cf-4c1d-b3e4-fcb06b64f5fd",
   "metadata": {
    "tags": []
   },
   "outputs": [],
   "source": [
    "hist = pd.read_csv(TRAIN_HISTORY_PATH)\n"
   ]
  },
  {
   "cell_type": "code",
   "execution_count": 31,
   "id": "e25b4b0c-e641-4fe8-bcb9-aa48f79a7887",
   "metadata": {
    "tags": []
   },
   "outputs": [
    {
     "data": {
      "image/png": "[encoded data removed]",
      "text/plain": [
       "<Figure size 640x480 with 1 Axes>"
      ]
     },
     "metadata": {},
     "output_type": "display_data"
    },
    {
     "data": {
      "image/png": "[encoded data removed]",
      "text/plain": [
       "<Figure size 640x480 with 1 Axes>"
      ]
     },
     "metadata": {},
     "output_type": "display_data"
    }
   ],
   "source": [
    "plt.title(f'{MODEL_NAME.upper()} CDKExetended + ECFP (Morgan) Training and Validation Accuracy')\n",
    "plt.plot(hist['train_accuracy'],label= 'Training Accuracy')\n",
    "plt.plot(hist['val_accuracy'],label= 'Valdidation Accuracy')\n",
    "plt.ylabel('Accuracy')\n",
    "plt.xlabel(\"Epoch\")\n",
    "plt.legend()\n",
    "plt.show()\n",
    "plt.title(f'{MODEL_NAME.upper()} CDKExetended + ECFP (Morgan) Training and Validation Satisfaction Level')\n",
    "plt.plot(hist['train_sat_kb'],label= 'Training Satisfaction Level')\n",
    "plt.plot(hist['val_sat_kb'],label= 'Valdidation Satisfaction Level')\n",
    "plt.ylabel('Satisfaction Level')\n",
    "plt.xlabel(\"Epoch\")\n",
    "plt.legend()\n",
    "plt.show()"
   ]
  },
  {
   "cell_type": "code",
   "execution_count": null,
   "id": "5a8c8743-d789-4e2a-96f7-26925d18b6f7",
   "metadata": {},
   "outputs": [],
   "source": []
  }
 ],
 "metadata": {
  "kernelspec": {
   "display_name": "Python [conda env:.conda-dpp4_env]",
   "language": "python",
   "name": "conda-env-.conda-dpp4_env-py"
  },
  "language_info": {
   "codemirror_mode": {
    "name": "ipython",
    "version": 3
   },
   "file_extension": ".py",
   "mimetype": "text/x-python",
   "name": "python",
   "nbconvert_exporter": "python",
   "pygments_lexer": "ipython3",
   "version": "3.10.16"
  }
 },
 "nbformat": 4,
 "nbformat_minor": 5
}
