{
 "cells": [
  {
   "cell_type": "code",
   "execution_count": 1,
   "id": "038138f8-d565-44cf-b9a4-2040a8bbb517",
   "metadata": {
    "tags": []
   },
   "outputs": [
    {
     "name": "stdout",
     "output_type": "stream",
     "text": [
      "fatal: destination path '/data/user/home/mhossai5/DPP-New2025/utils' already exists and is not an empty directory.\n"
     ]
    }
   ],
   "source": [
    "ROOT_DIR ='/data/user/home/mhossai5/DPP-New2025'\n"
   ]
  },
  {
   "cell_type": "code",
   "execution_count": 11,
   "id": "33dea0f7-5807-4e50-ab04-8d8f45d8fc6a",
   "metadata": {
    "tags": []
   },
   "outputs": [],
   "source": [
    "import os\n",
    "import pandas as pd\n",
    "import numpy as np\n",
    "from tqdm.auto import tqdm\n",
    "tqdm.pandas()\n",
    "df_external_set = pd.read_parquet(os.path.join(ROOT_DIR,'data/dpp4-ext-26-03-25-feat.parquet'))"
   ]
  },
  {
   "cell_type": "code",
   "execution_count": 21,
   "id": "1e003e3a-d2f0-4b47-b107-ef4b5df7e3b2",
   "metadata": {
    "tags": []
   },
   "outputs": [
    {
     "name": "stderr",
     "output_type": "stream",
     "text": [
      "2025-05-06 02:47:06.998435: E external/local_xla/xla/stream_executor/cuda/cuda_dnn.cc:9261] Unable to register cuDNN factory: Attempting to register factory for plugin cuDNN when one has already been registered\n",
      "2025-05-06 02:47:06.998499: E external/local_xla/xla/stream_executor/cuda/cuda_fft.cc:607] Unable to register cuFFT factory: Attempting to register factory for plugin cuFFT when one has already been registered\n",
      "2025-05-06 02:47:06.999352: E external/local_xla/xla/stream_executor/cuda/cuda_blas.cc:1515] Unable to register cuBLAS factory: Attempting to register factory for plugin cuBLAS when one has already been registered\n",
      "2025-05-06 02:47:07.005636: I tensorflow/core/platform/cpu_feature_guard.cc:182] This TensorFlow binary is optimized to use available CPU instructions in performance-critical operations.\n",
      "To enable the following instructions: AVX2 FMA, in other operations, rebuild TensorFlow with the appropriate compiler flags.\n",
      "2025-05-06 02:47:18.427423: W tensorflow/compiler/tf2tensorrt/utils/py_utils.cc:38] TF-TRT Warning: Could not find TensorRT\n"
     ]
    }
   ],
   "source": [
    "import tensorflow as tf\n",
    "\n",
    "@tf.keras.saving.register_keras_serializable()\n",
    "class MLP(tf.keras.Model):\n",
    "    \"\"\"Model that returns logits.\"\"\"\n",
    "    def __init__(self, n_classes, units_values=[768, 384, 192], activation='relu', **kwargs):\n",
    "        super(MLP, self).__init__(**kwargs)\n",
    "        self.denses = [tf.keras.layers.Dense(uv, activation=activation) for uv in units_values]\n",
    "        self.dense_class = tf.keras.layers.Dense(n_classes)\n",
    "        self.dropout = tf.keras.layers.Dropout(0.25)\n",
    "\n",
    "    def call(self, inputs, training=False):\n",
    "        x = inputs\n",
    "        for dense in self.denses:\n",
    "            x = dense(x)\n",
    "            x = self.dropout(x, training=training)\n",
    "        return self.dense_class(x)"
   ]
  },
  {
   "cell_type": "code",
   "execution_count": 22,
   "id": "d0276c09-f9e7-4afe-acc9-42572c0c5508",
   "metadata": {
    "tags": []
   },
   "outputs": [
    {
     "name": "stderr",
     "output_type": "stream",
     "text": [
      "2025-05-06 02:47:35.937249: W tensorflow/core/common_runtime/gpu/gpu_device.cc:2256] Cannot dlopen some GPU libraries. Please make sure the missing libraries mentioned above are installed properly if you would like to use GPU. Follow the guide at https://www.tensorflow.org/install/gpu for how to download and setup the required libraries for your platform.\n",
      "Skipping registering GPU devices...\n"
     ]
    }
   ],
   "source": [
    "model = MLP(2)\n",
    "model.build([None,4608])\n",
    "model.load_weights(f'{ROOT_DIR}/weights/DPP4_LTN_DNN_CDKextended-ECFP-ECFP_512-ECFP_2048_Weights.keras')"
   ]
  },
  {
   "cell_type": "code",
   "execution_count": 23,
   "id": "44efff53-f669-4b03-9af4-57c7f0f69e07",
   "metadata": {
    "tags": []
   },
   "outputs": [],
   "source": [
    "FEAT_NAME = [\n",
    "    'CDKextended',\n",
    "    'ECFP',\n",
    "    'ECFP_512',\n",
    "    'ECFP_2048',\n",
    "]"
   ]
  },
  {
   "cell_type": "code",
   "execution_count": 24,
   "id": "77a0185b-fff8-428d-a2b7-08a4191a1160",
   "metadata": {
    "tags": []
   },
   "outputs": [],
   "source": [
    "import numpy as np\n",
    "X = np.concatenate([np.vstack(df_external_set[col]) for col in FEAT_NAME],axis = 1)\n",
    "y = df_external_set['target']\n",
    "\n",
    "X = scaler.transform(X)"
   ]
  },
  {
   "cell_type": "code",
   "execution_count": 25,
   "id": "d06b3cac-a953-4da1-bf4f-5f591f9dfb16",
   "metadata": {},
   "outputs": [
    {
     "name": "stdout",
     "output_type": "stream",
     "text": [
      "33/33 [==============================] - 0s 4ms/step\n"
     ]
    }
   ],
   "source": [
    "y_pred_prob = tf.nn.softmax(model.predict(X)).numpy()\n",
    "y_pred = y_pred_prob.argmax(-1)"
   ]
  },
  {
   "cell_type": "code",
   "execution_count": 26,
   "id": "ff586950-f6d1-4547-bb04-0aba165b8bf6",
   "metadata": {
    "tags": []
   },
   "outputs": [],
   "source": [
    "from sklearn.metrics import (\n",
    "    accuracy_score,\n",
    "    f1_score,\n",
    "    roc_auc_score,\n",
    "    roc_curve,\n",
    "    matthews_corrcoef,\n",
    "    precision_score,\n",
    "    recall_score,\n",
    "    confusion_matrix,\n",
    "    classification_report,\n",
    "    auc,\n",
    "    ConfusionMatrixDisplay,\n",
    ")\n",
    "import matplotlib.pyplot as plt"
   ]
  },
  {
   "cell_type": "code",
   "execution_count": 27,
   "id": "190d858b-b256-422b-8518-d002b7a833e5",
   "metadata": {
    "tags": []
   },
   "outputs": [
    {
     "name": "stdout",
     "output_type": "stream",
     "text": [
      "accuracy_score: 0.9578947368421052\n",
      "roc_auc_score: 0.9564954128440367\n",
      "matthews_corrcoef: 0.9171467547434217\n",
      "F1 Score: 0.9576648841354725\n"
     ]
    }
   ],
   "source": [
    "print(f\"accuracy_score: {accuracy_score(y,y_pred)}\")\n",
    "print(f\"roc_auc_score: {roc_auc_score(y,y_pred)}\")\n",
    "print(f\"matthews_corrcoef: {matthews_corrcoef(y,y_pred)}\")\n",
    "print(f\"F1 Score: {f1_score(y,y_pred,average='macro')}\")\n"
   ]
  },
  {
   "cell_type": "code",
   "execution_count": 28,
   "id": "f122cdca-542f-4879-b780-d2e402472698",
   "metadata": {
    "tags": []
   },
   "outputs": [
    {
     "data": {
      "image/png": "[encoded data removed]",
      "text/plain": [
       "<Figure size 640x480 with 2 Axes>"
      ]
     },
     "metadata": {},
     "output_type": "display_data"
    }
   ],
   "source": [
    "cm = confusion_matrix(y, y_pred)\n",
    "\n",
    "# 6. Plot the confusion matrix\n",
    "disp = ConfusionMatrixDisplay(confusion_matrix=cm,display_labels = ['Active', 'Inactive'])\n",
    "disp.plot(cmap=plt.cm.Blues)\n",
    "plt.title(f\"LTN CDKExetended + ECFP (Morgan) Confusion Matrix\")\n",
    "plt.show()"
   ]
  }
 ],
 "metadata": {
  "kernelspec": {
   "display_name": "Python [conda env:.conda-dpp4_env]",
   "language": "python",
   "name": "conda-env-.conda-dpp4_env-py"
  },
  "language_info": {
   "codemirror_mode": {
    "name": "ipython",
    "version": 3
   },
   "file_extension": ".py",
   "mimetype": "text/x-python",
   "name": "python",
   "nbconvert_exporter": "python",
   "pygments_lexer": "ipython3",
   "version": "3.10.16"
  }
 },
 "nbformat": 4,
 "nbformat_minor": 5
}
