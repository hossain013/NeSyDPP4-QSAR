{
 "cells": [
  {
   "cell_type": "code",
   "execution_count": 1,
   "metadata": {
    "executionInfo": {
     "elapsed": 13487,
     "status": "ok",
     "timestamp": 1726592803155,
     "user": {
      "displayName": "Delower Hossain",
      "userId": "01553421328143772667"
     },
     "user_tz": 300
    },
    "id": "f0vJysYChNJA",
    "tags": []
   },
   "outputs": [
    {
     "name": "stderr",
     "output_type": "stream",
     "text": [
      "2025-03-29 02:54:17.694637: E external/local_xla/xla/stream_executor/cuda/cuda_dnn.cc:9261] Unable to register cuDNN factory: Attempting to register factory for plugin cuDNN when one has already been registered\n",
      "2025-03-29 02:54:17.694789: E external/local_xla/xla/stream_executor/cuda/cuda_fft.cc:607] Unable to register cuFFT factory: Attempting to register factory for plugin cuFFT when one has already been registered\n",
      "2025-03-29 02:54:17.876149: E external/local_xla/xla/stream_executor/cuda/cuda_blas.cc:1515] Unable to register cuBLAS factory: Attempting to register factory for plugin cuBLAS when one has already been registered\n",
      "2025-03-29 02:54:18.311868: I tensorflow/core/platform/cpu_feature_guard.cc:182] This TensorFlow binary is optimized to use available CPU instructions in performance-critical operations.\n",
      "To enable the following instructions: AVX2 FMA, in other operations, rebuild TensorFlow with the appropriate compiler flags.\n",
      "2025-03-29 02:54:31.200330: W tensorflow/compiler/tf2tensorrt/utils/py_utils.cc:38] TF-TRT Warning: Could not find TensorRT\n",
      "/home/mhossai5/.conda/envs/molgraph_tf/lib/python3.10/site-packages/tqdm/auto.py:21: TqdmWarning: IProgress not found. Please update jupyter and ipywidgets. See https://ipywidgets.readthedocs.io/en/stable/user_install.html\n",
      "  from .autonotebook import tqdm as notebook_tqdm\n"
     ]
    }
   ],
   "source": [
    "import os\n",
    "import numpy as np\n",
    "import pandas as pd\n",
    "import tensorflow as tf\n",
    "from sklearn.preprocessing import StandardScaler\n",
    "from sklearn.model_selection import train_test_split\n",
    "\n",
    "from sklearn.metrics import (\n",
    "    accuracy_score,\n",
    "    f1_score,\n",
    "    roc_auc_score,\n",
    "    roc_curve,\n",
    "    matthews_corrcoef,\n",
    "    precision_score,\n",
    "    recall_score,\n",
    "    confusion_matrix,\n",
    "    classification_report,\n",
    "    auc,\n",
    "    ConfusionMatrixDisplay,\n",
    ")\n",
    "\n",
    "import matplotlib.pyplot as plt\n",
    "import seaborn as sns\n",
    "from tqdm.auto import tqdm\n",
    "from dataclasses import dataclass\n",
    "tqdm.pandas()\n",
    "import matplotlib.pyplot as plt"
   ]
  },
  {
   "cell_type": "code",
   "execution_count": 2,
   "metadata": {
    "tags": []
   },
   "outputs": [],
   "source": [
    "ROOT_DIR ='/data/user/home/mhossai5/DPP-New2025'"
   ]
  },
  {
   "cell_type": "code",
   "execution_count": 3,
   "metadata": {
    "executionInfo": {
     "elapsed": 1110,
     "status": "ok",
     "timestamp": 1726592804256,
     "user": {
      "displayName": "Delower Hossain",
      "userId": "01553421328143772667"
     },
     "user_tz": 300
    },
    "id": "7kEzXUVNMX62",
    "tags": []
   },
   "outputs": [],
   "source": [
    "# Data & Model training arguments\n",
    "SEED = 42\n",
    "LR = 0.00001\n",
    "BATCH_SIZE = 128\n",
    "FEAT_NAME = [\n",
    "    'CDKextended',\n",
    "    'ECFP',\n",
    "    'ECFP_512',\n",
    "    'ECFP_2048',\n",
    "]\n",
    "MODEL_NAME = 'DNN'\n",
    "\n",
    "TRAIN_HISTORY_PATH = os.path.join(ROOT_DIR, f'results/CDKExetended-ECFP-{MODEL_NAME}.csv')"
   ]
  },
  {
   "cell_type": "code",
   "execution_count": 4,
   "metadata": {
    "colab": {
     "base_uri": "https://localhost:8080/"
    },
    "executionInfo": {
     "elapsed": 5,
     "status": "ok",
     "timestamp": 1726592804256,
     "user": {
      "displayName": "Delower Hossain",
      "userId": "01553421328143772667"
     },
     "user_tz": 300
    },
    "id": "RjmUOEC2RT3p",
    "outputId": "f6ecff26-d823-42ba-9207-d89b6a5c5b2c",
    "tags": []
   },
   "outputs": [],
   "source": [
    "import pandas as pd\n",
    "import os\n",
    "\n",
    "# Define the correct path\n",
    "file_path = os.path.join(ROOT_DIR, \"data/dpp4-26-03-25-feat.parquet\")\n",
    "\n",
    "# Read the Parquet file\n",
    "df_final = pd.read_parquet(file_path)"
   ]
  },
  {
   "cell_type": "code",
   "execution_count": 5,
   "metadata": {
    "executionInfo": {
     "elapsed": 439,
     "status": "ok",
     "timestamp": 1726592804691,
     "user": {
      "displayName": "Delower Hossain",
      "userId": "01553421328143772667"
     },
     "user_tz": 300
    },
    "id": "ThYzfJvQTcAZ",
    "tags": []
   },
   "outputs": [],
   "source": [
    "X = np.concatenate([np.vstack(df_final[df_final['splits']=='train'][col]) for col in FEAT_NAME],axis = 1)\n",
    "y = df_final[df_final['splits']=='train']['target']\n",
    "\n",
    "X_test = np.concatenate([np.vstack(df_final[df_final['splits']=='test'][col]) for col in FEAT_NAME],axis = 1)\n",
    "y_test = df_final[df_final['splits']=='test']['target']\n",
    "X = np.nan_to_num(X)\n",
    "X_test = np.nan_to_num(X_test)\n",
    "X_train,X_val,y_train,y_val = train_test_split(X,y,test_size = 0.05,random_state = SEED,stratify=y)"
   ]
  },
  {
   "cell_type": "code",
   "execution_count": 6,
   "metadata": {
    "colab": {
     "base_uri": "https://localhost:8080/"
    },
    "executionInfo": {
     "elapsed": 5,
     "status": "ok",
     "timestamp": 1726592804691,
     "user": {
      "displayName": "Delower Hossain",
      "userId": "01553421328143772667"
     },
     "user_tz": 300
    },
    "id": "fa3nJd9QnA6z",
    "outputId": "2ae9610c-e1f7-45cf-c46b-d6e059f940ee",
    "tags": []
   },
   "outputs": [
    {
     "name": "stdout",
     "output_type": "stream",
     "text": [
      "X_train:  (4987, 4608)\n",
      "X_test:  (1313, 4608)\n",
      "X_val:  (263, 4608)\n"
     ]
    }
   ],
   "source": [
    "print('X_train: ', X_train.shape)\n",
    "print('X_test: ', X_test.shape)\n",
    "print('X_val: ', X_val.shape)"
   ]
  },
  {
   "cell_type": "code",
   "execution_count": 7,
   "metadata": {
    "executionInfo": {
     "elapsed": 569,
     "status": "ok",
     "timestamp": 1726592805256,
     "user": {
      "displayName": "Delower Hossain",
      "userId": "01553421328143772667"
     },
     "user_tz": 300
    },
    "id": "JnX-O1denybX",
    "tags": []
   },
   "outputs": [],
   "source": [
    "scaler = StandardScaler()\n",
    "\n",
    "# Fit the scaler on the training data only\n",
    "scaler.fit(X_train)\n",
    "\n",
    "# Transform the train, validation, and test sets\n",
    "X_train = scaler.transform(X_train)\n",
    "X_val = scaler.transform(X_val)\n",
    "X_test = scaler.transform(X_test)\n"
   ]
  },
  {
   "cell_type": "code",
   "execution_count": 8,
   "metadata": {
    "executionInfo": {
     "elapsed": 455,
     "status": "ok",
     "timestamp": 1726592805710,
     "user": {
      "displayName": "Delower Hossain",
      "userId": "01553421328143772667"
     },
     "user_tz": 300
    },
    "id": "Rl4bN7nDjlfR",
    "tags": []
   },
   "outputs": [
    {
     "name": "stderr",
     "output_type": "stream",
     "text": [
      "2025-03-29 02:55:00.301301: I tensorflow/core/common_runtime/gpu/gpu_device.cc:1929] Created device /job:localhost/replica:0/task:0/device:GPU:0 with 866 MB memory:  -> device: 0, name: NVIDIA A100 80GB PCIe, pci bus id: 0000:81:00.0, compute capability: 8.0\n"
     ]
    }
   ],
   "source": [
    "ds_train = tf.data.Dataset.from_tensor_slices((X_train,y_train)).batch(BATCH_SIZE).shuffle(512,seed= SEED)\n",
    "ds_val = tf.data.Dataset.from_tensor_slices((X_val,y_val)).batch(BATCH_SIZE)"
   ]
  },
  {
   "cell_type": "code",
   "execution_count": 9,
   "metadata": {
    "executionInfo": {
     "elapsed": 6,
     "status": "ok",
     "timestamp": 1726592805711,
     "user": {
      "displayName": "Delower Hossain",
      "userId": "01553421328143772667"
     },
     "user_tz": 300
    },
    "id": "3oLGi4w5JsQR",
    "tags": []
   },
   "outputs": [],
   "source": [
    "# def build_classification_model(input_size: int, num_classes: int) -> keras.Model:\n",
    "#   inputs = x = keras.Input(shape = [input_size])\n",
    "#   x = layers.Dense(input_size, activation='relu')(x)\n",
    "#   x = layers.Dense(input_size//2, activation='relu')(x)\n",
    "#   x = layers.Dense(num_classes, activation='softmax')(x)\n",
    "#   return keras.Model(inputs=[inputs], outputs=x)\n",
    "\n",
    "\n",
    "class MLP(tf.keras.Model):\n",
    "    \"\"\"Model that returns logits.\"\"\"\n",
    "    def __init__(self, n_classes, hidden_layer_sizes=(768,384,192)):\n",
    "        super(MLP, self).__init__()\n",
    "        self.denses = [tf.keras.layers.Dense(s, activation=\"relu\") for s in hidden_layer_sizes]\n",
    "        self.dense_class = tf.keras.layers.Dense(n_classes)\n",
    "        self.dropout = tf.keras.layers.Dropout(0.25)\n",
    "\n",
    "    def call(self, inputs, training=False):\n",
    "        x = inputs\n",
    "        for dense in self.denses:\n",
    "            x = dense(x)\n",
    "            x = self.dropout(x, training=training)\n",
    "        return self.dense_class(x)"
   ]
  },
  {
   "cell_type": "code",
   "execution_count": 10,
   "metadata": {
    "executionInfo": {
     "elapsed": 5,
     "status": "ok",
     "timestamp": 1726592805711,
     "user": {
      "displayName": "Delower Hossain",
      "userId": "01553421328143772667"
     },
     "user_tz": 300
    },
    "id": "kORA1Akl5GsG",
    "tags": []
   },
   "outputs": [],
   "source": [
    "# Give your model a different name, as you have already used the variable name 'model'\n",
    "classifier = MLP(2)\n",
    "classifier.compile(loss = tf.keras.losses.SparseCategoricalCrossentropy(from_logits=True),\n",
    "                   optimizer = tf.keras.optimizers.Adam(learning_rate=LR),\n",
    "                   metrics=['accuracy'])"
   ]
  },
  {
   "cell_type": "code",
   "execution_count": 11,
   "metadata": {
    "colab": {
     "base_uri": "https://localhost:8080/"
    },
    "executionInfo": {
     "elapsed": 183625,
     "status": "ok",
     "timestamp": 1726592989330,
     "user": {
      "displayName": "Delower Hossain",
      "userId": "01553421328143772667"
     },
     "user_tz": 300
    },
    "id": "bGgvMZGfJ1A4",
    "outputId": "794dd876-043c-4903-82c1-f1bc793cd999",
    "scrolled": true,
    "tags": []
   },
   "outputs": [
    {
     "name": "stdout",
     "output_type": "stream",
     "text": [
      "Epoch 1/100\n"
     ]
    },
    {
     "name": "stderr",
     "output_type": "stream",
     "text": [
      "2025-03-29 02:55:06.946958: I external/local_xla/xla/service/service.cc:168] XLA service 0x2aacba140ca0 initialized for platform CUDA (this does not guarantee that XLA will be used). Devices:\n",
      "2025-03-29 02:55:06.947004: I external/local_xla/xla/service/service.cc:176]   StreamExecutor device (0): NVIDIA A100 80GB PCIe, Compute Capability 8.0\n",
      "2025-03-29 02:55:06.959268: I tensorflow/compiler/mlir/tensorflow/utils/dump_mlir_util.cc:269] disabling MLIR crash reproducer, set env var `MLIR_CRASH_REPRODUCER_DIRECTORY` to enable.\n",
      "2025-03-29 02:55:07.109359: I external/local_xla/xla/stream_executor/cuda/cuda_dnn.cc:454] Loaded cuDNN version 8904\n",
      "WARNING: All log messages before absl::InitializeLog() is called are written to STDERR\n",
      "I0000 00:00:1743234907.279666   61992 device_compiler.h:186] Compiled cluster using XLA!  This line is logged at most once for the lifetime of the process.\n"
     ]
    },
    {
     "name": "stdout",
     "output_type": "stream",
     "text": [
      "39/39 [==============================] - 5s 6ms/step - loss: 0.8385 - accuracy: 0.5629 - val_loss: 0.5276 - val_accuracy: 0.7605\n",
      "Epoch 2/100\n",
      "39/39 [==============================] - 0s 3ms/step - loss: 0.6521 - accuracy: 0.6613 - val_loss: 0.4490 - val_accuracy: 0.8137\n",
      "Epoch 3/100\n",
      "39/39 [==============================] - 0s 3ms/step - loss: 0.5499 - accuracy: 0.7335 - val_loss: 0.3908 - val_accuracy: 0.8517\n",
      "Epoch 4/100\n",
      "39/39 [==============================] - 0s 3ms/step - loss: 0.4787 - accuracy: 0.7804 - val_loss: 0.3517 - val_accuracy: 0.8783\n",
      "Epoch 5/100\n",
      "39/39 [==============================] - 0s 3ms/step - loss: 0.4380 - accuracy: 0.8055 - val_loss: 0.3177 - val_accuracy: 0.8783\n",
      "Epoch 6/100\n",
      "39/39 [==============================] - 0s 3ms/step - loss: 0.3909 - accuracy: 0.8314 - val_loss: 0.2941 - val_accuracy: 0.8859\n",
      "Epoch 7/100\n",
      "39/39 [==============================] - 0s 3ms/step - loss: 0.3546 - accuracy: 0.8564 - val_loss: 0.2713 - val_accuracy: 0.8935\n",
      "Epoch 8/100\n",
      "39/39 [==============================] - 0s 3ms/step - loss: 0.3206 - accuracy: 0.8717 - val_loss: 0.2525 - val_accuracy: 0.8973\n",
      "Epoch 9/100\n",
      "39/39 [==============================] - 0s 3ms/step - loss: 0.3034 - accuracy: 0.8825 - val_loss: 0.2357 - val_accuracy: 0.9087\n",
      "Epoch 10/100\n",
      "39/39 [==============================] - 0s 3ms/step - loss: 0.2742 - accuracy: 0.8955 - val_loss: 0.2190 - val_accuracy: 0.9202\n",
      "Epoch 11/100\n",
      "39/39 [==============================] - 0s 3ms/step - loss: 0.2554 - accuracy: 0.9040 - val_loss: 0.2065 - val_accuracy: 0.9202\n",
      "Epoch 12/100\n",
      "39/39 [==============================] - 0s 3ms/step - loss: 0.2427 - accuracy: 0.9102 - val_loss: 0.1937 - val_accuracy: 0.9278\n",
      "Epoch 13/100\n",
      "39/39 [==============================] - 0s 3ms/step - loss: 0.2139 - accuracy: 0.9208 - val_loss: 0.1848 - val_accuracy: 0.9316\n",
      "Epoch 14/100\n",
      "39/39 [==============================] - 0s 3ms/step - loss: 0.1975 - accuracy: 0.9310 - val_loss: 0.1770 - val_accuracy: 0.9354\n",
      "Epoch 15/100\n",
      "39/39 [==============================] - 0s 3ms/step - loss: 0.1862 - accuracy: 0.9306 - val_loss: 0.1664 - val_accuracy: 0.9430\n",
      "Epoch 16/100\n",
      "39/39 [==============================] - 0s 3ms/step - loss: 0.1801 - accuracy: 0.9354 - val_loss: 0.1581 - val_accuracy: 0.9468\n",
      "Epoch 17/100\n",
      "39/39 [==============================] - 0s 3ms/step - loss: 0.1655 - accuracy: 0.9414 - val_loss: 0.1510 - val_accuracy: 0.9468\n",
      "Epoch 18/100\n",
      "39/39 [==============================] - 0s 3ms/step - loss: 0.1521 - accuracy: 0.9485 - val_loss: 0.1430 - val_accuracy: 0.9544\n",
      "Epoch 19/100\n",
      "39/39 [==============================] - 0s 3ms/step - loss: 0.1503 - accuracy: 0.9507 - val_loss: 0.1387 - val_accuracy: 0.9544\n",
      "Epoch 20/100\n",
      "39/39 [==============================] - 0s 3ms/step - loss: 0.1360 - accuracy: 0.9559 - val_loss: 0.1347 - val_accuracy: 0.9582\n",
      "Epoch 21/100\n",
      "39/39 [==============================] - 0s 3ms/step - loss: 0.1299 - accuracy: 0.9559 - val_loss: 0.1308 - val_accuracy: 0.9620\n",
      "Epoch 22/100\n",
      "39/39 [==============================] - 0s 3ms/step - loss: 0.1251 - accuracy: 0.9537 - val_loss: 0.1246 - val_accuracy: 0.9658\n",
      "Epoch 23/100\n",
      "39/39 [==============================] - 0s 3ms/step - loss: 0.1108 - accuracy: 0.9597 - val_loss: 0.1209 - val_accuracy: 0.9658\n",
      "Epoch 24/100\n",
      "39/39 [==============================] - 0s 3ms/step - loss: 0.1073 - accuracy: 0.9633 - val_loss: 0.1152 - val_accuracy: 0.9696\n",
      "Epoch 25/100\n",
      "39/39 [==============================] - 0s 3ms/step - loss: 0.1072 - accuracy: 0.9653 - val_loss: 0.1134 - val_accuracy: 0.9734\n",
      "Epoch 26/100\n",
      "39/39 [==============================] - 0s 3ms/step - loss: 0.0983 - accuracy: 0.9685 - val_loss: 0.1104 - val_accuracy: 0.9734\n",
      "Epoch 27/100\n",
      "39/39 [==============================] - 0s 3ms/step - loss: 0.0889 - accuracy: 0.9711 - val_loss: 0.1092 - val_accuracy: 0.9696\n",
      "Epoch 28/100\n",
      "39/39 [==============================] - 0s 3ms/step - loss: 0.0861 - accuracy: 0.9719 - val_loss: 0.1063 - val_accuracy: 0.9696\n",
      "Epoch 29/100\n",
      "39/39 [==============================] - 0s 3ms/step - loss: 0.0813 - accuracy: 0.9751 - val_loss: 0.1059 - val_accuracy: 0.9696\n",
      "Epoch 30/100\n",
      "39/39 [==============================] - 0s 3ms/step - loss: 0.0789 - accuracy: 0.9747 - val_loss: 0.1034 - val_accuracy: 0.9734\n",
      "Epoch 31/100\n",
      "39/39 [==============================] - 0s 3ms/step - loss: 0.0767 - accuracy: 0.9747 - val_loss: 0.1012 - val_accuracy: 0.9734\n",
      "Epoch 32/100\n",
      "39/39 [==============================] - 0s 3ms/step - loss: 0.0708 - accuracy: 0.9761 - val_loss: 0.0986 - val_accuracy: 0.9734\n",
      "Epoch 33/100\n",
      "39/39 [==============================] - 0s 3ms/step - loss: 0.0684 - accuracy: 0.9771 - val_loss: 0.0977 - val_accuracy: 0.9734\n",
      "Epoch 34/100\n",
      "39/39 [==============================] - 0s 3ms/step - loss: 0.0648 - accuracy: 0.9779 - val_loss: 0.0994 - val_accuracy: 0.9734\n",
      "Epoch 35/100\n",
      "39/39 [==============================] - 0s 3ms/step - loss: 0.0663 - accuracy: 0.9791 - val_loss: 0.0981 - val_accuracy: 0.9734\n",
      "Epoch 36/100\n",
      "39/39 [==============================] - 0s 3ms/step - loss: 0.0587 - accuracy: 0.9816 - val_loss: 0.0949 - val_accuracy: 0.9734\n",
      "Epoch 37/100\n",
      "39/39 [==============================] - 0s 3ms/step - loss: 0.0542 - accuracy: 0.9846 - val_loss: 0.0918 - val_accuracy: 0.9772\n",
      "Epoch 38/100\n",
      "39/39 [==============================] - 0s 3ms/step - loss: 0.0544 - accuracy: 0.9838 - val_loss: 0.0913 - val_accuracy: 0.9734\n",
      "Epoch 39/100\n",
      "39/39 [==============================] - 0s 3ms/step - loss: 0.0550 - accuracy: 0.9836 - val_loss: 0.0903 - val_accuracy: 0.9734\n",
      "Epoch 40/100\n",
      "39/39 [==============================] - 0s 3ms/step - loss: 0.0518 - accuracy: 0.9844 - val_loss: 0.0896 - val_accuracy: 0.9734\n",
      "Epoch 41/100\n",
      "39/39 [==============================] - 0s 3ms/step - loss: 0.0487 - accuracy: 0.9858 - val_loss: 0.0887 - val_accuracy: 0.9734\n",
      "Epoch 42/100\n",
      "39/39 [==============================] - 0s 3ms/step - loss: 0.0496 - accuracy: 0.9844 - val_loss: 0.0893 - val_accuracy: 0.9734\n",
      "Epoch 43/100\n",
      "39/39 [==============================] - 0s 3ms/step - loss: 0.0436 - accuracy: 0.9868 - val_loss: 0.0913 - val_accuracy: 0.9734\n",
      "Epoch 44/100\n",
      "39/39 [==============================] - 0s 3ms/step - loss: 0.0447 - accuracy: 0.9874 - val_loss: 0.0900 - val_accuracy: 0.9734\n",
      "Epoch 45/100\n",
      "39/39 [==============================] - 0s 3ms/step - loss: 0.0440 - accuracy: 0.9868 - val_loss: 0.0897 - val_accuracy: 0.9734\n",
      "Epoch 46/100\n",
      "39/39 [==============================] - 0s 3ms/step - loss: 0.0390 - accuracy: 0.9886 - val_loss: 0.0872 - val_accuracy: 0.9772\n",
      "Epoch 47/100\n",
      "39/39 [==============================] - 0s 3ms/step - loss: 0.0397 - accuracy: 0.9890 - val_loss: 0.0863 - val_accuracy: 0.9772\n",
      "Epoch 48/100\n",
      "39/39 [==============================] - 0s 3ms/step - loss: 0.0424 - accuracy: 0.9866 - val_loss: 0.0865 - val_accuracy: 0.9772\n",
      "Epoch 49/100\n",
      "39/39 [==============================] - 0s 3ms/step - loss: 0.0389 - accuracy: 0.9876 - val_loss: 0.0851 - val_accuracy: 0.9772\n",
      "Epoch 50/100\n",
      "39/39 [==============================] - 0s 3ms/step - loss: 0.0365 - accuracy: 0.9890 - val_loss: 0.0861 - val_accuracy: 0.9734\n",
      "Epoch 51/100\n",
      "39/39 [==============================] - 0s 3ms/step - loss: 0.0331 - accuracy: 0.9918 - val_loss: 0.0875 - val_accuracy: 0.9734\n",
      "Epoch 52/100\n",
      "39/39 [==============================] - 0s 3ms/step - loss: 0.0347 - accuracy: 0.9896 - val_loss: 0.0906 - val_accuracy: 0.9734\n",
      "Epoch 53/100\n",
      "39/39 [==============================] - 0s 3ms/step - loss: 0.0345 - accuracy: 0.9888 - val_loss: 0.0869 - val_accuracy: 0.9734\n",
      "Epoch 54/100\n",
      "39/39 [==============================] - 0s 3ms/step - loss: 0.0328 - accuracy: 0.9898 - val_loss: 0.0893 - val_accuracy: 0.9734\n",
      "Epoch 55/100\n",
      "39/39 [==============================] - 0s 3ms/step - loss: 0.0308 - accuracy: 0.9906 - val_loss: 0.0856 - val_accuracy: 0.9734\n",
      "Epoch 56/100\n",
      "39/39 [==============================] - 0s 3ms/step - loss: 0.0281 - accuracy: 0.9916 - val_loss: 0.0862 - val_accuracy: 0.9810\n",
      "Epoch 57/100\n",
      "39/39 [==============================] - 0s 3ms/step - loss: 0.0279 - accuracy: 0.9910 - val_loss: 0.0870 - val_accuracy: 0.9734\n",
      "Epoch 58/100\n",
      "39/39 [==============================] - 0s 3ms/step - loss: 0.0302 - accuracy: 0.9902 - val_loss: 0.0895 - val_accuracy: 0.9734\n",
      "Epoch 59/100\n",
      "39/39 [==============================] - 0s 3ms/step - loss: 0.0248 - accuracy: 0.9926 - val_loss: 0.0910 - val_accuracy: 0.9734\n",
      "Epoch 60/100\n",
      "39/39 [==============================] - 0s 3ms/step - loss: 0.0295 - accuracy: 0.9912 - val_loss: 0.0875 - val_accuracy: 0.9772\n",
      "Epoch 61/100\n",
      "39/39 [==============================] - 0s 3ms/step - loss: 0.0280 - accuracy: 0.9914 - val_loss: 0.0905 - val_accuracy: 0.9772\n",
      "Epoch 62/100\n",
      "39/39 [==============================] - 0s 3ms/step - loss: 0.0271 - accuracy: 0.9916 - val_loss: 0.0901 - val_accuracy: 0.9772\n",
      "Epoch 63/100\n",
      "39/39 [==============================] - 0s 3ms/step - loss: 0.0287 - accuracy: 0.9906 - val_loss: 0.0928 - val_accuracy: 0.9772\n",
      "Epoch 64/100\n",
      "39/39 [==============================] - 0s 3ms/step - loss: 0.0268 - accuracy: 0.9914 - val_loss: 0.0941 - val_accuracy: 0.9772\n",
      "Epoch 65/100\n",
      "39/39 [==============================] - 0s 3ms/step - loss: 0.0274 - accuracy: 0.9914 - val_loss: 0.0969 - val_accuracy: 0.9772\n",
      "Epoch 66/100\n",
      "39/39 [==============================] - 0s 3ms/step - loss: 0.0251 - accuracy: 0.9912 - val_loss: 0.0939 - val_accuracy: 0.9772\n",
      "Epoch 67/100\n",
      "39/39 [==============================] - 0s 3ms/step - loss: 0.0243 - accuracy: 0.9924 - val_loss: 0.0988 - val_accuracy: 0.9772\n",
      "Epoch 68/100\n",
      "39/39 [==============================] - 0s 3ms/step - loss: 0.0246 - accuracy: 0.9924 - val_loss: 0.0979 - val_accuracy: 0.9772\n",
      "Epoch 69/100\n",
      "39/39 [==============================] - 0s 3ms/step - loss: 0.0262 - accuracy: 0.9900 - val_loss: 0.1010 - val_accuracy: 0.9734\n",
      "Epoch 70/100\n",
      "39/39 [==============================] - 0s 3ms/step - loss: 0.0261 - accuracy: 0.9922 - val_loss: 0.0974 - val_accuracy: 0.9772\n",
      "Epoch 71/100\n",
      "39/39 [==============================] - 0s 3ms/step - loss: 0.0197 - accuracy: 0.9930 - val_loss: 0.0954 - val_accuracy: 0.9734\n",
      "Epoch 72/100\n",
      "39/39 [==============================] - 0s 3ms/step - loss: 0.0229 - accuracy: 0.9920 - val_loss: 0.0977 - val_accuracy: 0.9734\n",
      "Epoch 73/100\n",
      "39/39 [==============================] - 0s 3ms/step - loss: 0.0240 - accuracy: 0.9924 - val_loss: 0.0950 - val_accuracy: 0.9734\n",
      "Epoch 74/100\n",
      "39/39 [==============================] - 0s 3ms/step - loss: 0.0224 - accuracy: 0.9916 - val_loss: 0.0948 - val_accuracy: 0.9734\n",
      "Epoch 75/100\n",
      "39/39 [==============================] - 0s 3ms/step - loss: 0.0229 - accuracy: 0.9924 - val_loss: 0.0947 - val_accuracy: 0.9734\n",
      "Epoch 76/100\n",
      "39/39 [==============================] - 0s 3ms/step - loss: 0.0212 - accuracy: 0.9918 - val_loss: 0.0953 - val_accuracy: 0.9772\n",
      "Epoch 77/100\n",
      "39/39 [==============================] - 0s 3ms/step - loss: 0.0190 - accuracy: 0.9946 - val_loss: 0.0943 - val_accuracy: 0.9810\n",
      "Epoch 78/100\n",
      "39/39 [==============================] - 0s 3ms/step - loss: 0.0191 - accuracy: 0.9934 - val_loss: 0.0940 - val_accuracy: 0.9810\n",
      "Epoch 79/100\n",
      "39/39 [==============================] - 0s 3ms/step - loss: 0.0222 - accuracy: 0.9922 - val_loss: 0.0941 - val_accuracy: 0.9734\n",
      "Epoch 80/100\n",
      "39/39 [==============================] - 0s 3ms/step - loss: 0.0218 - accuracy: 0.9930 - val_loss: 0.0940 - val_accuracy: 0.9772\n",
      "Epoch 81/100\n",
      "39/39 [==============================] - 0s 4ms/step - loss: 0.0203 - accuracy: 0.9940 - val_loss: 0.0913 - val_accuracy: 0.9734\n",
      "Epoch 82/100\n",
      "39/39 [==============================] - 0s 3ms/step - loss: 0.0198 - accuracy: 0.9928 - val_loss: 0.0931 - val_accuracy: 0.9734\n",
      "Epoch 83/100\n",
      "39/39 [==============================] - 0s 3ms/step - loss: 0.0197 - accuracy: 0.9928 - val_loss: 0.0949 - val_accuracy: 0.9734\n",
      "Epoch 84/100\n",
      "39/39 [==============================] - 0s 3ms/step - loss: 0.0197 - accuracy: 0.9930 - val_loss: 0.0959 - val_accuracy: 0.9734\n",
      "Epoch 85/100\n",
      "39/39 [==============================] - 0s 3ms/step - loss: 0.0192 - accuracy: 0.9934 - val_loss: 0.0963 - val_accuracy: 0.9734\n",
      "Epoch 86/100\n",
      "39/39 [==============================] - 0s 3ms/step - loss: 0.0173 - accuracy: 0.9942 - val_loss: 0.1002 - val_accuracy: 0.9734\n",
      "Epoch 87/100\n",
      "39/39 [==============================] - 0s 3ms/step - loss: 0.0172 - accuracy: 0.9944 - val_loss: 0.0996 - val_accuracy: 0.9734\n",
      "Epoch 88/100\n",
      "39/39 [==============================] - 0s 3ms/step - loss: 0.0169 - accuracy: 0.9942 - val_loss: 0.0974 - val_accuracy: 0.9734\n",
      "Epoch 89/100\n",
      "39/39 [==============================] - 0s 3ms/step - loss: 0.0192 - accuracy: 0.9930 - val_loss: 0.0983 - val_accuracy: 0.9734\n",
      "Epoch 90/100\n",
      "39/39 [==============================] - 0s 3ms/step - loss: 0.0167 - accuracy: 0.9940 - val_loss: 0.0965 - val_accuracy: 0.9734\n",
      "Epoch 91/100\n",
      "39/39 [==============================] - 0s 3ms/step - loss: 0.0192 - accuracy: 0.9938 - val_loss: 0.0977 - val_accuracy: 0.9772\n",
      "Epoch 92/100\n",
      "39/39 [==============================] - 0s 3ms/step - loss: 0.0156 - accuracy: 0.9948 - val_loss: 0.0972 - val_accuracy: 0.9734\n",
      "Epoch 93/100\n",
      "39/39 [==============================] - 0s 3ms/step - loss: 0.0188 - accuracy: 0.9936 - val_loss: 0.0982 - val_accuracy: 0.9772\n",
      "Epoch 94/100\n",
      "39/39 [==============================] - 0s 3ms/step - loss: 0.0204 - accuracy: 0.9922 - val_loss: 0.0984 - val_accuracy: 0.9734\n",
      "Epoch 95/100\n",
      "39/39 [==============================] - 0s 3ms/step - loss: 0.0173 - accuracy: 0.9938 - val_loss: 0.0984 - val_accuracy: 0.9734\n",
      "Epoch 96/100\n",
      "39/39 [==============================] - 0s 3ms/step - loss: 0.0190 - accuracy: 0.9940 - val_loss: 0.0978 - val_accuracy: 0.9734\n",
      "Epoch 97/100\n",
      "39/39 [==============================] - 0s 3ms/step - loss: 0.0167 - accuracy: 0.9940 - val_loss: 0.0995 - val_accuracy: 0.9734\n",
      "Epoch 98/100\n",
      "39/39 [==============================] - 0s 3ms/step - loss: 0.0182 - accuracy: 0.9924 - val_loss: 0.0993 - val_accuracy: 0.9734\n",
      "Epoch 99/100\n",
      "39/39 [==============================] - 0s 3ms/step - loss: 0.0160 - accuracy: 0.9952 - val_loss: 0.0991 - val_accuracy: 0.9734\n",
      "Epoch 100/100\n",
      "39/39 [==============================] - 0s 3ms/step - loss: 0.0162 - accuracy: 0.9936 - val_loss: 0.0995 - val_accuracy: 0.9734\n"
     ]
    }
   ],
   "source": [
    "history = classifier.fit(ds_train,\n",
    "                         validation_data=ds_val,\n",
    "                         epochs=100,)"
   ]
  },
  {
   "cell_type": "code",
   "execution_count": 12,
   "metadata": {
    "executionInfo": {
     "elapsed": 435,
     "status": "ok",
     "timestamp": 1726592989754,
     "user": {
      "displayName": "Delower Hossain",
      "userId": "01553421328143772667"
     },
     "user_tz": 300
    },
    "id": "aOdfteum6S0H",
    "tags": []
   },
   "outputs": [],
   "source": [
    "# Model save weights\n",
    "classifier.save(os.path.join(ROOT_DIR,f'weights/DPP4_{MODEL_NAME}_CDKExetended-ECFP_Weights.keras'))"
   ]
  },
  {
   "cell_type": "markdown",
   "metadata": {
    "id": "4d93b292"
   },
   "source": [
    "## Evaluation:\n"
   ]
  },
  {
   "cell_type": "code",
   "execution_count": 13,
   "metadata": {
    "colab": {
     "base_uri": "https://localhost:8080/"
    },
    "executionInfo": {
     "elapsed": 437,
     "status": "ok",
     "timestamp": 1726592990187,
     "user": {
      "displayName": "Delower Hossain",
      "userId": "01553421328143772667"
     },
     "user_tz": 300
    },
    "id": "GBl6eBXc9AgI",
    "outputId": "1c675444-df8e-437e-e639-e1c6044ffbcb",
    "tags": []
   },
   "outputs": [
    {
     "name": "stdout",
     "output_type": "stream",
     "text": [
      "42/42 [==============================] - 0s 3ms/step\n"
     ]
    }
   ],
   "source": [
    "y_pred_prob = tf.nn.softmax(classifier.predict(X_test)).numpy()\n",
    "y_pred = y_pred_prob.argmax(-1)"
   ]
  },
  {
   "cell_type": "code",
   "execution_count": 14,
   "metadata": {
    "executionInfo": {
     "elapsed": 5,
     "status": "ok",
     "timestamp": 1726592990187,
     "user": {
      "displayName": "Delower Hossain",
      "userId": "01553421328143772667"
     },
     "user_tz": 300
    },
    "id": "KnMXBsVz9Gkw",
    "tags": []
   },
   "outputs": [],
   "source": [
    "np.savez(\n",
    "    os.path.join(ROOT_DIR,'results',f'DPP4-{MODEL_NAME}-CDKExetended-ECFP-Preditions'),\n",
    "    y_true = y_test,\n",
    "    y_pred_prob = y_pred_prob,\n",
    "    )"
   ]
  },
  {
   "cell_type": "code",
   "execution_count": 15,
   "metadata": {
    "colab": {
     "base_uri": "https://localhost:8080/"
    },
    "executionInfo": {
     "elapsed": 221,
     "status": "ok",
     "timestamp": 1726592990403,
     "user": {
      "displayName": "Delower Hossain",
      "userId": "01553421328143772667"
     },
     "user_tz": 300
    },
    "id": "f50b2336",
    "outputId": "6ecd623e-3bb9-46b9-cf3d-dbd23ef3c715",
    "tags": []
   },
   "outputs": [
    {
     "name": "stdout",
     "output_type": "stream",
     "text": [
      "accuracy_score: 0.9695354150799695\n",
      "roc_auc_score: 0.9691328990106054\n",
      "matthews_corrcoef: 0.9385359779837497\n",
      "F1 Score: 0.9692657007092531\n"
     ]
    }
   ],
   "source": [
    "print(f\"accuracy_score: {accuracy_score(y_test,y_pred)}\")\n",
    "print(f\"roc_auc_score: {roc_auc_score(y_test,y_pred)}\")\n",
    "print(f\"matthews_corrcoef: {matthews_corrcoef(y_test,y_pred)}\")\n",
    "print(f\"F1 Score: {f1_score(y_test,y_pred,average='macro')}\")"
   ]
  },
  {
   "cell_type": "code",
   "execution_count": 16,
   "metadata": {
    "colab": {
     "base_uri": "https://localhost:8080/"
    },
    "executionInfo": {
     "elapsed": 10,
     "status": "ok",
     "timestamp": 1726592990403,
     "user": {
      "displayName": "Delower Hossain",
      "userId": "01553421328143772667"
     },
     "user_tz": 300
    },
    "id": "13476553",
    "outputId": "a750a313-e985-4a64-c360-1e31c09a7302",
    "tags": []
   },
   "outputs": [
    {
     "name": "stdout",
     "output_type": "stream",
     "text": [
      "              precision    recall  f1-score   support\n",
      "\n",
      "           0       0.97      0.97      0.97       717\n",
      "           1       0.97      0.96      0.97       596\n",
      "\n",
      "    accuracy                           0.97      1313\n",
      "   macro avg       0.97      0.97      0.97      1313\n",
      "weighted avg       0.97      0.97      0.97      1313\n",
      "\n"
     ]
    }
   ],
   "source": [
    "print(classification_report(y_test,y_pred))"
   ]
  },
  {
   "cell_type": "code",
   "execution_count": 20,
   "metadata": {
    "colab": {
     "base_uri": "https://localhost:8080/",
     "height": 472
    },
    "executionInfo": {
     "elapsed": 254,
     "status": "ok",
     "timestamp": 1726592990648,
     "user": {
      "displayName": "Delower Hossain",
      "userId": "01553421328143772667"
     },
     "user_tz": 300
    },
    "id": "whPYeGRG-qWW",
    "outputId": "101a1515-704c-43ec-c192-df5fe539c6bd",
    "tags": []
   },
   "outputs": [
    {
     "data": {
      "image/png": "[encoded data removed]",
      "text/plain": [
       "<Figure size 640x480 with 2 Axes>"
      ]
     },
     "metadata": {},
     "output_type": "display_data"
    }
   ],
   "source": [
    "cm = confusion_matrix(y_test, y_pred)\n",
    "\n",
    "# 6. Plot the confusion matrix\n",
    "disp = ConfusionMatrixDisplay(confusion_matrix=cm,display_labels = ['Active', 'Inactive'])\n",
    "disp.plot(cmap=plt.cm.Blues)\n",
    "plt.title(f\"DNN CDKExetended-ECFP Confusion Matrix\")\n",
    "plt.show()"
   ]
  },
  {
   "cell_type": "markdown",
   "metadata": {
    "id": "07895a44"
   },
   "source": [
    "## Metrics results & Plot"
   ]
  },
  {
   "cell_type": "code",
   "execution_count": 18,
   "metadata": {
    "executionInfo": {
     "elapsed": 11,
     "status": "ok",
     "timestamp": 1726592990648,
     "user": {
      "displayName": "Delower Hossain",
      "userId": "01553421328143772667"
     },
     "user_tz": 300
    },
    "id": "K-yULtdt7UaY",
    "tags": []
   },
   "outputs": [],
   "source": [
    "hist = history.history"
   ]
  },
  {
   "cell_type": "code",
   "execution_count": 19,
   "metadata": {
    "colab": {
     "base_uri": "https://localhost:8080/",
     "height": 927
    },
    "executionInfo": {
     "elapsed": 834,
     "status": "ok",
     "timestamp": 1726592991472,
     "user": {
      "displayName": "Delower Hossain",
      "userId": "01553421328143772667"
     },
     "user_tz": 300
    },
    "id": "9b1e9ade",
    "outputId": "e31437f3-ec22-44c9-959a-db42ed85d105",
    "tags": []
   },
   "outputs": [
    {
     "data": {
      "image/png": "[encoded data removed]",
      "text/plain": [
       "<Figure size 640x480 with 1 Axes>"
      ]
     },
     "metadata": {},
     "output_type": "display_data"
    },
    {
     "data": {
      "image/png": "[encoded data removed]",
      "text/plain": [
       "<Figure size 640x480 with 1 Axes>"
      ]
     },
     "metadata": {},
     "output_type": "display_data"
    }
   ],
   "source": [
    "plt.title(f'{MODEL_NAME.upper()} CDKExetended-ECFP Training and Validation Accuracy')\n",
    "plt.plot(hist['accuracy'],label= 'Training Accuracy')\n",
    "plt.plot(hist['val_accuracy'],label= 'Valdidation Accuracy')\n",
    "plt.ylabel('Accuracy')\n",
    "plt.xlabel(\"Epoch\")\n",
    "plt.legend()\n",
    "plt.show()\n",
    "plt.title(f'{MODEL_NAME.upper()}  CDKExetended-ECFP Training and Validation Loss')\n",
    "plt.plot(hist['loss'],label= 'Training Loss')\n",
    "plt.plot(hist['val_loss'],label= 'Valdidation Loss')\n",
    "plt.ylabel('Loss')\n",
    "plt.xlabel(\"Epoch\")\n",
    "plt.legend()\n",
    "plt.show()"
   ]
  },
  {
   "cell_type": "code",
   "execution_count": null,
   "metadata": {
    "executionInfo": {
     "elapsed": 9,
     "status": "ok",
     "timestamp": 1726592991472,
     "user": {
      "displayName": "Delower Hossain",
      "userId": "01553421328143772667"
     },
     "user_tz": 300
    },
    "id": "oRGPB6Y8U883"
   },
   "outputs": [],
   "source": []
  },
  {
   "cell_type": "code",
   "execution_count": null,
   "metadata": {
    "executionInfo": {
     "elapsed": 9,
     "status": "ok",
     "timestamp": 1726592991472,
     "user": {
      "displayName": "Delower Hossain",
      "userId": "01553421328143772667"
     },
     "user_tz": 300
    },
    "id": "v9Xe7ha43Vm_"
   },
   "outputs": [],
   "source": []
  }
 ],
 "metadata": {
  "colab": {
   "provenance": []
  },
  "google": {
   "image_path": "/examples/train_text_classifier_embeddings_files/output_3ae76701e178_0.png",
   "keywords": [
    "examples",
    "googleai",
    "samplecode",
    "python",
    "embed"
   ]
  },
  "kernelspec": {
   "display_name": "Python [conda env:.conda-molgraph_tf]",
   "language": "python",
   "name": "conda-env-.conda-molgraph_tf-py"
  },
  "language_info": {
   "codemirror_mode": {
    "name": "ipython",
    "version": 3
   },
   "file_extension": ".py",
   "mimetype": "text/x-python",
   "name": "python",
   "nbconvert_exporter": "python",
   "pygments_lexer": "ipython3",
   "version": "3.10.16"
  }
 },
 "nbformat": 4,
 "nbformat_minor": 4
}
